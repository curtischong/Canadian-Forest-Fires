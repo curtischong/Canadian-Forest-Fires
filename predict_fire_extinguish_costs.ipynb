{
 "cells": [
  {
   "cell_type": "code",
   "execution_count": 323,
   "metadata": {
    "collapsed": true
   },
   "outputs": [],
   "source": [
    "import numpy as np\n",
    "import matplotlib.pyplot as plt\n",
    "import sklearn as sk\n",
    "import pandas as pd\n",
    "import math\n",
    "from sklearn import linear_model\n",
    "from sklearn.ensemble import RandomForestClassifier\n",
    "from sklearn.metrics import confusion_matrix\n",
    "from sklearn.linear_model import LinearRegression\n",
    "from scipy.stats import linregress\n",
    "from scipy import stats"
   ]
  },
  {
   "cell_type": "code",
   "execution_count": 324,
   "metadata": {
    "collapsed": true
   },
   "outputs": [],
   "source": [
    "final_features_df = pd.read_pickle(\"final_features_df\")"
   ]
  },
  {
   "cell_type": "code",
   "execution_count": 325,
   "metadata": {
    "collapsed": false
   },
   "outputs": [
    {
     "name": "stderr",
     "output_type": "stream",
     "text": [
      "/usr/local/lib/python3.5/dist-packages/ipykernel/__main__.py:1: FutureWarning: convert_objects is deprecated.  Use the data-type specific converters pd.to_datetime, pd.to_timedelta and pd.to_numeric.\n",
      "  if __name__ == '__main__':\n"
     ]
    }
   ],
   "source": [
    "final_features_df = final_features_df.convert_objects(convert_numeric=True)"
   ]
  },
  {
   "cell_type": "code",
   "execution_count": 326,
   "metadata": {
    "collapsed": false
   },
   "outputs": [],
   "source": [
    "final_features_df = final_features_df[pd.notnull(final_features_df['wind_speed'])]\n",
    "final_features_df = final_features_df[pd.notnull(final_features_df['temp'])]\n",
    "final_features_df = final_features_df[pd.notnull(final_features_df['size_ha'])]\n",
    "final_features_df = final_features_df[pd.notnull(final_features_df['month'])]\n",
    "final_features_df = final_features_df[pd.notnull(final_features_df['burn_rate'])]\n",
    "final_features_df = final_features_df.dropna()"
   ]
  },
  {
   "cell_type": "code",
   "execution_count": 327,
   "metadata": {
    "collapsed": false
   },
   "outputs": [],
   "source": [
    "final_features_df = final_features_df[final_features_df[\"wind_speed\"] != -9999.9]\n",
    "final_features_df = final_features_df[final_features_df[\"precipitation\"] != -9999.9]\n",
    "final_features_df = final_features_df[final_features_df[\"temp\"] != -9999.9]\n",
    "final_features_df = final_features_df[final_features_df[\"size_ha\"] != -1]"
   ]
  },
  {
   "cell_type": "code",
   "execution_count": 328,
   "metadata": {
    "collapsed": false
   },
   "outputs": [],
   "source": [
    "final_features_df[\"wind_speed\"] = final_features_df[\"wind_speed\"].astype(np.float32)\n",
    "final_features_df[\"temp\"] = final_features_df[\"temp\"].astype(np.float32)\n",
    "final_features_df[\"size_ha\"] = final_features_df[\"size_ha\"].astype(np.float32)\n",
    "final_features_df[\"month\"] = final_features_df[\"month\"].astype(np.float32)\n",
    "final_features_df[\"precipitation\"] = final_features_df[\"precipitation\"].astype(np.float32)\n",
    "final_features_df[\"burn_rate\"] = final_features_df[\"burn_rate\"].astype(np.float32)"
   ]
  },
  {
   "cell_type": "code",
   "execution_count": 329,
   "metadata": {
    "collapsed": false
   },
   "outputs": [
    {
     "data": {
      "text/plain": [
       "fire_id          float64\n",
       "size_ha          float32\n",
       "temp             float32\n",
       "precipitation    float32\n",
       "wind_speed       float32\n",
       "month            float32\n",
       "burn_rate        float32\n",
       "dtype: object"
      ]
     },
     "execution_count": 329,
     "metadata": {},
     "output_type": "execute_result"
    }
   ],
   "source": [
    "final_features_df.dtypes"
   ]
  },
  {
   "cell_type": "code",
   "execution_count": 330,
   "metadata": {
    "collapsed": false
   },
   "outputs": [
    {
     "data": {
      "text/plain": [
       "2.6943023"
      ]
     },
     "execution_count": 330,
     "metadata": {},
     "output_type": "execute_result"
    }
   ],
   "source": [
    "final_features_df[\"temp\"].mean()"
   ]
  },
  {
   "cell_type": "code",
   "execution_count": 331,
   "metadata": {
    "collapsed": false
   },
   "outputs": [
    {
     "data": {
      "text/html": [
       "<div>\n",
       "<table border=\"1\" class=\"dataframe\">\n",
       "  <thead>\n",
       "    <tr style=\"text-align: right;\">\n",
       "      <th></th>\n",
       "      <th>fire_id</th>\n",
       "      <th>size_ha</th>\n",
       "      <th>temp</th>\n",
       "      <th>precipitation</th>\n",
       "      <th>wind_speed</th>\n",
       "      <th>month</th>\n",
       "      <th>burn_rate</th>\n",
       "    </tr>\n",
       "  </thead>\n",
       "  <tbody>\n",
       "    <tr>\n",
       "      <th>131774</th>\n",
       "      <td>10011.0</td>\n",
       "      <td>294.000000</td>\n",
       "      <td>-20.200001</td>\n",
       "      <td>25.799999</td>\n",
       "      <td>14.1</td>\n",
       "      <td>0.0</td>\n",
       "      <td>1.0</td>\n",
       "    </tr>\n",
       "    <tr>\n",
       "      <th>131775</th>\n",
       "      <td>22004.0</td>\n",
       "      <td>245.339996</td>\n",
       "      <td>11.200000</td>\n",
       "      <td>52.299999</td>\n",
       "      <td>11.1</td>\n",
       "      <td>5.0</td>\n",
       "      <td>1.0</td>\n",
       "    </tr>\n",
       "    <tr>\n",
       "      <th>131780</th>\n",
       "      <td>45000.0</td>\n",
       "      <td>1036.000000</td>\n",
       "      <td>11.900000</td>\n",
       "      <td>76.300003</td>\n",
       "      <td>11.0</td>\n",
       "      <td>7.0</td>\n",
       "      <td>1.0</td>\n",
       "    </tr>\n",
       "    <tr>\n",
       "      <th>131781</th>\n",
       "      <td>62006.0</td>\n",
       "      <td>1024.699951</td>\n",
       "      <td>12.000000</td>\n",
       "      <td>68.400002</td>\n",
       "      <td>12.8</td>\n",
       "      <td>7.0</td>\n",
       "      <td>1.0</td>\n",
       "    </tr>\n",
       "    <tr>\n",
       "      <th>239734</th>\n",
       "      <td>1814.0</td>\n",
       "      <td>0.010000</td>\n",
       "      <td>4.800000</td>\n",
       "      <td>59.200001</td>\n",
       "      <td>13.5</td>\n",
       "      <td>8.0</td>\n",
       "      <td>1.0</td>\n",
       "    </tr>\n",
       "  </tbody>\n",
       "</table>\n",
       "</div>"
      ],
      "text/plain": [
       "        fire_id      size_ha       temp  precipitation  wind_speed  month  \\\n",
       "131774  10011.0   294.000000 -20.200001      25.799999        14.1    0.0   \n",
       "131775  22004.0   245.339996  11.200000      52.299999        11.1    5.0   \n",
       "131780  45000.0  1036.000000  11.900000      76.300003        11.0    7.0   \n",
       "131781  62006.0  1024.699951  12.000000      68.400002        12.8    7.0   \n",
       "239734   1814.0     0.010000   4.800000      59.200001        13.5    8.0   \n",
       "\n",
       "        burn_rate  \n",
       "131774        1.0  \n",
       "131775        1.0  \n",
       "131780        1.0  \n",
       "131781        1.0  \n",
       "239734        1.0  "
      ]
     },
     "execution_count": 331,
     "metadata": {},
     "output_type": "execute_result"
    }
   ],
   "source": [
    "final_features_df.head()"
   ]
  },
  {
   "cell_type": "code",
   "execution_count": 332,
   "metadata": {
    "collapsed": false
   },
   "outputs": [
    {
     "data": {
      "text/html": [
       "<div>\n",
       "<table border=\"1\" class=\"dataframe\">\n",
       "  <thead>\n",
       "    <tr style=\"text-align: right;\">\n",
       "      <th></th>\n",
       "      <th>fire_id</th>\n",
       "      <th>size_ha</th>\n",
       "      <th>temp</th>\n",
       "      <th>precipitation</th>\n",
       "      <th>wind_speed</th>\n",
       "      <th>month</th>\n",
       "      <th>burn_rate</th>\n",
       "    </tr>\n",
       "  </thead>\n",
       "  <tbody>\n",
       "    <tr>\n",
       "      <th>131774</th>\n",
       "      <td>10011.0</td>\n",
       "      <td>294.000000</td>\n",
       "      <td>-20.200001</td>\n",
       "      <td>25.799999</td>\n",
       "      <td>14.100000</td>\n",
       "      <td>0.0</td>\n",
       "      <td>1.0</td>\n",
       "    </tr>\n",
       "    <tr>\n",
       "      <th>131775</th>\n",
       "      <td>22004.0</td>\n",
       "      <td>245.339996</td>\n",
       "      <td>11.200000</td>\n",
       "      <td>52.299999</td>\n",
       "      <td>11.100000</td>\n",
       "      <td>5.0</td>\n",
       "      <td>1.0</td>\n",
       "    </tr>\n",
       "    <tr>\n",
       "      <th>131780</th>\n",
       "      <td>45000.0</td>\n",
       "      <td>1036.000000</td>\n",
       "      <td>11.900000</td>\n",
       "      <td>76.300003</td>\n",
       "      <td>11.000000</td>\n",
       "      <td>7.0</td>\n",
       "      <td>1.0</td>\n",
       "    </tr>\n",
       "    <tr>\n",
       "      <th>131781</th>\n",
       "      <td>62006.0</td>\n",
       "      <td>1024.699951</td>\n",
       "      <td>12.000000</td>\n",
       "      <td>68.400002</td>\n",
       "      <td>12.800000</td>\n",
       "      <td>7.0</td>\n",
       "      <td>1.0</td>\n",
       "    </tr>\n",
       "    <tr>\n",
       "      <th>239734</th>\n",
       "      <td>1814.0</td>\n",
       "      <td>0.010000</td>\n",
       "      <td>4.800000</td>\n",
       "      <td>59.200001</td>\n",
       "      <td>13.500000</td>\n",
       "      <td>8.0</td>\n",
       "      <td>1.0</td>\n",
       "    </tr>\n",
       "    <tr>\n",
       "      <th>239828</th>\n",
       "      <td>22.0</td>\n",
       "      <td>3968.000000</td>\n",
       "      <td>10.600000</td>\n",
       "      <td>36.900002</td>\n",
       "      <td>17.100000</td>\n",
       "      <td>8.0</td>\n",
       "      <td>2.0</td>\n",
       "    </tr>\n",
       "    <tr>\n",
       "      <th>239872</th>\n",
       "      <td>16.0</td>\n",
       "      <td>2429.100098</td>\n",
       "      <td>9.500000</td>\n",
       "      <td>36.900002</td>\n",
       "      <td>17.500000</td>\n",
       "      <td>8.0</td>\n",
       "      <td>1.0</td>\n",
       "    </tr>\n",
       "    <tr>\n",
       "      <th>239929</th>\n",
       "      <td>180.0</td>\n",
       "      <td>0.300000</td>\n",
       "      <td>18.100000</td>\n",
       "      <td>81.000000</td>\n",
       "      <td>10.800000</td>\n",
       "      <td>6.0</td>\n",
       "      <td>1.0</td>\n",
       "    </tr>\n",
       "    <tr>\n",
       "      <th>239965</th>\n",
       "      <td>181.0</td>\n",
       "      <td>0.000000</td>\n",
       "      <td>18.100000</td>\n",
       "      <td>81.000000</td>\n",
       "      <td>10.800000</td>\n",
       "      <td>6.0</td>\n",
       "      <td>1.0</td>\n",
       "    </tr>\n",
       "    <tr>\n",
       "      <th>239974</th>\n",
       "      <td>182.0</td>\n",
       "      <td>0.000000</td>\n",
       "      <td>18.100000</td>\n",
       "      <td>81.000000</td>\n",
       "      <td>10.800000</td>\n",
       "      <td>6.0</td>\n",
       "      <td>2.0</td>\n",
       "    </tr>\n",
       "    <tr>\n",
       "      <th>239990</th>\n",
       "      <td>183.0</td>\n",
       "      <td>0.500000</td>\n",
       "      <td>18.100000</td>\n",
       "      <td>81.000000</td>\n",
       "      <td>10.800000</td>\n",
       "      <td>6.0</td>\n",
       "      <td>1.0</td>\n",
       "    </tr>\n",
       "    <tr>\n",
       "      <th>240026</th>\n",
       "      <td>184.0</td>\n",
       "      <td>0.000000</td>\n",
       "      <td>17.000000</td>\n",
       "      <td>55.599998</td>\n",
       "      <td>11.000000</td>\n",
       "      <td>6.0</td>\n",
       "      <td>2.0</td>\n",
       "    </tr>\n",
       "    <tr>\n",
       "      <th>240044</th>\n",
       "      <td>186.0</td>\n",
       "      <td>0.000000</td>\n",
       "      <td>13.700000</td>\n",
       "      <td>76.900002</td>\n",
       "      <td>9.900000</td>\n",
       "      <td>5.0</td>\n",
       "      <td>1.0</td>\n",
       "    </tr>\n",
       "    <tr>\n",
       "      <th>240048</th>\n",
       "      <td>188.0</td>\n",
       "      <td>8.000000</td>\n",
       "      <td>18.100000</td>\n",
       "      <td>81.000000</td>\n",
       "      <td>10.800000</td>\n",
       "      <td>6.0</td>\n",
       "      <td>1.0</td>\n",
       "    </tr>\n",
       "    <tr>\n",
       "      <th>240057</th>\n",
       "      <td>189.0</td>\n",
       "      <td>0.000000</td>\n",
       "      <td>18.100000</td>\n",
       "      <td>81.000000</td>\n",
       "      <td>10.800000</td>\n",
       "      <td>6.0</td>\n",
       "      <td>1.0</td>\n",
       "    </tr>\n",
       "    <tr>\n",
       "      <th>240061</th>\n",
       "      <td>190.0</td>\n",
       "      <td>0.000000</td>\n",
       "      <td>18.100000</td>\n",
       "      <td>81.000000</td>\n",
       "      <td>10.800000</td>\n",
       "      <td>6.0</td>\n",
       "      <td>1.0</td>\n",
       "    </tr>\n",
       "    <tr>\n",
       "      <th>240070</th>\n",
       "      <td>191.0</td>\n",
       "      <td>7.000000</td>\n",
       "      <td>18.100000</td>\n",
       "      <td>81.000000</td>\n",
       "      <td>10.800000</td>\n",
       "      <td>6.0</td>\n",
       "      <td>1.0</td>\n",
       "    </tr>\n",
       "    <tr>\n",
       "      <th>240074</th>\n",
       "      <td>192.0</td>\n",
       "      <td>7.500000</td>\n",
       "      <td>18.100000</td>\n",
       "      <td>81.000000</td>\n",
       "      <td>10.800000</td>\n",
       "      <td>6.0</td>\n",
       "      <td>1.0</td>\n",
       "    </tr>\n",
       "    <tr>\n",
       "      <th>240078</th>\n",
       "      <td>194.0</td>\n",
       "      <td>0.000000</td>\n",
       "      <td>18.100000</td>\n",
       "      <td>81.000000</td>\n",
       "      <td>10.800000</td>\n",
       "      <td>6.0</td>\n",
       "      <td>1.0</td>\n",
       "    </tr>\n",
       "    <tr>\n",
       "      <th>240104</th>\n",
       "      <td>70.0</td>\n",
       "      <td>3886.600098</td>\n",
       "      <td>18.100000</td>\n",
       "      <td>28.299999</td>\n",
       "      <td>10.700000</td>\n",
       "      <td>6.0</td>\n",
       "      <td>1.0</td>\n",
       "    </tr>\n",
       "    <tr>\n",
       "      <th>240131</th>\n",
       "      <td>86.0</td>\n",
       "      <td>1700.400024</td>\n",
       "      <td>18.400000</td>\n",
       "      <td>92.900002</td>\n",
       "      <td>11.300000</td>\n",
       "      <td>6.0</td>\n",
       "      <td>1.0</td>\n",
       "    </tr>\n",
       "    <tr>\n",
       "      <th>240141</th>\n",
       "      <td>118.0</td>\n",
       "      <td>263.000000</td>\n",
       "      <td>10.500000</td>\n",
       "      <td>89.199997</td>\n",
       "      <td>11.700000</td>\n",
       "      <td>7.0</td>\n",
       "      <td>1.0</td>\n",
       "    </tr>\n",
       "    <tr>\n",
       "      <th>240142</th>\n",
       "      <td>119.0</td>\n",
       "      <td>3238.800049</td>\n",
       "      <td>16.600000</td>\n",
       "      <td>22.799999</td>\n",
       "      <td>9.700000</td>\n",
       "      <td>7.0</td>\n",
       "      <td>1.0</td>\n",
       "    </tr>\n",
       "    <tr>\n",
       "      <th>240144</th>\n",
       "      <td>41.0</td>\n",
       "      <td>30364.000000</td>\n",
       "      <td>16.600000</td>\n",
       "      <td>22.799999</td>\n",
       "      <td>9.700000</td>\n",
       "      <td>7.0</td>\n",
       "      <td>1.0</td>\n",
       "    </tr>\n",
       "    <tr>\n",
       "      <th>240145</th>\n",
       "      <td>42.0</td>\n",
       "      <td>323.799988</td>\n",
       "      <td>16.600000</td>\n",
       "      <td>22.799999</td>\n",
       "      <td>9.700000</td>\n",
       "      <td>7.0</td>\n",
       "      <td>1.0</td>\n",
       "    </tr>\n",
       "    <tr>\n",
       "      <th>240154</th>\n",
       "      <td>103.0</td>\n",
       "      <td>0.000000</td>\n",
       "      <td>15.200000</td>\n",
       "      <td>118.900002</td>\n",
       "      <td>12.200000</td>\n",
       "      <td>5.0</td>\n",
       "      <td>1.0</td>\n",
       "    </tr>\n",
       "    <tr>\n",
       "      <th>240165</th>\n",
       "      <td>152.0</td>\n",
       "      <td>0.000000</td>\n",
       "      <td>18.500000</td>\n",
       "      <td>29.900000</td>\n",
       "      <td>10.800000</td>\n",
       "      <td>6.0</td>\n",
       "      <td>1.0</td>\n",
       "    </tr>\n",
       "    <tr>\n",
       "      <th>240194</th>\n",
       "      <td>162.0</td>\n",
       "      <td>38.000000</td>\n",
       "      <td>18.900000</td>\n",
       "      <td>46.000000</td>\n",
       "      <td>10.300000</td>\n",
       "      <td>6.0</td>\n",
       "      <td>1.0</td>\n",
       "    </tr>\n",
       "    <tr>\n",
       "      <th>240203</th>\n",
       "      <td>163.0</td>\n",
       "      <td>0.000000</td>\n",
       "      <td>18.900000</td>\n",
       "      <td>46.000000</td>\n",
       "      <td>10.300000</td>\n",
       "      <td>6.0</td>\n",
       "      <td>1.0</td>\n",
       "    </tr>\n",
       "    <tr>\n",
       "      <th>240212</th>\n",
       "      <td>195.0</td>\n",
       "      <td>1.500000</td>\n",
       "      <td>18.500000</td>\n",
       "      <td>29.900000</td>\n",
       "      <td>11.700000</td>\n",
       "      <td>6.0</td>\n",
       "      <td>1.0</td>\n",
       "    </tr>\n",
       "    <tr>\n",
       "      <th>...</th>\n",
       "      <td>...</td>\n",
       "      <td>...</td>\n",
       "      <td>...</td>\n",
       "      <td>...</td>\n",
       "      <td>...</td>\n",
       "      <td>...</td>\n",
       "      <td>...</td>\n",
       "    </tr>\n",
       "    <tr>\n",
       "      <th>403955</th>\n",
       "      <td>11141.0</td>\n",
       "      <td>0.100000</td>\n",
       "      <td>18.100000</td>\n",
       "      <td>122.500000</td>\n",
       "      <td>14.000000</td>\n",
       "      <td>7.0</td>\n",
       "      <td>2.0</td>\n",
       "    </tr>\n",
       "    <tr>\n",
       "      <th>403956</th>\n",
       "      <td>11161.0</td>\n",
       "      <td>0.100000</td>\n",
       "      <td>17.700001</td>\n",
       "      <td>130.699997</td>\n",
       "      <td>11.100000</td>\n",
       "      <td>7.0</td>\n",
       "      <td>2.0</td>\n",
       "    </tr>\n",
       "    <tr>\n",
       "      <th>403958</th>\n",
       "      <td>11381.0</td>\n",
       "      <td>2.000000</td>\n",
       "      <td>18.100000</td>\n",
       "      <td>122.500000</td>\n",
       "      <td>14.000000</td>\n",
       "      <td>7.0</td>\n",
       "      <td>2.0</td>\n",
       "    </tr>\n",
       "    <tr>\n",
       "      <th>403959</th>\n",
       "      <td>11461.0</td>\n",
       "      <td>0.200000</td>\n",
       "      <td>18.200001</td>\n",
       "      <td>127.900002</td>\n",
       "      <td>9.800000</td>\n",
       "      <td>7.0</td>\n",
       "      <td>2.0</td>\n",
       "    </tr>\n",
       "    <tr>\n",
       "      <th>403962</th>\n",
       "      <td>11543.0</td>\n",
       "      <td>0.100000</td>\n",
       "      <td>18.200001</td>\n",
       "      <td>127.900002</td>\n",
       "      <td>9.800000</td>\n",
       "      <td>7.0</td>\n",
       "      <td>2.0</td>\n",
       "    </tr>\n",
       "    <tr>\n",
       "      <th>403963</th>\n",
       "      <td>11544.0</td>\n",
       "      <td>0.100000</td>\n",
       "      <td>17.600000</td>\n",
       "      <td>117.500000</td>\n",
       "      <td>9.800000</td>\n",
       "      <td>7.0</td>\n",
       "      <td>2.0</td>\n",
       "    </tr>\n",
       "    <tr>\n",
       "      <th>403966</th>\n",
       "      <td>11621.0</td>\n",
       "      <td>0.100000</td>\n",
       "      <td>17.600000</td>\n",
       "      <td>117.500000</td>\n",
       "      <td>9.800000</td>\n",
       "      <td>7.0</td>\n",
       "      <td>2.0</td>\n",
       "    </tr>\n",
       "    <tr>\n",
       "      <th>403967</th>\n",
       "      <td>11661.0</td>\n",
       "      <td>0.100000</td>\n",
       "      <td>14.500000</td>\n",
       "      <td>129.699997</td>\n",
       "      <td>11.600000</td>\n",
       "      <td>8.0</td>\n",
       "      <td>2.0</td>\n",
       "    </tr>\n",
       "    <tr>\n",
       "      <th>403969</th>\n",
       "      <td>11941.0</td>\n",
       "      <td>0.100000</td>\n",
       "      <td>12.400000</td>\n",
       "      <td>93.599998</td>\n",
       "      <td>14.100000</td>\n",
       "      <td>8.0</td>\n",
       "      <td>2.0</td>\n",
       "    </tr>\n",
       "    <tr>\n",
       "      <th>403970</th>\n",
       "      <td>12321.0</td>\n",
       "      <td>0.200000</td>\n",
       "      <td>1.800000</td>\n",
       "      <td>145.800003</td>\n",
       "      <td>23.700001</td>\n",
       "      <td>10.0</td>\n",
       "      <td>2.0</td>\n",
       "    </tr>\n",
       "    <tr>\n",
       "      <th>403971</th>\n",
       "      <td>12421.0</td>\n",
       "      <td>10.000000</td>\n",
       "      <td>12.200000</td>\n",
       "      <td>86.599998</td>\n",
       "      <td>13.400000</td>\n",
       "      <td>4.0</td>\n",
       "      <td>2.0</td>\n",
       "    </tr>\n",
       "    <tr>\n",
       "      <th>403972</th>\n",
       "      <td>12441.0</td>\n",
       "      <td>2.000000</td>\n",
       "      <td>11.300000</td>\n",
       "      <td>114.900002</td>\n",
       "      <td>13.400000</td>\n",
       "      <td>4.0</td>\n",
       "      <td>2.0</td>\n",
       "    </tr>\n",
       "    <tr>\n",
       "      <th>403974</th>\n",
       "      <td>13761.0</td>\n",
       "      <td>2.000000</td>\n",
       "      <td>18.200001</td>\n",
       "      <td>137.199997</td>\n",
       "      <td>10.600000</td>\n",
       "      <td>6.0</td>\n",
       "      <td>2.0</td>\n",
       "    </tr>\n",
       "    <tr>\n",
       "      <th>403975</th>\n",
       "      <td>13781.0</td>\n",
       "      <td>0.300000</td>\n",
       "      <td>18.600000</td>\n",
       "      <td>139.899994</td>\n",
       "      <td>13.800000</td>\n",
       "      <td>6.0</td>\n",
       "      <td>2.0</td>\n",
       "    </tr>\n",
       "    <tr>\n",
       "      <th>403977</th>\n",
       "      <td>13981.0</td>\n",
       "      <td>0.100000</td>\n",
       "      <td>17.700001</td>\n",
       "      <td>86.500000</td>\n",
       "      <td>17.000000</td>\n",
       "      <td>7.0</td>\n",
       "      <td>2.0</td>\n",
       "    </tr>\n",
       "    <tr>\n",
       "      <th>403979</th>\n",
       "      <td>14101.0</td>\n",
       "      <td>2.000000</td>\n",
       "      <td>13.600000</td>\n",
       "      <td>82.900002</td>\n",
       "      <td>10.400000</td>\n",
       "      <td>8.0</td>\n",
       "      <td>2.0</td>\n",
       "    </tr>\n",
       "    <tr>\n",
       "      <th>403980</th>\n",
       "      <td>14361.0</td>\n",
       "      <td>0.100000</td>\n",
       "      <td>13.800000</td>\n",
       "      <td>51.000000</td>\n",
       "      <td>19.100000</td>\n",
       "      <td>8.0</td>\n",
       "      <td>2.0</td>\n",
       "    </tr>\n",
       "    <tr>\n",
       "      <th>403981</th>\n",
       "      <td>14481.0</td>\n",
       "      <td>0.500000</td>\n",
       "      <td>6.100000</td>\n",
       "      <td>187.300003</td>\n",
       "      <td>11.600000</td>\n",
       "      <td>9.0</td>\n",
       "      <td>2.0</td>\n",
       "    </tr>\n",
       "    <tr>\n",
       "      <th>403984</th>\n",
       "      <td>14581.0</td>\n",
       "      <td>0.100000</td>\n",
       "      <td>4.900000</td>\n",
       "      <td>129.199997</td>\n",
       "      <td>11.600000</td>\n",
       "      <td>9.0</td>\n",
       "      <td>2.0</td>\n",
       "    </tr>\n",
       "    <tr>\n",
       "      <th>403985</th>\n",
       "      <td>14742.0</td>\n",
       "      <td>1.500000</td>\n",
       "      <td>-6.100000</td>\n",
       "      <td>108.400002</td>\n",
       "      <td>13.300000</td>\n",
       "      <td>11.0</td>\n",
       "      <td>2.0</td>\n",
       "    </tr>\n",
       "    <tr>\n",
       "      <th>403995</th>\n",
       "      <td>15702.0</td>\n",
       "      <td>0.100000</td>\n",
       "      <td>15.000000</td>\n",
       "      <td>130.800003</td>\n",
       "      <td>12.500000</td>\n",
       "      <td>5.0</td>\n",
       "      <td>2.0</td>\n",
       "    </tr>\n",
       "    <tr>\n",
       "      <th>404005</th>\n",
       "      <td>16362.0</td>\n",
       "      <td>1.300000</td>\n",
       "      <td>14.600000</td>\n",
       "      <td>144.300003</td>\n",
       "      <td>11.200000</td>\n",
       "      <td>8.0</td>\n",
       "      <td>2.0</td>\n",
       "    </tr>\n",
       "    <tr>\n",
       "      <th>404007</th>\n",
       "      <td>16402.0</td>\n",
       "      <td>0.100000</td>\n",
       "      <td>14.300000</td>\n",
       "      <td>179.800003</td>\n",
       "      <td>19.400000</td>\n",
       "      <td>8.0</td>\n",
       "      <td>2.0</td>\n",
       "    </tr>\n",
       "    <tr>\n",
       "      <th>404010</th>\n",
       "      <td>16502.0</td>\n",
       "      <td>0.100000</td>\n",
       "      <td>13.500000</td>\n",
       "      <td>179.800003</td>\n",
       "      <td>10.800000</td>\n",
       "      <td>8.0</td>\n",
       "      <td>2.0</td>\n",
       "    </tr>\n",
       "    <tr>\n",
       "      <th>404011</th>\n",
       "      <td>16523.0</td>\n",
       "      <td>0.100000</td>\n",
       "      <td>12.300000</td>\n",
       "      <td>252.800003</td>\n",
       "      <td>19.400000</td>\n",
       "      <td>8.0</td>\n",
       "      <td>2.0</td>\n",
       "    </tr>\n",
       "    <tr>\n",
       "      <th>404012</th>\n",
       "      <td>16542.0</td>\n",
       "      <td>0.100000</td>\n",
       "      <td>13.500000</td>\n",
       "      <td>179.800003</td>\n",
       "      <td>19.400000</td>\n",
       "      <td>8.0</td>\n",
       "      <td>2.0</td>\n",
       "    </tr>\n",
       "    <tr>\n",
       "      <th>404014</th>\n",
       "      <td>16682.0</td>\n",
       "      <td>0.100000</td>\n",
       "      <td>14.800000</td>\n",
       "      <td>127.500000</td>\n",
       "      <td>11.200000</td>\n",
       "      <td>8.0</td>\n",
       "      <td>2.0</td>\n",
       "    </tr>\n",
       "    <tr>\n",
       "      <th>404015</th>\n",
       "      <td>16722.0</td>\n",
       "      <td>0.100000</td>\n",
       "      <td>14.800000</td>\n",
       "      <td>127.500000</td>\n",
       "      <td>11.200000</td>\n",
       "      <td>8.0</td>\n",
       "      <td>2.0</td>\n",
       "    </tr>\n",
       "    <tr>\n",
       "      <th>404027</th>\n",
       "      <td>17802.0</td>\n",
       "      <td>1.500000</td>\n",
       "      <td>18.900000</td>\n",
       "      <td>194.800003</td>\n",
       "      <td>12.700000</td>\n",
       "      <td>6.0</td>\n",
       "      <td>2.0</td>\n",
       "    </tr>\n",
       "    <tr>\n",
       "      <th>404029</th>\n",
       "      <td>17922.0</td>\n",
       "      <td>0.100000</td>\n",
       "      <td>18.900000</td>\n",
       "      <td>194.800003</td>\n",
       "      <td>12.700000</td>\n",
       "      <td>6.0</td>\n",
       "      <td>2.0</td>\n",
       "    </tr>\n",
       "  </tbody>\n",
       "</table>\n",
       "<p>6388 rows × 7 columns</p>\n",
       "</div>"
      ],
      "text/plain": [
       "        fire_id       size_ha       temp  precipitation  wind_speed  month  \\\n",
       "131774  10011.0    294.000000 -20.200001      25.799999   14.100000    0.0   \n",
       "131775  22004.0    245.339996  11.200000      52.299999   11.100000    5.0   \n",
       "131780  45000.0   1036.000000  11.900000      76.300003   11.000000    7.0   \n",
       "131781  62006.0   1024.699951  12.000000      68.400002   12.800000    7.0   \n",
       "239734   1814.0      0.010000   4.800000      59.200001   13.500000    8.0   \n",
       "239828     22.0   3968.000000  10.600000      36.900002   17.100000    8.0   \n",
       "239872     16.0   2429.100098   9.500000      36.900002   17.500000    8.0   \n",
       "239929    180.0      0.300000  18.100000      81.000000   10.800000    6.0   \n",
       "239965    181.0      0.000000  18.100000      81.000000   10.800000    6.0   \n",
       "239974    182.0      0.000000  18.100000      81.000000   10.800000    6.0   \n",
       "239990    183.0      0.500000  18.100000      81.000000   10.800000    6.0   \n",
       "240026    184.0      0.000000  17.000000      55.599998   11.000000    6.0   \n",
       "240044    186.0      0.000000  13.700000      76.900002    9.900000    5.0   \n",
       "240048    188.0      8.000000  18.100000      81.000000   10.800000    6.0   \n",
       "240057    189.0      0.000000  18.100000      81.000000   10.800000    6.0   \n",
       "240061    190.0      0.000000  18.100000      81.000000   10.800000    6.0   \n",
       "240070    191.0      7.000000  18.100000      81.000000   10.800000    6.0   \n",
       "240074    192.0      7.500000  18.100000      81.000000   10.800000    6.0   \n",
       "240078    194.0      0.000000  18.100000      81.000000   10.800000    6.0   \n",
       "240104     70.0   3886.600098  18.100000      28.299999   10.700000    6.0   \n",
       "240131     86.0   1700.400024  18.400000      92.900002   11.300000    6.0   \n",
       "240141    118.0    263.000000  10.500000      89.199997   11.700000    7.0   \n",
       "240142    119.0   3238.800049  16.600000      22.799999    9.700000    7.0   \n",
       "240144     41.0  30364.000000  16.600000      22.799999    9.700000    7.0   \n",
       "240145     42.0    323.799988  16.600000      22.799999    9.700000    7.0   \n",
       "240154    103.0      0.000000  15.200000     118.900002   12.200000    5.0   \n",
       "240165    152.0      0.000000  18.500000      29.900000   10.800000    6.0   \n",
       "240194    162.0     38.000000  18.900000      46.000000   10.300000    6.0   \n",
       "240203    163.0      0.000000  18.900000      46.000000   10.300000    6.0   \n",
       "240212    195.0      1.500000  18.500000      29.900000   11.700000    6.0   \n",
       "...         ...           ...        ...            ...         ...    ...   \n",
       "403955  11141.0      0.100000  18.100000     122.500000   14.000000    7.0   \n",
       "403956  11161.0      0.100000  17.700001     130.699997   11.100000    7.0   \n",
       "403958  11381.0      2.000000  18.100000     122.500000   14.000000    7.0   \n",
       "403959  11461.0      0.200000  18.200001     127.900002    9.800000    7.0   \n",
       "403962  11543.0      0.100000  18.200001     127.900002    9.800000    7.0   \n",
       "403963  11544.0      0.100000  17.600000     117.500000    9.800000    7.0   \n",
       "403966  11621.0      0.100000  17.600000     117.500000    9.800000    7.0   \n",
       "403967  11661.0      0.100000  14.500000     129.699997   11.600000    8.0   \n",
       "403969  11941.0      0.100000  12.400000      93.599998   14.100000    8.0   \n",
       "403970  12321.0      0.200000   1.800000     145.800003   23.700001   10.0   \n",
       "403971  12421.0     10.000000  12.200000      86.599998   13.400000    4.0   \n",
       "403972  12441.0      2.000000  11.300000     114.900002   13.400000    4.0   \n",
       "403974  13761.0      2.000000  18.200001     137.199997   10.600000    6.0   \n",
       "403975  13781.0      0.300000  18.600000     139.899994   13.800000    6.0   \n",
       "403977  13981.0      0.100000  17.700001      86.500000   17.000000    7.0   \n",
       "403979  14101.0      2.000000  13.600000      82.900002   10.400000    8.0   \n",
       "403980  14361.0      0.100000  13.800000      51.000000   19.100000    8.0   \n",
       "403981  14481.0      0.500000   6.100000     187.300003   11.600000    9.0   \n",
       "403984  14581.0      0.100000   4.900000     129.199997   11.600000    9.0   \n",
       "403985  14742.0      1.500000  -6.100000     108.400002   13.300000   11.0   \n",
       "403995  15702.0      0.100000  15.000000     130.800003   12.500000    5.0   \n",
       "404005  16362.0      1.300000  14.600000     144.300003   11.200000    8.0   \n",
       "404007  16402.0      0.100000  14.300000     179.800003   19.400000    8.0   \n",
       "404010  16502.0      0.100000  13.500000     179.800003   10.800000    8.0   \n",
       "404011  16523.0      0.100000  12.300000     252.800003   19.400000    8.0   \n",
       "404012  16542.0      0.100000  13.500000     179.800003   19.400000    8.0   \n",
       "404014  16682.0      0.100000  14.800000     127.500000   11.200000    8.0   \n",
       "404015  16722.0      0.100000  14.800000     127.500000   11.200000    8.0   \n",
       "404027  17802.0      1.500000  18.900000     194.800003   12.700000    6.0   \n",
       "404029  17922.0      0.100000  18.900000     194.800003   12.700000    6.0   \n",
       "\n",
       "        burn_rate  \n",
       "131774        1.0  \n",
       "131775        1.0  \n",
       "131780        1.0  \n",
       "131781        1.0  \n",
       "239734        1.0  \n",
       "239828        2.0  \n",
       "239872        1.0  \n",
       "239929        1.0  \n",
       "239965        1.0  \n",
       "239974        2.0  \n",
       "239990        1.0  \n",
       "240026        2.0  \n",
       "240044        1.0  \n",
       "240048        1.0  \n",
       "240057        1.0  \n",
       "240061        1.0  \n",
       "240070        1.0  \n",
       "240074        1.0  \n",
       "240078        1.0  \n",
       "240104        1.0  \n",
       "240131        1.0  \n",
       "240141        1.0  \n",
       "240142        1.0  \n",
       "240144        1.0  \n",
       "240145        1.0  \n",
       "240154        1.0  \n",
       "240165        1.0  \n",
       "240194        1.0  \n",
       "240203        1.0  \n",
       "240212        1.0  \n",
       "...           ...  \n",
       "403955        2.0  \n",
       "403956        2.0  \n",
       "403958        2.0  \n",
       "403959        2.0  \n",
       "403962        2.0  \n",
       "403963        2.0  \n",
       "403966        2.0  \n",
       "403967        2.0  \n",
       "403969        2.0  \n",
       "403970        2.0  \n",
       "403971        2.0  \n",
       "403972        2.0  \n",
       "403974        2.0  \n",
       "403975        2.0  \n",
       "403977        2.0  \n",
       "403979        2.0  \n",
       "403980        2.0  \n",
       "403981        2.0  \n",
       "403984        2.0  \n",
       "403985        2.0  \n",
       "403995        2.0  \n",
       "404005        2.0  \n",
       "404007        2.0  \n",
       "404010        2.0  \n",
       "404011        2.0  \n",
       "404012        2.0  \n",
       "404014        2.0  \n",
       "404015        2.0  \n",
       "404027        2.0  \n",
       "404029        2.0  \n",
       "\n",
       "[6388 rows x 7 columns]"
      ]
     },
     "execution_count": 332,
     "metadata": {},
     "output_type": "execute_result"
    }
   ],
   "source": [
    "final_features_df\n"
   ]
  },
  {
   "cell_type": "code",
   "execution_count": 301,
   "metadata": {
    "collapsed": false
   },
   "outputs": [],
   "source": [
    "x = final_features_df\n",
    "y = final_features_df[\"size_ha\"]\n",
    "del x[\"fire_id\"]\n",
    "del x[\"size_ha\"]"
   ]
  },
  {
   "cell_type": "code",
   "execution_count": 315,
   "metadata": {
    "collapsed": false
   },
   "outputs": [
    {
     "name": "stdout",
     "output_type": "stream",
     "text": [
      "without paris: [-31137.43535283]\n",
      "with paris: [-31443.40602949]\n"
     ]
    }
   ],
   "source": [
    "wop = {'temp' : [3.8],\n",
    "     'precipitation' : [54.468536],\n",
    "     'wind_speed' : [13.301041],\n",
    "     'month' : [2],\n",
    "     'burn_rate' : [1],\n",
    "    }\n",
    "wp = {'temp' : [3.2],\n",
    "     'precipitation' : [38.493721],\n",
    "     'wind_speed' : [13.301041],\n",
    "     'month' : [2],\n",
    "     'burn_rate' : [1],\n",
    "    }\n",
    "reg = LinearRegression()\n",
    "reg.fit(x, y)\n",
    "reg.coef_\n",
    "without_paris = reg.predict(pd.DataFrame(wop))\n",
    "with_paris = reg.predict(pd.DataFrame(wp))\n",
    "print(\"without paris: \" + str(without_paris))\n",
    "print(\"with paris: \" + str(with_paris))"
   ]
  },
  {
   "cell_type": "code",
   "execution_count": 316,
   "metadata": {
    "collapsed": false
   },
   "outputs": [
    {
     "data": {
      "text/plain": [
       "1222.3572"
      ]
     },
     "execution_count": 316,
     "metadata": {},
     "output_type": "execute_result"
    }
   ],
   "source": [
    "y.mean()"
   ]
  },
  {
   "cell_type": "code",
   "execution_count": 260,
   "metadata": {
    "collapsed": false
   },
   "outputs": [
    {
     "data": {
      "text/plain": [
       "0.014644548741073017"
      ]
     },
     "execution_count": 260,
     "metadata": {},
     "output_type": "execute_result"
    }
   ],
   "source": [
    "reg.score(x,y)"
   ]
  },
  {
   "cell_type": "code",
   "execution_count": 292,
   "metadata": {
    "collapsed": false
   },
   "outputs": [
    {
     "data": {
      "text/plain": [
       "-2647.7946735579053"
      ]
     },
     "execution_count": 292,
     "metadata": {},
     "output_type": "execute_result"
    }
   ],
   "source": [
    "without_paris.min()"
   ]
  },
  {
   "cell_type": "code",
   "execution_count": 310,
   "metadata": {
    "collapsed": false
   },
   "outputs": [
    {
     "data": {
      "text/html": [
       "<div>\n",
       "<table border=\"1\" class=\"dataframe\">\n",
       "  <thead>\n",
       "    <tr style=\"text-align: right;\">\n",
       "      <th></th>\n",
       "      <th>temp</th>\n",
       "      <th>precipitation</th>\n",
       "      <th>wind_speed</th>\n",
       "      <th>month</th>\n",
       "      <th>burn_rate</th>\n",
       "    </tr>\n",
       "  </thead>\n",
       "  <tbody>\n",
       "    <tr>\n",
       "      <th>131774</th>\n",
       "      <td>-20.200001</td>\n",
       "      <td>25.799999</td>\n",
       "      <td>14.1</td>\n",
       "      <td>0.0</td>\n",
       "      <td>1.0</td>\n",
       "    </tr>\n",
       "    <tr>\n",
       "      <th>131775</th>\n",
       "      <td>11.200000</td>\n",
       "      <td>52.299999</td>\n",
       "      <td>11.1</td>\n",
       "      <td>5.0</td>\n",
       "      <td>1.0</td>\n",
       "    </tr>\n",
       "    <tr>\n",
       "      <th>131780</th>\n",
       "      <td>11.900000</td>\n",
       "      <td>76.300003</td>\n",
       "      <td>11.0</td>\n",
       "      <td>7.0</td>\n",
       "      <td>1.0</td>\n",
       "    </tr>\n",
       "    <tr>\n",
       "      <th>131781</th>\n",
       "      <td>12.000000</td>\n",
       "      <td>68.400002</td>\n",
       "      <td>12.8</td>\n",
       "      <td>7.0</td>\n",
       "      <td>1.0</td>\n",
       "    </tr>\n",
       "    <tr>\n",
       "      <th>239734</th>\n",
       "      <td>4.800000</td>\n",
       "      <td>59.200001</td>\n",
       "      <td>13.5</td>\n",
       "      <td>8.0</td>\n",
       "      <td>1.0</td>\n",
       "    </tr>\n",
       "  </tbody>\n",
       "</table>\n",
       "</div>"
      ],
      "text/plain": [
       "             temp  precipitation  wind_speed  month  burn_rate\n",
       "131774 -20.200001      25.799999        14.1    0.0        1.0\n",
       "131775  11.200000      52.299999        11.1    5.0        1.0\n",
       "131780  11.900000      76.300003        11.0    7.0        1.0\n",
       "131781  12.000000      68.400002        12.8    7.0        1.0\n",
       "239734   4.800000      59.200001        13.5    8.0        1.0"
      ]
     },
     "execution_count": 310,
     "metadata": {},
     "output_type": "execute_result"
    }
   ],
   "source": [
    "x.head()"
   ]
  },
  {
   "cell_type": "code",
   "execution_count": 294,
   "metadata": {
    "collapsed": false
   },
   "outputs": [
    {
     "data": {
      "text/plain": [
       "1222.3572"
      ]
     },
     "execution_count": 294,
     "metadata": {},
     "output_type": "execute_result"
    }
   ],
   "source": [
    "y.mean()"
   ]
  },
  {
   "cell_type": "markdown",
   "metadata": {},
   "source": [
    "linear regression:`"
   ]
  },
  {
   "cell_type": "code",
   "execution_count": 205,
   "metadata": {
    "collapsed": false
   },
   "outputs": [],
   "source": [
    "msk = np.random.rand(len(final_features_df)) < 0.8\n",
    "train = final_features_df[msk]\n",
    "test = final_features_df[~msk]\n",
    "\n",
    "y = train[\"size_ha\"]\n",
    "#del train[\"size_ha\"]\n",
    "x = train"
   ]
  },
  {
   "cell_type": "code",
   "execution_count": 206,
   "metadata": {
    "collapsed": false
   },
   "outputs": [],
   "source": [
    "del x[\"fire_id\"]\n",
    "del x[\"size_ha\"]"
   ]
  },
  {
   "cell_type": "code",
   "execution_count": 157,
   "metadata": {
    "collapsed": false
   },
   "outputs": [],
   "source": [
    "ty = test[\"size_ha\"]\n",
    "#del train[\"size_ha\"]\n",
    "tx = test"
   ]
  },
  {
   "cell_type": "code",
   "execution_count": 158,
   "metadata": {
    "collapsed": false
   },
   "outputs": [],
   "source": [
    "del tx[\"fire_id\"]\n",
    "del tx[\"size_ha\"]"
   ]
  },
  {
   "cell_type": "code",
   "execution_count": 159,
   "metadata": {
    "collapsed": true
   },
   "outputs": [],
   "source": [
    "newx = x\n",
    "del newx[\"month\"]\n",
    "del newx[\"burn_rate\"]"
   ]
  },
  {
   "cell_type": "code",
   "execution_count": 160,
   "metadata": {
    "collapsed": false,
    "scrolled": true
   },
   "outputs": [
    {
     "data": {
      "text/html": [
       "<div>\n",
       "<table border=\"1\" class=\"dataframe\">\n",
       "  <thead>\n",
       "    <tr style=\"text-align: right;\">\n",
       "      <th></th>\n",
       "      <th>temp</th>\n",
       "      <th>precipitation</th>\n",
       "      <th>wind_speed</th>\n",
       "      <th>month</th>\n",
       "      <th>burn_rate</th>\n",
       "    </tr>\n",
       "  </thead>\n",
       "  <tbody>\n",
       "    <tr>\n",
       "      <th>131774</th>\n",
       "      <td>-20.200001</td>\n",
       "      <td>25.799999</td>\n",
       "      <td>14.1</td>\n",
       "      <td>0.0</td>\n",
       "      <td>1.0</td>\n",
       "    </tr>\n",
       "    <tr>\n",
       "      <th>239990</th>\n",
       "      <td>18.100000</td>\n",
       "      <td>81.000000</td>\n",
       "      <td>10.8</td>\n",
       "      <td>6.0</td>\n",
       "      <td>1.0</td>\n",
       "    </tr>\n",
       "    <tr>\n",
       "      <th>240026</th>\n",
       "      <td>17.000000</td>\n",
       "      <td>55.599998</td>\n",
       "      <td>11.0</td>\n",
       "      <td>6.0</td>\n",
       "      <td>2.0</td>\n",
       "    </tr>\n",
       "    <tr>\n",
       "      <th>240057</th>\n",
       "      <td>18.100000</td>\n",
       "      <td>81.000000</td>\n",
       "      <td>10.8</td>\n",
       "      <td>6.0</td>\n",
       "      <td>1.0</td>\n",
       "    </tr>\n",
       "    <tr>\n",
       "      <th>240061</th>\n",
       "      <td>18.100000</td>\n",
       "      <td>81.000000</td>\n",
       "      <td>10.8</td>\n",
       "      <td>6.0</td>\n",
       "      <td>1.0</td>\n",
       "    </tr>\n",
       "  </tbody>\n",
       "</table>\n",
       "</div>"
      ],
      "text/plain": [
       "             temp  precipitation  wind_speed  month  burn_rate\n",
       "131774 -20.200001      25.799999        14.1    0.0        1.0\n",
       "239990  18.100000      81.000000        10.8    6.0        1.0\n",
       "240026  17.000000      55.599998        11.0    6.0        2.0\n",
       "240057  18.100000      81.000000        10.8    6.0        1.0\n",
       "240061  18.100000      81.000000        10.8    6.0        1.0"
      ]
     },
     "execution_count": 160,
     "metadata": {},
     "output_type": "execute_result"
    }
   ],
   "source": [
    "tx.head()"
   ]
  },
  {
   "cell_type": "code",
   "execution_count": 161,
   "metadata": {
    "collapsed": false
   },
   "outputs": [
    {
     "data": {
      "text/plain": [
       "13.436116"
      ]
     },
     "execution_count": 161,
     "metadata": {},
     "output_type": "execute_result"
    }
   ],
   "source": [
    "tx[\"wind_speed\"].mean()"
   ]
  },
  {
   "cell_type": "code",
   "execution_count": 162,
   "metadata": {
    "collapsed": false
   },
   "outputs": [
    {
     "data": {
      "text/plain": [
       "131775     245.339996\n",
       "131780    1036.000000\n",
       "131781    1024.699951\n",
       "239734       0.010000\n",
       "239828    3968.000000\n",
       "Name: size_ha, dtype: float32"
      ]
     },
     "execution_count": 162,
     "metadata": {},
     "output_type": "execute_result"
    }
   ],
   "source": [
    "y.head()"
   ]
  },
  {
   "cell_type": "code",
   "execution_count": 209,
   "metadata": {
    "collapsed": false
   },
   "outputs": [
    {
     "data": {
      "text/plain": [
       "array([  5.96655083e+01,  -2.13895988e+00,   1.69032574e+01,\n",
       "         5.99071121e+01,  -2.74774561e+03])"
      ]
     },
     "execution_count": 209,
     "metadata": {},
     "output_type": "execute_result"
    }
   ],
   "source": [
    "reg = LinearRegression()\n",
    "reg.fit(x, y)\n",
    "reg.coef_"
   ]
  },
  {
   "cell_type": "code",
   "execution_count": 210,
   "metadata": {
    "collapsed": false
   },
   "outputs": [],
   "source": [
    "predictedy = reg.predict(tx)"
   ]
  },
  {
   "cell_type": "code",
   "execution_count": 211,
   "metadata": {
    "collapsed": false
   },
   "outputs": [
    {
     "data": {
      "text/plain": [
       "array([  436.87315986,  2907.65352781,   151.98607307, ...,  -279.96254743,\n",
       "         227.62628558,  -537.53071832])"
      ]
     },
     "execution_count": 211,
     "metadata": {},
     "output_type": "execute_result"
    }
   ],
   "source": [
    "predictedy"
   ]
  },
  {
   "cell_type": "code",
   "execution_count": 166,
   "metadata": {
    "collapsed": false
   },
   "outputs": [],
   "source": [
    "y = ty.values"
   ]
  },
  {
   "cell_type": "code",
   "execution_count": 167,
   "metadata": {
    "collapsed": false
   },
   "outputs": [
    {
     "data": {
      "text/plain": [
       "array([  2.94000000e+02,   5.00000000e-01,   0.00000000e+00, ...,\n",
       "         1.00000000e+01,   1.00000001e-01,   1.00000001e-01], dtype=float32)"
      ]
     },
     "execution_count": 167,
     "metadata": {},
     "output_type": "execute_result"
    }
   ],
   "source": [
    "y"
   ]
  },
  {
   "cell_type": "code",
   "execution_count": 168,
   "metadata": {
    "collapsed": false
   },
   "outputs": [],
   "source": [
    "#there is no false positives with a continuous variable. we can't have a confusion matrix for a regression line. But we possibly can if we bucketize the variables. but what good does that do and what will it mean?\n",
    "#confusion_matrix(ty,predictedy)"
   ]
  },
  {
   "cell_type": "code",
   "execution_count": 219,
   "metadata": {
    "collapsed": false
   },
   "outputs": [
    {
     "data": {
      "text/plain": [
       "0.014644548741073017"
      ]
     },
     "execution_count": 219,
     "metadata": {},
     "output_type": "execute_result"
    }
   ],
   "source": [
    "reg.score(x, y)"
   ]
  },
  {
   "cell_type": "code",
   "execution_count": 170,
   "metadata": {
    "collapsed": false
   },
   "outputs": [
    {
     "ename": "NameError",
     "evalue": "name 'nx' is not defined",
     "output_type": "error",
     "traceback": [
      "\u001b[0;31m---------------------------------------------------------------------------\u001b[0m",
      "\u001b[0;31mNameError\u001b[0m                                 Traceback (most recent call last)",
      "\u001b[0;32m<ipython-input-170-cf650940f368>\u001b[0m in \u001b[0;36m<module>\u001b[0;34m()\u001b[0m\n\u001b[0;32m----> 1\u001b[0;31m \u001b[0mnx\u001b[0m\u001b[0;34m\u001b[0m\u001b[0m\n\u001b[0m",
      "\u001b[0;31mNameError\u001b[0m: name 'nx' is not defined"
     ]
    }
   ],
   "source": [
    "nx"
   ]
  },
  {
   "cell_type": "code",
   "execution_count": 171,
   "metadata": {
    "collapsed": false
   },
   "outputs": [
    {
     "ename": "NameError",
     "evalue": "name 'nx' is not defined",
     "output_type": "error",
     "traceback": [
      "\u001b[0;31m---------------------------------------------------------------------------\u001b[0m",
      "\u001b[0;31mNameError\u001b[0m                                 Traceback (most recent call last)",
      "\u001b[0;32m<ipython-input-171-224b422ca0a5>\u001b[0m in \u001b[0;36m<module>\u001b[0;34m()\u001b[0m\n\u001b[1;32m      5\u001b[0m \u001b[0;34m\u001b[0m\u001b[0m\n\u001b[1;32m      6\u001b[0m nx = x.values\"\"\"\n\u001b[0;32m----> 7\u001b[0;31m \u001b[0mnx\u001b[0m \u001b[0;34m=\u001b[0m \u001b[0mnx\u001b[0m\u001b[0;34m.\u001b[0m\u001b[0mtolist\u001b[0m\u001b[0;34m(\u001b[0m\u001b[0;34m)\u001b[0m\u001b[0;34m\u001b[0m\u001b[0m\n\u001b[0m\u001b[1;32m      8\u001b[0m \u001b[0mny\u001b[0m \u001b[0;34m=\u001b[0m \u001b[0mny\u001b[0m\u001b[0;34m.\u001b[0m\u001b[0mtolist\u001b[0m\u001b[0;34m(\u001b[0m\u001b[0;34m)\u001b[0m\u001b[0;34m\u001b[0m\u001b[0m\n\u001b[1;32m      9\u001b[0m \u001b[0;34m\u001b[0m\u001b[0m\n",
      "\u001b[0;31mNameError\u001b[0m: name 'nx' is not defined"
     ]
    }
   ],
   "source": [
    "import numpy as np\n",
    "import statsmodels.api as sm\n",
    "\n",
    "\"\"\"ny = y.values\n",
    "\n",
    "nx = x.values\"\"\"\n",
    "nx = nx.tolist()\n",
    "ny = ny.tolist()\n",
    "\n",
    "def reg_m(y, x):\n",
    "    ones = np.ones(len(x[0]))\n",
    "    X = sm.add_constant(np.column_stack((x[0], ones)))\n",
    "    for ele in x[1:]:\n",
    "        X = sm.add_constant(np.column_stack((ele, X)))\n",
    "    results = sm.OLS(y, X).fit()\n",
    "    return results\n",
    "\n",
    "print(reg_m(y, x).summary())"
   ]
  },
  {
   "cell_type": "code",
   "execution_count": null,
   "metadata": {
    "collapsed": false
   },
   "outputs": [],
   "source": [
    "slope, intercept, r_value, p_value, std_err = stats.linregress(x,y)"
   ]
  },
  {
   "cell_type": "code",
   "execution_count": 172,
   "metadata": {
    "collapsed": false
   },
   "outputs": [
    {
     "data": {
      "text/plain": [
       "LinearRegression(copy_X=True,\n",
       "         fit_intercept=LinearRegression(copy_X=True, fit_intercept=True, n_jobs=1, normalize=False),\n",
       "         n_jobs=1, normalize=False)"
      ]
     },
     "execution_count": 172,
     "metadata": {},
     "output_type": "execute_result"
    }
   ],
   "source": [
    "LinearRegression(reg)"
   ]
  },
  {
   "cell_type": "code",
   "execution_count": 173,
   "metadata": {
    "collapsed": false,
    "scrolled": true
   },
   "outputs": [
    {
     "ename": "ValueError",
     "evalue": "all the input array dimensions except for the concatenation axis must match exactly",
     "output_type": "error",
     "traceback": [
      "\u001b[0;31m---------------------------------------------------------------------------\u001b[0m",
      "\u001b[0;31mValueError\u001b[0m                                Traceback (most recent call last)",
      "\u001b[0;32m<ipython-input-173-265a12c94e76>\u001b[0m in \u001b[0;36m<module>\u001b[0;34m()\u001b[0m\n\u001b[0;32m----> 1\u001b[0;31m \u001b[0mlinregress\u001b[0m\u001b[0;34m(\u001b[0m\u001b[0mx\u001b[0m\u001b[0;34m,\u001b[0m\u001b[0my\u001b[0m\u001b[0;34m)\u001b[0m\u001b[0;34m\u001b[0m\u001b[0m\n\u001b[0m",
      "\u001b[0;32m/usr/local/lib/python3.5/dist-packages/scipy/stats/_stats_mstats_common.py\u001b[0m in \u001b[0;36mlinregress\u001b[0;34m(x, y)\u001b[0m\n\u001b[1;32m     77\u001b[0m \u001b[0;34m\u001b[0m\u001b[0m\n\u001b[1;32m     78\u001b[0m     \u001b[0;31m# average sum of squares:\u001b[0m\u001b[0;34m\u001b[0m\u001b[0;34m\u001b[0m\u001b[0m\n\u001b[0;32m---> 79\u001b[0;31m     \u001b[0mssxm\u001b[0m\u001b[0;34m,\u001b[0m \u001b[0mssxym\u001b[0m\u001b[0;34m,\u001b[0m \u001b[0mssyxm\u001b[0m\u001b[0;34m,\u001b[0m \u001b[0mssym\u001b[0m \u001b[0;34m=\u001b[0m \u001b[0mnp\u001b[0m\u001b[0;34m.\u001b[0m\u001b[0mcov\u001b[0m\u001b[0;34m(\u001b[0m\u001b[0mx\u001b[0m\u001b[0;34m,\u001b[0m \u001b[0my\u001b[0m\u001b[0;34m,\u001b[0m \u001b[0mbias\u001b[0m\u001b[0;34m=\u001b[0m\u001b[0;36m1\u001b[0m\u001b[0;34m)\u001b[0m\u001b[0;34m.\u001b[0m\u001b[0mflat\u001b[0m\u001b[0;34m\u001b[0m\u001b[0m\n\u001b[0m\u001b[1;32m     80\u001b[0m     \u001b[0mr_num\u001b[0m \u001b[0;34m=\u001b[0m \u001b[0mssxym\u001b[0m\u001b[0;34m\u001b[0m\u001b[0m\n\u001b[1;32m     81\u001b[0m     \u001b[0mr_den\u001b[0m \u001b[0;34m=\u001b[0m \u001b[0mnp\u001b[0m\u001b[0;34m.\u001b[0m\u001b[0msqrt\u001b[0m\u001b[0;34m(\u001b[0m\u001b[0mssxm\u001b[0m \u001b[0;34m*\u001b[0m \u001b[0mssym\u001b[0m\u001b[0;34m)\u001b[0m\u001b[0;34m\u001b[0m\u001b[0m\n",
      "\u001b[0;32m/usr/local/lib/python3.5/dist-packages/numpy/lib/function_base.py\u001b[0m in \u001b[0;36mcov\u001b[0;34m(m, y, rowvar, bias, ddof, fweights, aweights)\u001b[0m\n\u001b[1;32m   2863\u001b[0m         \u001b[0;32mif\u001b[0m \u001b[0mrowvar\u001b[0m \u001b[0;34m==\u001b[0m \u001b[0;36m0\u001b[0m \u001b[0;32mand\u001b[0m \u001b[0my\u001b[0m\u001b[0;34m.\u001b[0m\u001b[0mshape\u001b[0m\u001b[0;34m[\u001b[0m\u001b[0;36m0\u001b[0m\u001b[0;34m]\u001b[0m \u001b[0;34m!=\u001b[0m \u001b[0;36m1\u001b[0m\u001b[0;34m:\u001b[0m\u001b[0;34m\u001b[0m\u001b[0m\n\u001b[1;32m   2864\u001b[0m             \u001b[0my\u001b[0m \u001b[0;34m=\u001b[0m \u001b[0my\u001b[0m\u001b[0;34m.\u001b[0m\u001b[0mT\u001b[0m\u001b[0;34m\u001b[0m\u001b[0m\n\u001b[0;32m-> 2865\u001b[0;31m         \u001b[0mX\u001b[0m \u001b[0;34m=\u001b[0m \u001b[0mnp\u001b[0m\u001b[0;34m.\u001b[0m\u001b[0mvstack\u001b[0m\u001b[0;34m(\u001b[0m\u001b[0;34m(\u001b[0m\u001b[0mX\u001b[0m\u001b[0;34m,\u001b[0m \u001b[0my\u001b[0m\u001b[0;34m)\u001b[0m\u001b[0;34m)\u001b[0m\u001b[0;34m\u001b[0m\u001b[0m\n\u001b[0m\u001b[1;32m   2866\u001b[0m \u001b[0;34m\u001b[0m\u001b[0m\n\u001b[1;32m   2867\u001b[0m     \u001b[0;32mif\u001b[0m \u001b[0mddof\u001b[0m \u001b[0;32mis\u001b[0m \u001b[0;32mNone\u001b[0m\u001b[0;34m:\u001b[0m\u001b[0;34m\u001b[0m\u001b[0m\n",
      "\u001b[0;32m/usr/local/lib/python3.5/dist-packages/numpy/core/shape_base.py\u001b[0m in \u001b[0;36mvstack\u001b[0;34m(tup)\u001b[0m\n\u001b[1;32m    232\u001b[0m \u001b[0;34m\u001b[0m\u001b[0m\n\u001b[1;32m    233\u001b[0m     \"\"\"\n\u001b[0;32m--> 234\u001b[0;31m     \u001b[0;32mreturn\u001b[0m \u001b[0m_nx\u001b[0m\u001b[0;34m.\u001b[0m\u001b[0mconcatenate\u001b[0m\u001b[0;34m(\u001b[0m\u001b[0;34m[\u001b[0m\u001b[0matleast_2d\u001b[0m\u001b[0;34m(\u001b[0m\u001b[0m_m\u001b[0m\u001b[0;34m)\u001b[0m \u001b[0;32mfor\u001b[0m \u001b[0m_m\u001b[0m \u001b[0;32min\u001b[0m \u001b[0mtup\u001b[0m\u001b[0;34m]\u001b[0m\u001b[0;34m,\u001b[0m \u001b[0;36m0\u001b[0m\u001b[0;34m)\u001b[0m\u001b[0;34m\u001b[0m\u001b[0m\n\u001b[0m\u001b[1;32m    235\u001b[0m \u001b[0;34m\u001b[0m\u001b[0m\n\u001b[1;32m    236\u001b[0m \u001b[0;32mdef\u001b[0m \u001b[0mhstack\u001b[0m\u001b[0;34m(\u001b[0m\u001b[0mtup\u001b[0m\u001b[0;34m)\u001b[0m\u001b[0;34m:\u001b[0m\u001b[0;34m\u001b[0m\u001b[0m\n",
      "\u001b[0;31mValueError\u001b[0m: all the input array dimensions except for the concatenation axis must match exactly"
     ]
    }
   ],
   "source": [
    "linregress(x,y)"
   ]
  },
  {
   "cell_type": "code",
   "execution_count": 174,
   "metadata": {
    "collapsed": false
   },
   "outputs": [
    {
     "name": "stdout",
     "output_type": "stream",
     "text": [
      "r value 0.955949031197\n",
      "p_value 5.65761249232e-05\n",
      "standard deviation 0.0831744517144\n"
     ]
    },
    {
     "data": {
      "image/png": "[encoded data removed]",
      "text/plain": [
       "<matplotlib.figure.Figure at 0x7f1cd1c75be0>"
      ]
     },
     "metadata": {},
     "output_type": "display_data"
    }
   ],
   "source": [
    "from numpy import arange,array,ones#,random,linalg\n",
    "from pylab import plot,show\n",
    "from scipy import stats\n",
    "\n",
    "xi = arange(0,9)\n",
    "A = array([ xi, ones(9)])\n",
    "# linearly generated sequence\n",
    "y = [19, 20, 20.5, 21.5, 22, 23, 23, 25.5, 24]\n",
    "\n",
    "slope, intercept, r_value, p_value, std_err = stats.linregress(xi,y)\n",
    "\n",
    "print('r value', r_value)\n",
    "print('p_value', p_value)\n",
    "print('standard deviation', std_err)\n",
    "\n",
    "line = slope*xi+intercept\n",
    "plot(xi,line,'r-',xi,y,'o')\n",
    "show()"
   ]
  },
  {
   "cell_type": "code",
   "execution_count": 175,
   "metadata": {
    "collapsed": false
   },
   "outputs": [
    {
     "data": {
      "image/png": "[encoded data removed]",
      "text/plain": [
       "<matplotlib.figure.Figure at 0x7f1cd82b2550>"
      ]
     },
     "metadata": {},
     "output_type": "display_data"
    }
   ],
   "source": [
    "from sklearn.decomposition import PCA as sklearnPCA\n",
    "\n",
    "sklearn_pca = sklearnPCA(n_components=2)\n",
    "sklearn_transf = sklearn_pca.fit_transform(newx)\n",
    "\n",
    "plt.plot(sklearn_transf,sklearn_transf, 'o', markersize=1, color='blue', alpha=0.5, label='class1')\n",
    "plt.plot(sklearn_transf, sklearn_transf, '^', markersize=1, color='red', alpha=0.5, label='class2')\n",
    "\n",
    "plt.xlabel('x_values')\n",
    "plt.ylabel('y_values')\n",
    "plt.legend()\n",
    "plt.title('Transformed samples with class labels from matplotlib.mlab.PCA()')\n",
    "\n",
    "plt.show()\n",
    "plt.rcParams['savefig.dpi'] = 500"
   ]
  },
  {
   "cell_type": "code",
   "execution_count": 176,
   "metadata": {
    "collapsed": false
   },
   "outputs": [
    {
     "ename": "ValueError",
     "evalue": "Found input variables with inconsistent numbers of samples: [5142, 9]",
     "output_type": "error",
     "traceback": [
      "\u001b[0;31m---------------------------------------------------------------------------\u001b[0m",
      "\u001b[0;31mValueError\u001b[0m                                Traceback (most recent call last)",
      "\u001b[0;32m<ipython-input-176-6dbb75bcfa5a>\u001b[0m in \u001b[0;36m<module>\u001b[0;34m()\u001b[0m\n\u001b[1;32m      4\u001b[0m \u001b[0mX_pca\u001b[0m \u001b[0;34m=\u001b[0m \u001b[0mpca\u001b[0m\u001b[0;34m.\u001b[0m\u001b[0mfit_transform\u001b[0m\u001b[0;34m(\u001b[0m\u001b[0mx\u001b[0m\u001b[0;34m)\u001b[0m\u001b[0;34m\u001b[0m\u001b[0m\n\u001b[1;32m      5\u001b[0m \u001b[0;34m\u001b[0m\u001b[0m\n\u001b[0;32m----> 6\u001b[0;31m \u001b[0mreg\u001b[0m\u001b[0;34m.\u001b[0m\u001b[0mfit\u001b[0m\u001b[0;34m(\u001b[0m\u001b[0mX_pca\u001b[0m\u001b[0;34m,\u001b[0m\u001b[0my\u001b[0m\u001b[0;34m)\u001b[0m\u001b[0;34m\u001b[0m\u001b[0m\n\u001b[0m",
      "\u001b[0;32m/usr/local/lib/python3.5/dist-packages/sklearn/linear_model/base.py\u001b[0m in \u001b[0;36mfit\u001b[0;34m(self, X, y, sample_weight)\u001b[0m\n\u001b[1;32m    510\u001b[0m         \u001b[0mn_jobs_\u001b[0m \u001b[0;34m=\u001b[0m \u001b[0mself\u001b[0m\u001b[0;34m.\u001b[0m\u001b[0mn_jobs\u001b[0m\u001b[0;34m\u001b[0m\u001b[0m\n\u001b[1;32m    511\u001b[0m         X, y = check_X_y(X, y, accept_sparse=['csr', 'csc', 'coo'],\n\u001b[0;32m--> 512\u001b[0;31m                          y_numeric=True, multi_output=True)\n\u001b[0m\u001b[1;32m    513\u001b[0m \u001b[0;34m\u001b[0m\u001b[0m\n\u001b[1;32m    514\u001b[0m         \u001b[0;32mif\u001b[0m \u001b[0msample_weight\u001b[0m \u001b[0;32mis\u001b[0m \u001b[0;32mnot\u001b[0m \u001b[0;32mNone\u001b[0m \u001b[0;32mand\u001b[0m \u001b[0mnp\u001b[0m\u001b[0;34m.\u001b[0m\u001b[0matleast_1d\u001b[0m\u001b[0;34m(\u001b[0m\u001b[0msample_weight\u001b[0m\u001b[0;34m)\u001b[0m\u001b[0;34m.\u001b[0m\u001b[0mndim\u001b[0m \u001b[0;34m>\u001b[0m \u001b[0;36m1\u001b[0m\u001b[0;34m:\u001b[0m\u001b[0;34m\u001b[0m\u001b[0m\n",
      "\u001b[0;32m/usr/local/lib/python3.5/dist-packages/sklearn/utils/validation.py\u001b[0m in \u001b[0;36mcheck_X_y\u001b[0;34m(X, y, accept_sparse, dtype, order, copy, force_all_finite, ensure_2d, allow_nd, multi_output, ensure_min_samples, ensure_min_features, y_numeric, warn_on_dtype, estimator)\u001b[0m\n\u001b[1;32m    529\u001b[0m         \u001b[0my\u001b[0m \u001b[0;34m=\u001b[0m \u001b[0my\u001b[0m\u001b[0;34m.\u001b[0m\u001b[0mastype\u001b[0m\u001b[0;34m(\u001b[0m\u001b[0mnp\u001b[0m\u001b[0;34m.\u001b[0m\u001b[0mfloat64\u001b[0m\u001b[0;34m)\u001b[0m\u001b[0;34m\u001b[0m\u001b[0m\n\u001b[1;32m    530\u001b[0m \u001b[0;34m\u001b[0m\u001b[0m\n\u001b[0;32m--> 531\u001b[0;31m     \u001b[0mcheck_consistent_length\u001b[0m\u001b[0;34m(\u001b[0m\u001b[0mX\u001b[0m\u001b[0;34m,\u001b[0m \u001b[0my\u001b[0m\u001b[0;34m)\u001b[0m\u001b[0;34m\u001b[0m\u001b[0m\n\u001b[0m\u001b[1;32m    532\u001b[0m \u001b[0;34m\u001b[0m\u001b[0m\n\u001b[1;32m    533\u001b[0m     \u001b[0;32mreturn\u001b[0m \u001b[0mX\u001b[0m\u001b[0;34m,\u001b[0m \u001b[0my\u001b[0m\u001b[0;34m\u001b[0m\u001b[0m\n",
      "\u001b[0;32m/usr/local/lib/python3.5/dist-packages/sklearn/utils/validation.py\u001b[0m in \u001b[0;36mcheck_consistent_length\u001b[0;34m(*arrays)\u001b[0m\n\u001b[1;32m    179\u001b[0m     \u001b[0;32mif\u001b[0m \u001b[0mlen\u001b[0m\u001b[0;34m(\u001b[0m\u001b[0muniques\u001b[0m\u001b[0;34m)\u001b[0m \u001b[0;34m>\u001b[0m \u001b[0;36m1\u001b[0m\u001b[0;34m:\u001b[0m\u001b[0;34m\u001b[0m\u001b[0m\n\u001b[1;32m    180\u001b[0m         raise ValueError(\"Found input variables with inconsistent numbers of\"\n\u001b[0;32m--> 181\u001b[0;31m                          \" samples: %r\" % [int(l) for l in lengths])\n\u001b[0m\u001b[1;32m    182\u001b[0m \u001b[0;34m\u001b[0m\u001b[0m\n\u001b[1;32m    183\u001b[0m \u001b[0;34m\u001b[0m\u001b[0m\n",
      "\u001b[0;31mValueError\u001b[0m: Found input variables with inconsistent numbers of samples: [5142, 9]"
     ]
    }
   ],
   "source": [
    "from sklearn.decomposition import PCA\n",
    "reg = LinearRegression()\n",
    "pca = PCA(n_components=1)\n",
    "X_pca = pca.fit_transform(x)\n",
    "\n",
    "reg.fit(X_pca,y)"
   ]
  },
  {
   "cell_type": "code",
   "execution_count": null,
   "metadata": {
    "collapsed": true
   },
   "outputs": [],
   "source": []
  },
  {
   "cell_type": "code",
   "execution_count": 177,
   "metadata": {
    "collapsed": false
   },
   "outputs": [
    {
     "ename": "NotFittedError",
     "evalue": "This LinearRegression instance is not fitted yet. Call 'fit' with appropriate arguments before using this method.",
     "output_type": "error",
     "traceback": [
      "\u001b[0;31m---------------------------------------------------------------------------\u001b[0m",
      "\u001b[0;31mNotFittedError\u001b[0m                            Traceback (most recent call last)",
      "\u001b[0;32m<ipython-input-177-280566392900>\u001b[0m in \u001b[0;36m<module>\u001b[0;34m()\u001b[0m\n\u001b[0;32m----> 1\u001b[0;31m \u001b[0mreg\u001b[0m\u001b[0;34m.\u001b[0m\u001b[0mpredict\u001b[0m\u001b[0;34m(\u001b[0m\u001b[0mtx\u001b[0m\u001b[0;34m)\u001b[0m\u001b[0;34m\u001b[0m\u001b[0m\n\u001b[0m",
      "\u001b[0;32m/usr/local/lib/python3.5/dist-packages/sklearn/linear_model/base.py\u001b[0m in \u001b[0;36mpredict\u001b[0;34m(self, X)\u001b[0m\n\u001b[1;32m    266\u001b[0m             \u001b[0mReturns\u001b[0m \u001b[0mpredicted\u001b[0m \u001b[0mvalues\u001b[0m\u001b[0;34m.\u001b[0m\u001b[0;34m\u001b[0m\u001b[0m\n\u001b[1;32m    267\u001b[0m         \"\"\"\n\u001b[0;32m--> 268\u001b[0;31m         \u001b[0;32mreturn\u001b[0m \u001b[0mself\u001b[0m\u001b[0;34m.\u001b[0m\u001b[0m_decision_function\u001b[0m\u001b[0;34m(\u001b[0m\u001b[0mX\u001b[0m\u001b[0;34m)\u001b[0m\u001b[0;34m\u001b[0m\u001b[0m\n\u001b[0m\u001b[1;32m    269\u001b[0m \u001b[0;34m\u001b[0m\u001b[0m\n\u001b[1;32m    270\u001b[0m     \u001b[0m_preprocess_data\u001b[0m \u001b[0;34m=\u001b[0m \u001b[0mstaticmethod\u001b[0m\u001b[0;34m(\u001b[0m\u001b[0m_preprocess_data\u001b[0m\u001b[0;34m)\u001b[0m\u001b[0;34m\u001b[0m\u001b[0m\n",
      "\u001b[0;32m/usr/local/lib/python3.5/dist-packages/sklearn/linear_model/base.py\u001b[0m in \u001b[0;36m_decision_function\u001b[0;34m(self, X)\u001b[0m\n\u001b[1;32m    247\u001b[0m \u001b[0;34m\u001b[0m\u001b[0m\n\u001b[1;32m    248\u001b[0m     \u001b[0;32mdef\u001b[0m \u001b[0m_decision_function\u001b[0m\u001b[0;34m(\u001b[0m\u001b[0mself\u001b[0m\u001b[0;34m,\u001b[0m \u001b[0mX\u001b[0m\u001b[0;34m)\u001b[0m\u001b[0;34m:\u001b[0m\u001b[0;34m\u001b[0m\u001b[0m\n\u001b[0;32m--> 249\u001b[0;31m         \u001b[0mcheck_is_fitted\u001b[0m\u001b[0;34m(\u001b[0m\u001b[0mself\u001b[0m\u001b[0;34m,\u001b[0m \u001b[0;34m\"coef_\"\u001b[0m\u001b[0;34m)\u001b[0m\u001b[0;34m\u001b[0m\u001b[0m\n\u001b[0m\u001b[1;32m    250\u001b[0m \u001b[0;34m\u001b[0m\u001b[0m\n\u001b[1;32m    251\u001b[0m         \u001b[0mX\u001b[0m \u001b[0;34m=\u001b[0m \u001b[0mcheck_array\u001b[0m\u001b[0;34m(\u001b[0m\u001b[0mX\u001b[0m\u001b[0;34m,\u001b[0m \u001b[0maccept_sparse\u001b[0m\u001b[0;34m=\u001b[0m\u001b[0;34m[\u001b[0m\u001b[0;34m'csr'\u001b[0m\u001b[0;34m,\u001b[0m \u001b[0;34m'csc'\u001b[0m\u001b[0;34m,\u001b[0m \u001b[0;34m'coo'\u001b[0m\u001b[0;34m]\u001b[0m\u001b[0;34m)\u001b[0m\u001b[0;34m\u001b[0m\u001b[0m\n",
      "\u001b[0;32m/usr/local/lib/python3.5/dist-packages/sklearn/utils/validation.py\u001b[0m in \u001b[0;36mcheck_is_fitted\u001b[0;34m(estimator, attributes, msg, all_or_any)\u001b[0m\n\u001b[1;32m    688\u001b[0m     \u001b[0;32mif\u001b[0m \u001b[0;32mnot\u001b[0m \u001b[0mall_or_any\u001b[0m\u001b[0;34m(\u001b[0m\u001b[0;34m[\u001b[0m\u001b[0mhasattr\u001b[0m\u001b[0;34m(\u001b[0m\u001b[0mestimator\u001b[0m\u001b[0;34m,\u001b[0m \u001b[0mattr\u001b[0m\u001b[0;34m)\u001b[0m \u001b[0;32mfor\u001b[0m \u001b[0mattr\u001b[0m \u001b[0;32min\u001b[0m \u001b[0mattributes\u001b[0m\u001b[0;34m]\u001b[0m\u001b[0;34m)\u001b[0m\u001b[0;34m:\u001b[0m\u001b[0;34m\u001b[0m\u001b[0m\n\u001b[1;32m    689\u001b[0m         \u001b[0;31m# FIXME NotFittedError_ --> NotFittedError in 0.19\u001b[0m\u001b[0;34m\u001b[0m\u001b[0;34m\u001b[0m\u001b[0m\n\u001b[0;32m--> 690\u001b[0;31m         \u001b[0;32mraise\u001b[0m \u001b[0m_NotFittedError\u001b[0m\u001b[0;34m(\u001b[0m\u001b[0mmsg\u001b[0m \u001b[0;34m%\u001b[0m \u001b[0;34m{\u001b[0m\u001b[0;34m'name'\u001b[0m\u001b[0;34m:\u001b[0m \u001b[0mtype\u001b[0m\u001b[0;34m(\u001b[0m\u001b[0mestimator\u001b[0m\u001b[0;34m)\u001b[0m\u001b[0;34m.\u001b[0m\u001b[0m__name__\u001b[0m\u001b[0;34m}\u001b[0m\u001b[0;34m)\u001b[0m\u001b[0;34m\u001b[0m\u001b[0m\n\u001b[0m\u001b[1;32m    691\u001b[0m \u001b[0;34m\u001b[0m\u001b[0m\n\u001b[1;32m    692\u001b[0m \u001b[0;34m\u001b[0m\u001b[0m\n",
      "\u001b[0;31mNotFittedError\u001b[0m: This LinearRegression instance is not fitted yet. Call 'fit' with appropriate arguments before using this method."
     ]
    }
   ],
   "source": [
    "reg.predict(tx)"
   ]
  },
  {
   "cell_type": "code",
   "execution_count": 178,
   "metadata": {
    "collapsed": false
   },
   "outputs": [
    {
     "data": {
      "text/plain": [
       "array([[  -8.39211898],\n",
       "       [  15.19694954],\n",
       "       [   7.49428477],\n",
       "       ..., \n",
       "       [  65.82072564],\n",
       "       [ 132.41897677],\n",
       "       [ 132.41897677]])"
      ]
     },
     "execution_count": 178,
     "metadata": {},
     "output_type": "execute_result"
    }
   ],
   "source": [
    "X_pca\n",
    "#x1 = X_pca[0:,0]\n",
    "#x2 = X_pca[0:,1]"
   ]
  },
  {
   "cell_type": "code",
   "execution_count": 179,
   "metadata": {
    "collapsed": false
   },
   "outputs": [
    {
     "data": {
      "text/plain": [
       "-64.781281960641877"
      ]
     },
     "execution_count": 179,
     "metadata": {},
     "output_type": "execute_result"
    }
   ],
   "source": [
    "X_pca.min()"
   ]
  },
  {
   "cell_type": "code",
   "execution_count": 180,
   "metadata": {
    "collapsed": false
   },
   "outputs": [],
   "source": [
    "new_pca = []\n",
    "for x in X_pca:\n",
    "    new_pca.append(x[0]+64.766534089352405)"
   ]
  },
  {
   "cell_type": "code",
   "execution_count": 181,
   "metadata": {
    "collapsed": false
   },
   "outputs": [
    {
     "data": {
      "text/plain": [
       "[56.374415113205771,\n",
       " 79.963483631351892,\n",
       " 72.260818856841752,\n",
       " 61.724117980531254,\n",
       " 41.1754436360591,\n",
       " 40.936820281578491,\n",
       " 85.887931515836499,\n",
       " 85.887931515836499,\n",
       " 85.887931515836499,\n",
       " 80.94217421113548,\n",
       " 85.887931515836499,\n",
       " 85.887931515836499,\n",
       " 85.887931515836499,\n",
       " 85.887931515836499,\n",
       " 97.571253210930507,\n",
       " 28.733760635596973,\n",
       " 28.733760635596973,\n",
       " 28.733760635596973,\n",
       " 122.26958554815269,\n",
       " 36.070553620278929,\n",
       " 51.88212272165363,\n",
       " 36.065972207571761,\n",
       " 26.022128150809223,\n",
       " 118.48430884769957,\n",
       " 32.520629143272224,\n",
       " 79.017767977131754,\n",
       " 98.451342138627851,\n",
       " 71.264905784278213,\n",
       " 149.92025310145775,\n",
       " 52.749576539247059,\n",
       " 85.385902146550535,\n",
       " 36.065972207571761,\n",
       " 36.070553620278929,\n",
       " 90.899895844237932,\n",
       " 36.070553620278929,\n",
       " 90.899895844237932,\n",
       " 39.312688589712948,\n",
       " 53.890360235156784,\n",
       " 127.79621287517318,\n",
       " 92.346234343086138,\n",
       " 126.13063962559298,\n",
       " 94.001045968670127,\n",
       " 118.70860766688105,\n",
       " 118.70860766688105,\n",
       " 118.70860766688105,\n",
       " 142.05332173143358,\n",
       " 118.72286095301654,\n",
       " 118.70860766688105,\n",
       " 118.70860766688105,\n",
       " 126.13063962559298,\n",
       " 118.72286095301654,\n",
       " 118.72286095301654,\n",
       " 118.72286095301654,\n",
       " 126.13063962559298,\n",
       " 45.372603309492824,\n",
       " 37.709165356916529,\n",
       " 37.704074896195394,\n",
       " 81.005381728228556,\n",
       " 87.528137304295257,\n",
       " 87.528137304295257,\n",
       " 87.528137304295257,\n",
       " 113.41028335890826,\n",
       " 25.732004953096322,\n",
       " 74.406242520086707,\n",
       " 74.406242520086707,\n",
       " 83.860360528803852,\n",
       " 47.097812320527808,\n",
       " 47.097812320527808,\n",
       " 19.33728159580302,\n",
       " 27.681681030248427,\n",
       " 41.827896394387224,\n",
       " 41.81618833375768,\n",
       " 64.821268465350045,\n",
       " 64.821268465350045,\n",
       " 47.097812320527808,\n",
       " 47.097812320527808,\n",
       " 65.840083456296966,\n",
       " 57.381362877747883,\n",
       " 63.834948193438571,\n",
       " 63.834948193438571,\n",
       " 63.32550147621064,\n",
       " 27.681681030248427,\n",
       " 54.0449238987866,\n",
       " 47.097812320527808,\n",
       " 47.097812320527808,\n",
       " 47.097812320527808,\n",
       " 65.840083456296966,\n",
       " 25.732004953096322,\n",
       " 54.0449238987866,\n",
       " 52.159026609916531,\n",
       " 54.0449238987866,\n",
       " 75.112018954285048,\n",
       " 75.112018954285048,\n",
       " 75.112018954285048,\n",
       " 75.112018954285048,\n",
       " 118.23448648060337,\n",
       " 64.560696867832334,\n",
       " 75.11761846302015,\n",
       " 118.23346838457543,\n",
       " 118.23346838457543,\n",
       " 68.34517457437083,\n",
       " 75.112018954285048,\n",
       " 75.112018954285048,\n",
       " 26.704145050720875,\n",
       " 52.415757384353114,\n",
       " 68.34517457437083,\n",
       " 26.704145050720875,\n",
       " 68.346192670398779,\n",
       " 52.415757384353114,\n",
       " 68.34517457437083,\n",
       " 68.346192670398779,\n",
       " 26.704145050720875,\n",
       " 92.66362944373877,\n",
       " 110.05247748049698,\n",
       " 62.884454918208945,\n",
       " 75.11761846302015,\n",
       " 57.381362877747883,\n",
       " 57.381362877747883,\n",
       " 68.34517457437083,\n",
       " 59.961747851142064,\n",
       " 59.961747851142064,\n",
       " 86.437041573338647,\n",
       " 41.81618833375768,\n",
       " 37.335612618592961,\n",
       " 64.821268465350045,\n",
       " 58.37581612980248,\n",
       " 58.332800336264157,\n",
       " 64.821268465350045,\n",
       " 64.821268465350045,\n",
       " 64.307630387895344,\n",
       " 64.821268465350045,\n",
       " 64.821268465350045,\n",
       " 75.112018954285048,\n",
       " 64.821268465350045,\n",
       " 75.563685299226165,\n",
       " 77.468551146046281,\n",
       " 37.400136616573675,\n",
       " 55.815211580296548,\n",
       " 108.56354922800821,\n",
       " 18.31345482617413,\n",
       " 54.0449238987866,\n",
       " 26.704145050720875,\n",
       " 26.704145050720875,\n",
       " 52.415757384353114,\n",
       " 52.415757384353114,\n",
       " 52.415757384353114,\n",
       " 68.34517457437083,\n",
       " 52.415757384353114,\n",
       " 52.415757384353114,\n",
       " 52.415757384353114,\n",
       " 52.415757384353114,\n",
       " 52.421356893088223,\n",
       " 52.421356893088223,\n",
       " 57.381362877747883,\n",
       " 57.381362877747883,\n",
       " 57.381362877747883,\n",
       " 62.795587088224266,\n",
       " 99.448188259619599,\n",
       " 25.732004953096322,\n",
       " 25.732004953096322,\n",
       " 54.0449238987866,\n",
       " 75.112018954285048,\n",
       " 54.0449238987866,\n",
       " 54.0449238987866,\n",
       " 54.0449238987866,\n",
       " 54.0449238987866,\n",
       " 54.0449238987866,\n",
       " 54.03932439005149,\n",
       " 54.0449238987866,\n",
       " 54.0449238987866,\n",
       " 75.112018954285048,\n",
       " 75.11761846302015,\n",
       " 75.11761846302015,\n",
       " 75.112018954285048,\n",
       " 75.11761846302015,\n",
       " 75.11761846302015,\n",
       " 54.0449238987866,\n",
       " 54.0449238987866,\n",
       " 75.112018954285048,\n",
       " 57.381362877747883,\n",
       " 57.381362877747883,\n",
       " 57.381362877747883,\n",
       " 59.961747851142064,\n",
       " 75.112018954285048,\n",
       " 75.112018954285048,\n",
       " 64.560696867832334,\n",
       " 57.381362877747883,\n",
       " 118.23346838457543,\n",
       " 64.560696867832334,\n",
       " 59.961747851142064,\n",
       " 56.771495183601402,\n",
       " 78.357701383871074,\n",
       " 41.81618833375768,\n",
       " 54.0449238987866,\n",
       " 57.381362877747883,\n",
       " 57.381362877747883,\n",
       " 25.732004953096322,\n",
       " 25.732004953096322,\n",
       " 57.381362877747883,\n",
       " 110.90779778040616,\n",
       " 110.90779778040616,\n",
       " 110.90779778040616,\n",
       " 110.90779778040616,\n",
       " 86.13171841456996,\n",
       " 86.13171841456996,\n",
       " 110.90779778040616,\n",
       " 110.90779778040616,\n",
       " 64.938394677321327,\n",
       " 57.896553431551624,\n",
       " 38.123060975062927,\n",
       " 59.961747851142064,\n",
       " 28.218426331272845,\n",
       " 56.749987184274502,\n",
       " 56.749987184274502,\n",
       " 56.749987184274502,\n",
       " 56.749987184274502,\n",
       " 28.218426331272845,\n",
       " 28.218426331272845,\n",
       " 64.821268465350045,\n",
       " 59.961747851142064,\n",
       " 64.821268465350045,\n",
       " 64.821268465350045,\n",
       " 26.94146054492618,\n",
       " 64.821268465350045,\n",
       " 75.563685299226165,\n",
       " 64.307630387895344,\n",
       " 62.795587088224266,\n",
       " 62.795587088224266,\n",
       " 59.961747851142064,\n",
       " 62.795587088224266,\n",
       " 59.961747851142064,\n",
       " 59.961747851142064,\n",
       " 59.961747851142064,\n",
       " 59.961747851142064,\n",
       " 59.961747851142064,\n",
       " 59.961747851142064,\n",
       " 59.961747851142064,\n",
       " 59.961747851142064,\n",
       " 59.961747851142064,\n",
       " 59.961747851142064,\n",
       " 59.961747851142064,\n",
       " 59.961747851142064,\n",
       " 59.961747851142064,\n",
       " 59.961747851142064,\n",
       " 59.961747851142064,\n",
       " 59.961747851142064,\n",
       " 59.961747851142064,\n",
       " 62.795587088224266,\n",
       " 62.795587088224266,\n",
       " 56.577924010121201,\n",
       " 59.961747851142064,\n",
       " 56.749987184274502,\n",
       " 56.749987184274502,\n",
       " 56.749987184274502,\n",
       " 56.749987184274502,\n",
       " 28.218426331272845,\n",
       " 28.218426331272845,\n",
       " 28.218426331272845,\n",
       " 28.218426331272845,\n",
       " 28.218426331272845,\n",
       " 28.218426331272845,\n",
       " 64.821268465350045,\n",
       " 28.218426331272845,\n",
       " 64.821268465350045,\n",
       " 64.821268465350045,\n",
       " 59.961747851142064,\n",
       " 62.795587088224266,\n",
       " 59.961747851142064,\n",
       " 56.749987184274502,\n",
       " 64.560696867832334,\n",
       " 36.901664020864295,\n",
       " 28.218426331272845,\n",
       " 64.821268465350045,\n",
       " 75.563685299226165,\n",
       " 59.961747851142064,\n",
       " 118.23346838457543,\n",
       " 118.23346838457543,\n",
       " 50.849217335716133,\n",
       " 118.23346838457543,\n",
       " 29.143857180755766,\n",
       " 64.560696867832334,\n",
       " 28.950286007275544,\n",
       " 28.950286007275544,\n",
       " 64.560696867832334,\n",
       " 29.487983939293315,\n",
       " 64.302602106602379,\n",
       " 29.487983939293315,\n",
       " 75.112018954285048,\n",
       " 33.665358210107556,\n",
       " 33.665358210107556,\n",
       " 75.112018954285048,\n",
       " 52.415757384353114,\n",
       " 52.415757384353114,\n",
       " 52.415757384353114,\n",
       " 33.665358210107556,\n",
       " 33.966469072549074,\n",
       " 64.821268465350045,\n",
       " 75.112018954285048,\n",
       " 75.112018954285048,\n",
       " 64.821268465350045,\n",
       " 34.547182798105162,\n",
       " 28.218426331272845,\n",
       " 26.94146054492618,\n",
       " 26.947060053661296,\n",
       " 37.461471044903121,\n",
       " 84.537568675196795,\n",
       " 27.741198129482306,\n",
       " 27.741198129482306,\n",
       " 18.31345482617413,\n",
       " 18.31345482617413,\n",
       " 93.396135090962161,\n",
       " 56.749987184274502,\n",
       " 56.749987184274502,\n",
       " 26.94146054492618,\n",
       " 28.218426331272845,\n",
       " 38.519057699220994,\n",
       " 33.665358210107556,\n",
       " 27.72796292966548,\n",
       " 68.34517457437083,\n",
       " 29.143857180755766,\n",
       " 38.519057699220994,\n",
       " 135.17349828336859,\n",
       " 90.325943846170091,\n",
       " 90.325943846170091,\n",
       " 90.325943846170091,\n",
       " 90.325943846170091,\n",
       " 197.15660126352418,\n",
       " 118.64235058500266,\n",
       " 118.5056673081905,\n",
       " 118.5056673081905,\n",
       " 118.5056673081905,\n",
       " 118.5056673081905,\n",
       " 110.365229975406,\n",
       " 55.403349956031235,\n",
       " 68.591005899003747,\n",
       " 107.06446328454638,\n",
       " 112.15337241968341,\n",
       " 71.648120299501613,\n",
       " 48.032168591256536,\n",
       " 56.749987184274502,\n",
       " 64.821268465350045,\n",
       " 64.821268465350045,\n",
       " 55.522144090645817,\n",
       " 56.933596543280395,\n",
       " 55.522144090645817,\n",
       " 55.522144090645817,\n",
       " 53.612065511673869,\n",
       " 55.528761690554227,\n",
       " 84.186045525602452,\n",
       " 78.1508544041601,\n",
       " 84.186045525602452,\n",
       " 53.048568518898989,\n",
       " 61.724117980531254,\n",
       " 78.1508544041601,\n",
       " 61.724117980531254,\n",
       " 143.25871153551248,\n",
       " 143.25871153551248,\n",
       " 143.25871153551248,\n",
       " 118.63581127476658,\n",
       " 86.728340635572494,\n",
       " 86.728340635572494,\n",
       " 86.728340635572494,\n",
       " 31.974713183511582,\n",
       " 86.728340635572494,\n",
       " 86.728340635572494,\n",
       " 143.25871153551248,\n",
       " 143.25871153551248,\n",
       " 147.73661974821783,\n",
       " 147.73661974821783,\n",
       " 147.73661974821783,\n",
       " 143.25871153551248,\n",
       " 35.163812042941274,\n",
       " 147.73661974821783,\n",
       " 111.55660086496039,\n",
       " 13.128872566466498,\n",
       " 76.330289450027919,\n",
       " 64.938394677321327,\n",
       " 31.596443897718132,\n",
       " 31.596443897718132,\n",
       " 35.159739673393439,\n",
       " 31.596443897718132,\n",
       " 31.596443897718132,\n",
       " 48.032168591256536,\n",
       " 63.239488396304679,\n",
       " 61.849111657460334,\n",
       " 48.032168591256536,\n",
       " 48.032168591256536,\n",
       " 68.395118953931586,\n",
       " 68.395118953931586,\n",
       " 67.90043686032115,\n",
       " 38.079827560182075,\n",
       " 38.079827560182075,\n",
       " 31.596443897718132,\n",
       " 48.032168591256536,\n",
       " 68.395118953931586,\n",
       " 31.596443897718132,\n",
       " 31.402872724237938,\n",
       " 48.032168591256536,\n",
       " 73.709629297403353,\n",
       " 64.938394677321327,\n",
       " 64.938394677321327,\n",
       " 64.938394677321327,\n",
       " 62.23625418389679,\n",
       " 123.8083580575033,\n",
       " 73.387010538192683,\n",
       " 48.032168591256536,\n",
       " 48.032168591256536,\n",
       " 64.821268465350045,\n",
       " 59.961747851142064,\n",
       " 56.749987184274502,\n",
       " 59.961747851142064,\n",
       " 118.23346838457543,\n",
       " 64.821268465350045,\n",
       " 37.335612618592961,\n",
       " 59.961747851142064,\n",
       " 64.821268465350045,\n",
       " 38.519057699220994,\n",
       " 52.159026609916531,\n",
       " 52.159026609916531,\n",
       " 82.166150592490808,\n",
       " 53.937229501245099,\n",
       " 39.5412018665386,\n",
       " 53.64847214426284,\n",
       " 94.947202300961763,\n",
       " 55.992628666742448,\n",
       " 87.523555891588089,\n",
       " 52.159026609916531,\n",
       " 53.937229501245099,\n",
       " 18.310909595813555,\n",
       " 18.310909595813555,\n",
       " 18.310909595813555,\n",
       " 87.528137304295257,\n",
       " 55.992628666742448,\n",
       " 52.154954240368689,\n",
       " 55.98804725403528,\n",
       " 52.154954240368689,\n",
       " 93.390026534213092,\n",
       " 93.390026534213092,\n",
       " 52.160044701089831,\n",
       " 18.310909595813555,\n",
       " 52.160044701089831,\n",
       " 52.160044701089831,\n",
       " 93.395116994934227,\n",
       " 64.582363403667003,\n",
       " 64.582363403667003,\n",
       " 64.582363403667003,\n",
       " 64.582363403667003,\n",
       " 111.41606580633913,\n",
       " 64.584399586013603,\n",
       " 64.584399586013603,\n",
       " 64.584399586013603,\n",
       " 64.584399586013603,\n",
       " 52.101710987464443,\n",
       " 110.9063371767933,\n",
       " 73.949779791071236,\n",
       " 110.9063371767933,\n",
       " 78.193870236157579,\n",
       " 98.915142584096287,\n",
       " 98.915142584096287,\n",
       " 98.915142584096287,\n",
       " 98.915142584096287,\n",
       " 98.915142584096287,\n",
       " 98.915142584096287,\n",
       " 98.915142584096287,\n",
       " 98.915142584096287,\n",
       " 98.915142584096287,\n",
       " 144.34951880619388,\n",
       " 144.34951880619388,\n",
       " 98.915142584096287,\n",
       " 98.915142584096287,\n",
       " 120.49763309655401,\n",
       " 98.204010430385836,\n",
       " 19.463401352352832,\n",
       " 37.007603356232025,\n",
       " 31.549635202090009,\n",
       " 69.885326374813673,\n",
       " 25.256486555585326,\n",
       " 69.885326374813673,\n",
       " 88.584574912692858,\n",
       " 88.584574912692858,\n",
       " 38.61416931356591,\n",
       " 63.844109538082115,\n",
       " 63.844109538082115,\n",
       " 17.758912714945602,\n",
       " 53.078792900715356,\n",
       " 97.122700429459513,\n",
       " 69.885326374813673,\n",
       " 97.122700429459513,\n",
       " 133.75163925922109,\n",
       " 96.540179896997259,\n",
       " 96.540179896997259,\n",
       " 75.236411838661155,\n",
       " 64.807612814358308,\n",
       " 60.97990265702802,\n",
       " 44.170532735867823,\n",
       " 64.807612814358308,\n",
       " 57.896553431551624,\n",
       " 48.577583531731293,\n",
       " 59.710635195169019,\n",
       " 74.468959711161261,\n",
       " 58.209341780826207,\n",
       " 85.349148751955525,\n",
       " 83.092248267521882,\n",
       " 60.97990265702802,\n",
       " 51.122654733127789,\n",
       " 147.91798577712257,\n",
       " 70.703519543007076,\n",
       " 58.212396054346108,\n",
       " 106.02117338350595,\n",
       " 133.75163925922109,\n",
       " 52.235187419363157,\n",
       " 87.121747831190731,\n",
       " 106.02219147467926,\n",
       " 91.524207699993497,\n",
       " 52.235187419363157,\n",
       " 91.527261973513404,\n",
       " 98.002502936365204,\n",
       " 70.16174924144147,\n",
       " 59.894981564067557,\n",
       " 18.310909595813555,\n",
       " 18.310909595813555,\n",
       " 18.310909595813555,\n",
       " 18.310909595813555,\n",
       " 18.31345482617413,\n",
       " 18.31345482617413,\n",
       " 82.166150592490808,\n",
       " 82.166150592490808,\n",
       " 38.521602929581562,\n",
       " 38.519057699220994,\n",
       " 28.302286396124707,\n",
       " 28.302286396124707,\n",
       " 28.302286396124707,\n",
       " 28.302286396124707,\n",
       " 28.302286396124707,\n",
       " 28.302286396124707,\n",
       " 28.302286396124707,\n",
       " 28.302286396124707,\n",
       " 28.302286396124707,\n",
       " 28.302286396124707,\n",
       " 28.302286396124707,\n",
       " 28.302286396124707,\n",
       " 28.302286396124707,\n",
       " 28.302286396124707,\n",
       " 28.302286396124707,\n",
       " 28.302286396124707,\n",
       " 28.302286396124707,\n",
       " 28.302286396124707,\n",
       " 53.962829290100743,\n",
       " 33.966469072549074,\n",
       " 48.032168591256536,\n",
       " 64.435579763814232,\n",
       " 90.921618810077362,\n",
       " 56.631794819121687,\n",
       " 56.115939168969859,\n",
       " 65.003583810109276,\n",
       " 18.714407053089253,\n",
       " 79.017767977131754,\n",
       " 51.58958294587881,\n",
       " 37.551628942257565,\n",
       " 98.748387286891187,\n",
       " 98.748387286891187,\n",
       " 83.58853083383579,\n",
       " 98.748387286891187,\n",
       " 73.387010538192683,\n",
       " 64.961938863849468,\n",
       " 86.834862130802748,\n",
       " 68.395118953931586,\n",
       " 137.06024188232615,\n",
       " 25.732004953096322,\n",
       " 48.577583531731293,\n",
       " 47.136980635615323,\n",
       " 64.807612814358308,\n",
       " 106.02117338350595,\n",
       " 106.02219147467926,\n",
       " 106.02219147467926,\n",
       " 60.97990265702802,\n",
       " 49.927875123207357,\n",
       " 47.136980635615323,\n",
       " 38.618468813955161,\n",
       " 90.293883662124983,\n",
       " 90.293883662124983,\n",
       " 45.149216557723996,\n",
       " 90.293883662124983,\n",
       " 65.297650729926005,\n",
       " 65.297650729926005,\n",
       " 38.618468813955161,\n",
       " 65.297650729926005,\n",
       " 78.199469740038055,\n",
       " 55.540379989994804,\n",
       " 55.540379989994804,\n",
       " 96.775448558469378,\n",
       " 134.88625983173,\n",
       " 49.140864072368203,\n",
       " 53.048568518898989,\n",
       " 53.048568518898989,\n",
       " 53.048568518898989,\n",
       " 61.724117980531254,\n",
       " 61.724117980531254,\n",
       " 64.992901874235756,\n",
       " 83.811233938772062,\n",
       " 83.811233938772062,\n",
       " 83.811233938772062,\n",
       " 49.117910358641687,\n",
       " 96.947511732622672,\n",
       " 48.032168591256536,\n",
       " 64.938394677321327,\n",
       " 64.938394677321327,\n",
       " 124.21700840379062,\n",
       " 64.938394677321327,\n",
       " 47.77407341979562,\n",
       " 123.48573929829264,\n",
       " 60.495902454422094,\n",
       " 126.61814054464369,\n",
       " 126.61814054464369,\n",
       " 126.34719370838312,\n",
       " 126.34719370838312,\n",
       " 126.34719370838312,\n",
       " 19.45932898280499,\n",
       " 126.85662387464185,\n",
       " 147.72949310515008,\n",
       " 147.72949310515008,\n",
       " 80.414773301760988,\n",
       " 52.054549535731084,\n",
       " 147.37098519546885,\n",
       " 64.582363403667003,\n",
       " 126.36399222973381,\n",
       " 126.36399222973381,\n",
       " 126.36399222973381,\n",
       " 111.41606580633913,\n",
       " 64.582363403667003,\n",
       " 33.20629343680335,\n",
       " 33.216983401404967,\n",
       " 64.582363403667003,\n",
       " 39.55392898243052,\n",
       " 111.41606580633913,\n",
       " 111.41606580633913,\n",
       " 64.584399586013603,\n",
       " 64.587453864388152,\n",
       " 64.584399586013603,\n",
       " 21.640973446646321,\n",
       " 64.584399586013603,\n",
       " 39.55392898243052,\n",
       " 64.582363403667003,\n",
       " 21.639955355473013,\n",
       " 64.587453864388152,\n",
       " 64.587453864388152,\n",
       " 64.587453864388152,\n",
       " 64.584399586013603,\n",
       " 64.587453864388152,\n",
       " 64.587453864388152,\n",
       " 64.584399586013603,\n",
       " 21.639955355473013,\n",
       " 64.587453864388152,\n",
       " 32.034238316328178,\n",
       " 32.034238316328178,\n",
       " 21.639955355473013,\n",
       " 64.584399586013603,\n",
       " 21.639955355473013,\n",
       " 21.639955355473013,\n",
       " 21.636901077098486,\n",
       " 50.078120364191633,\n",
       " 78.383642159851547,\n",
       " 114.06380974400511,\n",
       " 78.383642159851547,\n",
       " 88.586611095039459,\n",
       " 88.586611095039459,\n",
       " 88.586611095039459,\n",
       " 88.584574912692858,\n",
       " 114.06380974400511,\n",
       " 60.291065527636412,\n",
       " 32.133495206954009,\n",
       " 32.133495206954009,\n",
       " 64.584399586013603,\n",
       " 60.291065527636412,\n",
       " 64.587453864388152,\n",
       " 64.587453864388152,\n",
       " 64.587453864388152,\n",
       " 64.587453864388152,\n",
       " 42.294017379380065,\n",
       " 42.294017379380065,\n",
       " 42.304198300822343,\n",
       " 42.294017379380065,\n",
       " 42.294017379380065,\n",
       " 42.304198300822343,\n",
       " 42.304198300822343,\n",
       " 78.371934099221988,\n",
       " 78.381605977504947,\n",
       " 52.010878880712653,\n",
       " 52.010878880712653,\n",
       " 88.584574912692858,\n",
       " 64.582363403667003,\n",
       " 64.584399586013603,\n",
       " 64.584399586013603,\n",
       " 63.844109538082115,\n",
       " 64.584399586013603,\n",
       " 18.31345482617413,\n",
       " 18.31345482617413,\n",
       " 18.31345482617413,\n",
       " 18.31345482617413,\n",
       " 74.27285738293574,\n",
       " 74.27285738293574,\n",
       " 52.171243718560049,\n",
       " 52.171243718560049,\n",
       " 53.938247592418406,\n",
       " 18.31345482617413,\n",
       " 18.31345482617413,\n",
       " 36.056890317618581,\n",
       " 36.056890317618581,\n",
       " 87.128874474258467,\n",
       " 49.265193946278877,\n",
       " 64.560696867832334,\n",
       " 64.560696867832334,\n",
       " 60.97990265702802,\n",
       " 110.35278552595094,\n",
       " 74.014303378820983,\n",
       " 45.685613005479759,\n",
       " 94.066312796021236,\n",
       " 74.01124910530109,\n",
       " 74.01124910530109,\n",
       " 55.528761690554227,\n",
       " 79.693602109589094,\n",
       " 79.693602109589094,\n",
       " 55.528761690554227,\n",
       " 145.08849689142079,\n",
       " 55.528761690554227,\n",
       " 94.06427661367465,\n",
       " 90.856006087106152,\n",
       " 86.170152795401108,\n",
       " 87.08585868072015,\n",
       " 96.114004364857394,\n",
       " 64.938394677321327,\n",
       " 86.834862130802748,\n",
       " 123.8083580575033,\n",
       " 87.08585868072015,\n",
       " 52.456582286964633,\n",
       " 79.008863316884401,\n",
       " 53.601096079614216,\n",
       " 126.36399222973381,\n",
       " 88.174111001571973,\n",
       " 126.34719370838312,\n",
       " 126.34719370838312,\n",
       " 126.34719370838312,\n",
       " 126.34719370838312,\n",
       " 126.36399222973381,\n",
       " 126.34719370838312,\n",
       " 126.34719370838312,\n",
       " 126.34719370838312,\n",
       " 126.36399222973381,\n",
       " 126.36399222973381,\n",
       " 126.34719370838312,\n",
       " 126.34719370838312,\n",
       " 126.36399222973381,\n",
       " 126.36399222973381,\n",
       " 147.61671421200168,\n",
       " 108.56354922800821,\n",
       " 108.56354922800821,\n",
       " 108.5548954457532,\n",
       " 56.749987184274502,\n",
       " 56.749987184274502,\n",
       " 25.732004953096322,\n",
       " 25.732004953096322,\n",
       " 54.0449238987866,\n",
       " 18.31345482617413,\n",
       " 84.531460118447711,\n",
       " 27.741198129482306,\n",
       " 18.31345482617413,\n",
       " 27.72796292966548,\n",
       " 27.741198129482306,\n",
       " 27.741198129482306,\n",
       " 27.741198129482306,\n",
       " 105.4892030206377,\n",
       " 95.137421016323202,\n",
       " 96.114004364857394,\n",
       " 105.4892030206377,\n",
       " 22.166809470985676,\n",
       " 64.584399586013603,\n",
       " 96.454148309920612,\n",
       " 96.454148309920612,\n",
       " 65.425443364463462,\n",
       " 64.584399586013603,\n",
       " 126.34719370838312,\n",
       " 64.582363403667003,\n",
       " 64.582363403667003,\n",
       " 64.584399586013603,\n",
       " 64.584399586013603,\n",
       " 96.454148309920612,\n",
       " 64.581854355653036,\n",
       " 64.581854355653036,\n",
       " 126.36399222973381,\n",
       " 74.525788625552295,\n",
       " 176.51676333435572,\n",
       " 74.525788625552295,\n",
       " 74.525788625552295,\n",
       " 110.42022171420987,\n",
       " 110.42022171420987,\n",
       " 110.42022171420987,\n",
       " 53.835425722689273,\n",
       " 53.835425722689273,\n",
       " 37.007603356232025,\n",
       " 88.174111001571973,\n",
       " 126.34719370838312,\n",
       " 126.34719370838312,\n",
       " 111.41606580633913,\n",
       " 78.381605977504947,\n",
       " 115.87737891036923,\n",
       " 126.34719370838312,\n",
       " 38.534848402725508,\n",
       " 126.34719370838312,\n",
       " 74.009212918099848,\n",
       " 73.928271791744336,\n",
       " 73.923181331023187,\n",
       " 53.272520165843467,\n",
       " 53.616646924381037,\n",
       " 53.612065511673869,\n",
       " 145.09155116494071,\n",
       " 53.612065511673869,\n",
       " 54.601231643404645,\n",
       " 28.302286396124707,\n",
       " 28.302286396124707,\n",
       " 28.302286396124707,\n",
       " 28.302286396124707,\n",
       " 28.302286396124707,\n",
       " 33.966469072549074,\n",
       " 28.302286396124707,\n",
       " 28.302286396124707,\n",
       " 33.966469072549074,\n",
       " 28.302286396124707,\n",
       " 28.302286396124707,\n",
       " 31.596443897718132,\n",
       " 55.212687242604787,\n",
       " 84.537568675196795,\n",
       " 82.177349609961027,\n",
       " 27.741198129482306,\n",
       " 56.002300540170758,\n",
       " 56.002300540170758,\n",
       " 56.002300540170758,\n",
       " 128.89930268217466,\n",
       " 53.938247592418406,\n",
       " 53.938247592418406,\n",
       " 18.31345482617413,\n",
       " 18.31345482617413,\n",
       " 34.497640446357366,\n",
       " 35.871819079344512,\n",
       " 144.40088589888478,\n",
       " 96.118585782419203,\n",
       " 96.114004364857394,\n",
       " 96.114004364857394,\n",
       " 96.114004364857394,\n",
       " 55.009881989691955,\n",
       " 96.114004364857394,\n",
       " 96.114004364857394,\n",
       " 96.118585782419203,\n",
       " 21.661463354799935,\n",
       " 75.389500690011033,\n",
       " 55.992628666742448,\n",
       " 55.992628666742448,\n",
       " 18.310909595813555,\n",
       " 18.310909595813555,\n",
       " 18.31345482617413,\n",
       " 52.171243718560049,\n",
       " 18.31345482617413,\n",
       " 18.31345482617413,\n",
       " 18.31345482617413,\n",
       " 59.907198672711075,\n",
       " 194.71747274580574,\n",
       " 136.99630563226273,\n",
       " 30.825004570057487,\n",
       " 78.30844466981101,\n",
       " 33.637531791770044,\n",
       " 83.523571281603779,\n",
       " 83.523571281603779,\n",
       " 31.568472355501818,\n",
       " 83.523571281603779,\n",
       " 98.748387286891187,\n",
       " 98.748387286891187,\n",
       " 98.748387286891187,\n",
       " 83.523571281603779,\n",
       " 83.528661742324914,\n",
       " 83.528661742324914,\n",
       " 31.564909029113302,\n",
       " 83.528661742324914,\n",
       " 98.85592687329472,\n",
       " 98.748387286891187,\n",
       " 83.52807940566376,\n",
       " 33.443960618289836,\n",
       " 33.443960618289836,\n",
       " 98.915142584096287,\n",
       " 83.527643651151607,\n",
       " 118.63581127476658,\n",
       " 170.12106352115882,\n",
       " 19.588231686411767,\n",
       " 53.612065511673869,\n",
       " 53.612065511673869,\n",
       " 98.915142584096287,\n",
       " 31.820513336604542,\n",
       " 62.210790514677726,\n",
       " 98.915142584096287,\n",
       " 98.915142584096287,\n",
       " 98.915142584096287,\n",
       " 98.915142584096287,\n",
       " 98.915142584096287,\n",
       " 98.915142584096287,\n",
       " 123.8083580575033,\n",
       " 124.15301013148112,\n",
       " 64.938394677321327,\n",
       " 87.08585868072015,\n",
       " 64.938394677321327,\n",
       " 87.08585868072015,\n",
       " 74.11827964369067,\n",
       " 64.938394677321327,\n",
       " 87.08585868072015,\n",
       " 87.08585868072015,\n",
       " 64.938394677321327,\n",
       " 76.90314710673367,\n",
       " 76.90314710673367,\n",
       " 118.03067960905904,\n",
       " 118.03067960905904,\n",
       " 118.04035148248732,\n",
       " 38.618468813955161,\n",
       " 38.618468813955161,\n",
       " 65.297650729926005,\n",
       " 98.733267507177601,\n",
       " 98.733267507177601,\n",
       " 65.297650729926005,\n",
       " 109.94531887683834,\n",
       " 83.811233938772062,\n",
       " 83.811233938772062,\n",
       " 83.811233938772062,\n",
       " 88.584574912692858,\n",
       " 50.068957533922649,\n",
       " 50.078120364191633,\n",
       " 50.078120364191633,\n",
       " 101.26454361946139,\n",
       " 50.078120364191633,\n",
       " 50.068957533922649,\n",
       " 50.068957533922649,\n",
       " 50.068957533922649,\n",
       " 101.26403457144743,\n",
       " 101.26454361946139,\n",
       " 60.716270992152062,\n",
       " 101.26454361946139,\n",
       " 78.371934099221988,\n",
       " 88.584574912692858,\n",
       " 50.068957533922649,\n",
       " 88.584574912692858,\n",
       " 78.371934099221988,\n",
       " 101.26454361946139,\n",
       " 78.371934099221988,\n",
       " 78.383642159851547,\n",
       " 78.383642159851547,\n",
       " 53.846624735304857,\n",
       " 53.846624735304857,\n",
       " 57.019628130357049,\n",
       " 58.116767158143645,\n",
       " 27.741198129482306,\n",
       " 55.212687242604787,\n",
       " 18.31345482617413,\n",
       " 201.75561759889277,\n",
       " 18.31345482617413,\n",
       " 18.31345482617413,\n",
       " 28.958213884002298,\n",
       " 53.938247592418406,\n",
       " 53.938247592418406,\n",
       " 28.7871583225797,\n",
       " 53.938247592418406,\n",
       " 18.31345482617413,\n",
       " 27.738652899121746,\n",
       " 18.31345482617413,\n",
       " 18.31345482617413,\n",
       " 18.31345482617413,\n",
       " 27.738652899121746,\n",
       " 18.31345482617413,\n",
       " 19.496981573344932,\n",
       " 18.31345482617413,\n",
       " 18.31345482617413,\n",
       " 18.31345482617413,\n",
       " 18.31345482617413,\n",
       " 18.31345482617413,\n",
       " 19.496981573344932,\n",
       " 19.496981573344932,\n",
       " 28.302286396124707,\n",
       " 80.724393511204411,\n",
       " 28.302286396124707,\n",
       " 28.302286396124707,\n",
       " 52.160044701089831,\n",
       " 53.937229501245099,\n",
       " 18.310909595813555,\n",
       " 56.000773405838125,\n",
       " 56.000773405838125,\n",
       " 52.160044701089831,\n",
       " 18.302764856717872,\n",
       " 53.937229501245099,\n",
       " 52.159026609916531,\n",
       " 28.302286396124707,\n",
       " 53.937229501245099,\n",
       " 28.302286396124707,\n",
       " 31.177539346195999,\n",
       " 31.177539346195999,\n",
       " 31.177539346195999,\n",
       " 31.177539346195999,\n",
       " ...]"
      ]
     },
     "execution_count": 181,
     "metadata": {},
     "output_type": "execute_result"
    }
   ],
   "source": [
    "new_pca"
   ]
  },
  {
   "cell_type": "code",
   "execution_count": 182,
   "metadata": {
    "collapsed": false,
    "scrolled": false
   },
   "outputs": [
    {
     "ename": "ValueError",
     "evalue": "x and y must be the same size",
     "output_type": "error",
     "traceback": [
      "\u001b[0;31m---------------------------------------------------------------------------\u001b[0m",
      "\u001b[0;31mValueError\u001b[0m                                Traceback (most recent call last)",
      "\u001b[0;32m<ipython-input-182-d90acf0ede87>\u001b[0m in \u001b[0;36m<module>\u001b[0;34m()\u001b[0m\n\u001b[0;32m----> 1\u001b[0;31m \u001b[0mplt\u001b[0m\u001b[0;34m.\u001b[0m\u001b[0mscatter\u001b[0m\u001b[0;34m(\u001b[0m\u001b[0mnew_pca\u001b[0m\u001b[0;34m,\u001b[0m \u001b[0my\u001b[0m\u001b[0;34m,\u001b[0m \u001b[0ms\u001b[0m\u001b[0;34m=\u001b[0m\u001b[0;36m1\u001b[0m\u001b[0;34m)\u001b[0m\u001b[0;34m\u001b[0m\u001b[0m\n\u001b[0m\u001b[1;32m      2\u001b[0m \u001b[0mplt\u001b[0m\u001b[0;34m.\u001b[0m\u001b[0mplot\u001b[0m\u001b[0;34m(\u001b[0m\u001b[0mnew_pca\u001b[0m\u001b[0;34m,\u001b[0m \u001b[0mreg\u001b[0m\u001b[0;34m.\u001b[0m\u001b[0mpredict\u001b[0m\u001b[0;34m(\u001b[0m\u001b[0mX_pca\u001b[0m\u001b[0;34m)\u001b[0m\u001b[0;34m)\u001b[0m\u001b[0;34m\u001b[0m\u001b[0m\n\u001b[1;32m      3\u001b[0m \u001b[0mplt\u001b[0m\u001b[0;34m.\u001b[0m\u001b[0mshow\u001b[0m\u001b[0;34m(\u001b[0m\u001b[0;34m)\u001b[0m\u001b[0;34m\u001b[0m\u001b[0m\n",
      "\u001b[0;32m/usr/local/lib/python3.5/dist-packages/matplotlib/pyplot.py\u001b[0m in \u001b[0;36mscatter\u001b[0;34m(x, y, s, c, marker, cmap, norm, vmin, vmax, alpha, linewidths, verts, edgecolors, hold, data, **kwargs)\u001b[0m\n\u001b[1;32m   3433\u001b[0m                          \u001b[0mvmin\u001b[0m\u001b[0;34m=\u001b[0m\u001b[0mvmin\u001b[0m\u001b[0;34m,\u001b[0m \u001b[0mvmax\u001b[0m\u001b[0;34m=\u001b[0m\u001b[0mvmax\u001b[0m\u001b[0;34m,\u001b[0m \u001b[0malpha\u001b[0m\u001b[0;34m=\u001b[0m\u001b[0malpha\u001b[0m\u001b[0;34m,\u001b[0m\u001b[0;34m\u001b[0m\u001b[0m\n\u001b[1;32m   3434\u001b[0m                          \u001b[0mlinewidths\u001b[0m\u001b[0;34m=\u001b[0m\u001b[0mlinewidths\u001b[0m\u001b[0;34m,\u001b[0m \u001b[0mverts\u001b[0m\u001b[0;34m=\u001b[0m\u001b[0mverts\u001b[0m\u001b[0;34m,\u001b[0m\u001b[0;34m\u001b[0m\u001b[0m\n\u001b[0;32m-> 3435\u001b[0;31m                          edgecolors=edgecolors, data=data, **kwargs)\n\u001b[0m\u001b[1;32m   3436\u001b[0m     \u001b[0;32mfinally\u001b[0m\u001b[0;34m:\u001b[0m\u001b[0;34m\u001b[0m\u001b[0m\n\u001b[1;32m   3437\u001b[0m         \u001b[0max\u001b[0m\u001b[0;34m.\u001b[0m\u001b[0m_hold\u001b[0m \u001b[0;34m=\u001b[0m \u001b[0mwashold\u001b[0m\u001b[0;34m\u001b[0m\u001b[0m\n",
      "\u001b[0;32m/usr/local/lib/python3.5/dist-packages/matplotlib/__init__.py\u001b[0m in \u001b[0;36minner\u001b[0;34m(ax, *args, **kwargs)\u001b[0m\n\u001b[1;32m   1890\u001b[0m                     warnings.warn(msg % (label_namer, func.__name__),\n\u001b[1;32m   1891\u001b[0m                                   RuntimeWarning, stacklevel=2)\n\u001b[0;32m-> 1892\u001b[0;31m             \u001b[0;32mreturn\u001b[0m \u001b[0mfunc\u001b[0m\u001b[0;34m(\u001b[0m\u001b[0max\u001b[0m\u001b[0;34m,\u001b[0m \u001b[0;34m*\u001b[0m\u001b[0margs\u001b[0m\u001b[0;34m,\u001b[0m \u001b[0;34m**\u001b[0m\u001b[0mkwargs\u001b[0m\u001b[0;34m)\u001b[0m\u001b[0;34m\u001b[0m\u001b[0m\n\u001b[0m\u001b[1;32m   1893\u001b[0m         \u001b[0mpre_doc\u001b[0m \u001b[0;34m=\u001b[0m \u001b[0minner\u001b[0m\u001b[0;34m.\u001b[0m\u001b[0m__doc__\u001b[0m\u001b[0;34m\u001b[0m\u001b[0m\n\u001b[1;32m   1894\u001b[0m         \u001b[0;32mif\u001b[0m \u001b[0mpre_doc\u001b[0m \u001b[0;32mis\u001b[0m \u001b[0;32mNone\u001b[0m\u001b[0;34m:\u001b[0m\u001b[0;34m\u001b[0m\u001b[0m\n",
      "\u001b[0;32m/usr/local/lib/python3.5/dist-packages/matplotlib/axes/_axes.py\u001b[0m in \u001b[0;36mscatter\u001b[0;34m(self, x, y, s, c, marker, cmap, norm, vmin, vmax, alpha, linewidths, verts, edgecolors, **kwargs)\u001b[0m\n\u001b[1;32m   3956\u001b[0m         \u001b[0my\u001b[0m \u001b[0;34m=\u001b[0m \u001b[0mnp\u001b[0m\u001b[0;34m.\u001b[0m\u001b[0mma\u001b[0m\u001b[0;34m.\u001b[0m\u001b[0mravel\u001b[0m\u001b[0;34m(\u001b[0m\u001b[0my\u001b[0m\u001b[0;34m)\u001b[0m\u001b[0;34m\u001b[0m\u001b[0m\n\u001b[1;32m   3957\u001b[0m         \u001b[0;32mif\u001b[0m \u001b[0mx\u001b[0m\u001b[0;34m.\u001b[0m\u001b[0msize\u001b[0m \u001b[0;34m!=\u001b[0m \u001b[0my\u001b[0m\u001b[0;34m.\u001b[0m\u001b[0msize\u001b[0m\u001b[0;34m:\u001b[0m\u001b[0;34m\u001b[0m\u001b[0m\n\u001b[0;32m-> 3958\u001b[0;31m             \u001b[0;32mraise\u001b[0m \u001b[0mValueError\u001b[0m\u001b[0;34m(\u001b[0m\u001b[0;34m\"x and y must be the same size\"\u001b[0m\u001b[0;34m)\u001b[0m\u001b[0;34m\u001b[0m\u001b[0m\n\u001b[0m\u001b[1;32m   3959\u001b[0m \u001b[0;34m\u001b[0m\u001b[0m\n\u001b[1;32m   3960\u001b[0m         \u001b[0;32mif\u001b[0m \u001b[0ms\u001b[0m \u001b[0;32mis\u001b[0m \u001b[0;32mNone\u001b[0m\u001b[0;34m:\u001b[0m\u001b[0;34m\u001b[0m\u001b[0m\n",
      "\u001b[0;31mValueError\u001b[0m: x and y must be the same size"
     ]
    }
   ],
   "source": [
    "plt.scatter(new_pca, y, s=1)\n",
    "plt.plot(new_pca, reg.predict(X_pca))\n",
    "plt.show()"
   ]
  },
  {
   "cell_type": "code",
   "execution_count": 183,
   "metadata": {
    "collapsed": false,
    "scrolled": true
   },
   "outputs": [
    {
     "ename": "ValueError",
     "evalue": "all the input array dimensions except for the concatenation axis must match exactly",
     "output_type": "error",
     "traceback": [
      "\u001b[0;31m---------------------------------------------------------------------------\u001b[0m",
      "\u001b[0;31mValueError\u001b[0m                                Traceback (most recent call last)",
      "\u001b[0;32m<ipython-input-183-da6bdef23fb1>\u001b[0m in \u001b[0;36m<module>\u001b[0;34m()\u001b[0m\n\u001b[1;32m     27\u001b[0m \u001b[0;31m#y = [19, 20, 20.5, 21.5, 22, 23, 23, 25.5, 24]\u001b[0m\u001b[0;34m\u001b[0m\u001b[0;34m\u001b[0m\u001b[0m\n\u001b[1;32m     28\u001b[0m \u001b[0;34m\u001b[0m\u001b[0m\n\u001b[0;32m---> 29\u001b[0;31m \u001b[0mslope\u001b[0m\u001b[0;34m,\u001b[0m \u001b[0mintercept\u001b[0m\u001b[0;34m,\u001b[0m \u001b[0mr_value\u001b[0m\u001b[0;34m,\u001b[0m \u001b[0mp_value\u001b[0m\u001b[0;34m,\u001b[0m \u001b[0mstd_err\u001b[0m \u001b[0;34m=\u001b[0m \u001b[0mstats\u001b[0m\u001b[0;34m.\u001b[0m\u001b[0mlinregress\u001b[0m\u001b[0;34m(\u001b[0m\u001b[0mnew_pca\u001b[0m\u001b[0;34m,\u001b[0m\u001b[0my\u001b[0m\u001b[0;34m)\u001b[0m\u001b[0;34m\u001b[0m\u001b[0m\n\u001b[0m\u001b[1;32m     30\u001b[0m \u001b[0;34m\u001b[0m\u001b[0m\n\u001b[1;32m     31\u001b[0m \u001b[0mprint\u001b[0m\u001b[0;34m(\u001b[0m\u001b[0;34m'r value'\u001b[0m\u001b[0;34m,\u001b[0m \u001b[0mr_value\u001b[0m\u001b[0;34m)\u001b[0m\u001b[0;34m\u001b[0m\u001b[0m\n",
      "\u001b[0;32m/usr/local/lib/python3.5/dist-packages/scipy/stats/_stats_mstats_common.py\u001b[0m in \u001b[0;36mlinregress\u001b[0;34m(x, y)\u001b[0m\n\u001b[1;32m     77\u001b[0m \u001b[0;34m\u001b[0m\u001b[0m\n\u001b[1;32m     78\u001b[0m     \u001b[0;31m# average sum of squares:\u001b[0m\u001b[0;34m\u001b[0m\u001b[0;34m\u001b[0m\u001b[0m\n\u001b[0;32m---> 79\u001b[0;31m     \u001b[0mssxm\u001b[0m\u001b[0;34m,\u001b[0m \u001b[0mssxym\u001b[0m\u001b[0;34m,\u001b[0m \u001b[0mssyxm\u001b[0m\u001b[0;34m,\u001b[0m \u001b[0mssym\u001b[0m \u001b[0;34m=\u001b[0m \u001b[0mnp\u001b[0m\u001b[0;34m.\u001b[0m\u001b[0mcov\u001b[0m\u001b[0;34m(\u001b[0m\u001b[0mx\u001b[0m\u001b[0;34m,\u001b[0m \u001b[0my\u001b[0m\u001b[0;34m,\u001b[0m \u001b[0mbias\u001b[0m\u001b[0;34m=\u001b[0m\u001b[0;36m1\u001b[0m\u001b[0;34m)\u001b[0m\u001b[0;34m.\u001b[0m\u001b[0mflat\u001b[0m\u001b[0;34m\u001b[0m\u001b[0m\n\u001b[0m\u001b[1;32m     80\u001b[0m     \u001b[0mr_num\u001b[0m \u001b[0;34m=\u001b[0m \u001b[0mssxym\u001b[0m\u001b[0;34m\u001b[0m\u001b[0m\n\u001b[1;32m     81\u001b[0m     \u001b[0mr_den\u001b[0m \u001b[0;34m=\u001b[0m \u001b[0mnp\u001b[0m\u001b[0;34m.\u001b[0m\u001b[0msqrt\u001b[0m\u001b[0;34m(\u001b[0m\u001b[0mssxm\u001b[0m \u001b[0;34m*\u001b[0m \u001b[0mssym\u001b[0m\u001b[0;34m)\u001b[0m\u001b[0;34m\u001b[0m\u001b[0m\n",
      "\u001b[0;32m/usr/local/lib/python3.5/dist-packages/numpy/lib/function_base.py\u001b[0m in \u001b[0;36mcov\u001b[0;34m(m, y, rowvar, bias, ddof, fweights, aweights)\u001b[0m\n\u001b[1;32m   2863\u001b[0m         \u001b[0;32mif\u001b[0m \u001b[0mrowvar\u001b[0m \u001b[0;34m==\u001b[0m \u001b[0;36m0\u001b[0m \u001b[0;32mand\u001b[0m \u001b[0my\u001b[0m\u001b[0;34m.\u001b[0m\u001b[0mshape\u001b[0m\u001b[0;34m[\u001b[0m\u001b[0;36m0\u001b[0m\u001b[0;34m]\u001b[0m \u001b[0;34m!=\u001b[0m \u001b[0;36m1\u001b[0m\u001b[0;34m:\u001b[0m\u001b[0;34m\u001b[0m\u001b[0m\n\u001b[1;32m   2864\u001b[0m             \u001b[0my\u001b[0m \u001b[0;34m=\u001b[0m \u001b[0my\u001b[0m\u001b[0;34m.\u001b[0m\u001b[0mT\u001b[0m\u001b[0;34m\u001b[0m\u001b[0m\n\u001b[0;32m-> 2865\u001b[0;31m         \u001b[0mX\u001b[0m \u001b[0;34m=\u001b[0m \u001b[0mnp\u001b[0m\u001b[0;34m.\u001b[0m\u001b[0mvstack\u001b[0m\u001b[0;34m(\u001b[0m\u001b[0;34m(\u001b[0m\u001b[0mX\u001b[0m\u001b[0;34m,\u001b[0m \u001b[0my\u001b[0m\u001b[0;34m)\u001b[0m\u001b[0;34m)\u001b[0m\u001b[0;34m\u001b[0m\u001b[0m\n\u001b[0m\u001b[1;32m   2866\u001b[0m \u001b[0;34m\u001b[0m\u001b[0m\n\u001b[1;32m   2867\u001b[0m     \u001b[0;32mif\u001b[0m \u001b[0mddof\u001b[0m \u001b[0;32mis\u001b[0m \u001b[0;32mNone\u001b[0m\u001b[0;34m:\u001b[0m\u001b[0;34m\u001b[0m\u001b[0m\n",
      "\u001b[0;32m/usr/local/lib/python3.5/dist-packages/numpy/core/shape_base.py\u001b[0m in \u001b[0;36mvstack\u001b[0;34m(tup)\u001b[0m\n\u001b[1;32m    232\u001b[0m \u001b[0;34m\u001b[0m\u001b[0m\n\u001b[1;32m    233\u001b[0m     \"\"\"\n\u001b[0;32m--> 234\u001b[0;31m     \u001b[0;32mreturn\u001b[0m \u001b[0m_nx\u001b[0m\u001b[0;34m.\u001b[0m\u001b[0mconcatenate\u001b[0m\u001b[0;34m(\u001b[0m\u001b[0;34m[\u001b[0m\u001b[0matleast_2d\u001b[0m\u001b[0;34m(\u001b[0m\u001b[0m_m\u001b[0m\u001b[0;34m)\u001b[0m \u001b[0;32mfor\u001b[0m \u001b[0m_m\u001b[0m \u001b[0;32min\u001b[0m \u001b[0mtup\u001b[0m\u001b[0;34m]\u001b[0m\u001b[0;34m,\u001b[0m \u001b[0;36m0\u001b[0m\u001b[0;34m)\u001b[0m\u001b[0;34m\u001b[0m\u001b[0m\n\u001b[0m\u001b[1;32m    235\u001b[0m \u001b[0;34m\u001b[0m\u001b[0m\n\u001b[1;32m    236\u001b[0m \u001b[0;32mdef\u001b[0m \u001b[0mhstack\u001b[0m\u001b[0;34m(\u001b[0m\u001b[0mtup\u001b[0m\u001b[0;34m)\u001b[0m\u001b[0;34m:\u001b[0m\u001b[0;34m\u001b[0m\u001b[0m\n",
      "\u001b[0;31mValueError\u001b[0m: all the input array dimensions except for the concatenation axis must match exactly"
     ]
    }
   ],
   "source": [
    "from numpy import arange,array,ones#,random,linalg\n",
    "from pylab import plot,show\n",
    "from scipy import stats\n",
    "from sklearn.svm import SVR\n",
    "\n",
    "\n",
    "\"\"\"\n",
    "svr_rbf = SVR(kernel='rbf', C=1e3, gamma=0.1)\n",
    "svr_lin = SVR(kernel='linear', C=1e3)\n",
    "svr_poly = SVR(kernel='poly', C=1e3, degree=2)\n",
    "y_rbf = svr_rbf.fit(X, y).predict(X)\n",
    "y_lin = svr_lin.fit(X, y).predict(X)\n",
    "y_poly = svr_poly.fit(X, y).predict(X)\n",
    "plt.plot(X, y_rbf, color='navy', lw=lw, label='RBF model')\n",
    "plt.plot(X, y_lin, color='c', lw=lw, label='Linear model')\n",
    "plt.plot(X, y_poly, color='cornflowerblue', lw=lw, label='Polynomial model')\"\"\"\n",
    "\n",
    "\n",
    "\n",
    "\n",
    "\n",
    "#A = array([ bx, ones(9)])\n",
    "# linearly generated sequence\n",
    "\n",
    "\n",
    "\n",
    "#y = [19, 20, 20.5, 21.5, 22, 23, 23, 25.5, 24]\n",
    "\n",
    "slope, intercept, r_value, p_value, std_err = stats.linregress(new_pca,y)\n",
    "\n",
    "print('r value', r_value)\n",
    "print('p_value', p_value)\n",
    "print('standard deviation', std_err)\n",
    "xi = np.arange(-50,270)\n",
    "line = slope*xi+intercept\n",
    "print(slope*line+intercept)\n",
    "#plot(bx,y,'o',s=1)\n",
    "plt.ylabel('Hectare')\n",
    "plt.xlabel('Principal Components')\n",
    "plt.title('Climate Conditions and Area Burned')\n",
    "plt.scatter(new_pca,y,s=1)\n",
    "plot(line,c=\"red\")\n",
    "plt.show()"
   ]
  },
  {
   "cell_type": "code",
   "execution_count": 184,
   "metadata": {
    "collapsed": false
   },
   "outputs": [],
   "source": [
    "d = {'temp' : [5.8],\n",
    "     'precipitation' : [54.468536],\n",
    "     'wind_speed' : [13.301041],\n",
    "     'month' : [2],\n",
    "     'burn_rate' : [1],\n",
    "    }\n",
    "without_paris = pd.DataFrame(d)\n",
    "#climate_data = pd.DataFrame([5.8],[54.468536], [13.301041], [2], [1], columns=['temp', 'precipitation', 'wind_speed', 'month', 'burn_rate'])"
   ]
  },
  {
   "cell_type": "code",
   "execution_count": 185,
   "metadata": {
    "collapsed": false
   },
   "outputs": [
    {
     "data": {
      "text/html": [
       "<div>\n",
       "<table border=\"1\" class=\"dataframe\">\n",
       "  <thead>\n",
       "    <tr style=\"text-align: right;\">\n",
       "      <th></th>\n",
       "      <th>burn_rate</th>\n",
       "      <th>month</th>\n",
       "      <th>precipitation</th>\n",
       "      <th>temp</th>\n",
       "      <th>wind_speed</th>\n",
       "    </tr>\n",
       "  </thead>\n",
       "  <tbody>\n",
       "    <tr>\n",
       "      <th>0</th>\n",
       "      <td>1</td>\n",
       "      <td>2</td>\n",
       "      <td>54.468536</td>\n",
       "      <td>5.8</td>\n",
       "      <td>13.301041</td>\n",
       "    </tr>\n",
       "  </tbody>\n",
       "</table>\n",
       "</div>"
      ],
      "text/plain": [
       "   burn_rate  month  precipitation  temp  wind_speed\n",
       "0          1      2      54.468536   5.8   13.301041"
      ]
     },
     "execution_count": 185,
     "metadata": {},
     "output_type": "execute_result"
    }
   ],
   "source": [
    "without_paris"
   ]
  },
  {
   "cell_type": "code",
   "execution_count": 186,
   "metadata": {
    "collapsed": false
   },
   "outputs": [
    {
     "name": "stderr",
     "output_type": "stream",
     "text": [
      "/usr/local/lib/python3.5/dist-packages/sklearn/decomposition/pca.py:398: RuntimeWarning: invalid value encountered in true_divide\n",
      "  explained_variance_ratio_ = explained_variance_ / total_var\n"
     ]
    }
   ],
   "source": [
    "reg = LinearRegression()\n",
    "pca = PCA(n_components=1)\n",
    "without_paris_pca = pca.fit_transform(without_paris)"
   ]
  },
  {
   "cell_type": "code",
   "execution_count": 187,
   "metadata": {
    "collapsed": false
   },
   "outputs": [
    {
     "data": {
      "text/plain": [
       "array([[ 0.]])"
      ]
     },
     "execution_count": 187,
     "metadata": {},
     "output_type": "execute_result"
    }
   ],
   "source": [
    "without_paris_pca"
   ]
  },
  {
   "cell_type": "code",
   "execution_count": 188,
   "metadata": {
    "collapsed": false
   },
   "outputs": [
    {
     "ename": "NameError",
     "evalue": "name 'func' is not defined",
     "output_type": "error",
     "traceback": [
      "\u001b[0;31m---------------------------------------------------------------------------\u001b[0m",
      "\u001b[0;31mNameError\u001b[0m                                 Traceback (most recent call last)",
      "\u001b[0;32m<ipython-input-188-b7d53d36e300>\u001b[0m in \u001b[0;36m<module>\u001b[0;34m()\u001b[0m\n\u001b[1;32m      4\u001b[0m \u001b[0mxdata\u001b[0m \u001b[0;34m=\u001b[0m \u001b[0mnp\u001b[0m\u001b[0;34m.\u001b[0m\u001b[0mlinspace\u001b[0m\u001b[0;34m(\u001b[0m\u001b[0;36m0\u001b[0m\u001b[0;34m,\u001b[0m \u001b[0;36m4\u001b[0m\u001b[0;34m,\u001b[0m \u001b[0;36m50\u001b[0m\u001b[0;34m)\u001b[0m\u001b[0;34m\u001b[0m\u001b[0m\n\u001b[1;32m      5\u001b[0m \u001b[0;31m#y = func(xdata, 2.5, 1.3, 0.5)\u001b[0m\u001b[0;34m\u001b[0m\u001b[0;34m\u001b[0m\u001b[0m\n\u001b[0;32m----> 6\u001b[0;31m \u001b[0mpopt\u001b[0m\u001b[0;34m,\u001b[0m \u001b[0mpcov\u001b[0m \u001b[0;34m=\u001b[0m \u001b[0mcurve_fit\u001b[0m\u001b[0;34m(\u001b[0m\u001b[0mfunc\u001b[0m\u001b[0;34m,\u001b[0m \u001b[0mbx\u001b[0m\u001b[0;34m,\u001b[0m \u001b[0my\u001b[0m\u001b[0;34m)\u001b[0m\u001b[0;34m\u001b[0m\u001b[0m\n\u001b[0m\u001b[1;32m      7\u001b[0m \u001b[0;34m\u001b[0m\u001b[0m\n\u001b[1;32m      8\u001b[0m \u001b[0;31m#ydata = y + 0.2 * np.random.normal(size=len(xdata))b = y + 0.2 * np.random.normal(size=len(xdata))\u001b[0m\u001b[0;34m\u001b[0m\u001b[0;34m\u001b[0m\u001b[0m\n",
      "\u001b[0;31mNameError\u001b[0m: name 'func' is not defined"
     ]
    }
   ],
   "source": [
    "from scipy.optimize import curve_fit\n",
    "#def func(x, a, b, c):\n",
    "#    return a * np.exp(-b * x) + c\n",
    "xdata = np.linspace(0, 4, 50)\n",
    "#y = func(xdata, 2.5, 1.3, 0.5)\n",
    "popt, pcov = curve_fit(func, bx, y)\n",
    "\n",
    "#ydata = y + 0.2 * np.random.normal(size=len(xdata))b = y + 0.2 * np.random.normal(size=len(xdata))"
   ]
  },
  {
   "cell_type": "code",
   "execution_count": 189,
   "metadata": {
    "collapsed": false
   },
   "outputs": [
    {
     "ename": "NameError",
     "evalue": "name 'pcov' is not defined",
     "output_type": "error",
     "traceback": [
      "\u001b[0;31m---------------------------------------------------------------------------\u001b[0m",
      "\u001b[0;31mNameError\u001b[0m                                 Traceback (most recent call last)",
      "\u001b[0;32m<ipython-input-189-08e0b550adc1>\u001b[0m in \u001b[0;36m<module>\u001b[0;34m()\u001b[0m\n\u001b[0;32m----> 1\u001b[0;31m \u001b[0mpcov\u001b[0m\u001b[0;34m\u001b[0m\u001b[0m\n\u001b[0m",
      "\u001b[0;31mNameError\u001b[0m: name 'pcov' is not defined"
     ]
    }
   ],
   "source": [
    "pcov"
   ]
  },
  {
   "cell_type": "code",
   "execution_count": 190,
   "metadata": {
    "collapsed": false
   },
   "outputs": [
    {
     "ename": "NameError",
     "evalue": "name 'popt' is not defined",
     "output_type": "error",
     "traceback": [
      "\u001b[0;31m---------------------------------------------------------------------------\u001b[0m",
      "\u001b[0;31mNameError\u001b[0m                                 Traceback (most recent call last)",
      "\u001b[0;32m<ipython-input-190-fbad0ca840cc>\u001b[0m in \u001b[0;36m<module>\u001b[0;34m()\u001b[0m\n\u001b[1;32m      1\u001b[0m \u001b[0;32mdef\u001b[0m \u001b[0mfunc\u001b[0m\u001b[0;34m(\u001b[0m\u001b[0myx\u001b[0m\u001b[0;34m,\u001b[0m \u001b[0mp1\u001b[0m\u001b[0;34m,\u001b[0m \u001b[0mp2\u001b[0m\u001b[0;34m)\u001b[0m\u001b[0;34m:\u001b[0m\u001b[0;34m\u001b[0m\u001b[0m\n\u001b[1;32m      2\u001b[0m   \u001b[0;32mreturn\u001b[0m \u001b[0mp1\u001b[0m\u001b[0;34m*\u001b[0m\u001b[0mnp\u001b[0m\u001b[0;34m.\u001b[0m\u001b[0mcos\u001b[0m\u001b[0;34m(\u001b[0m\u001b[0mp2\u001b[0m\u001b[0;34m*\u001b[0m\u001b[0myx\u001b[0m\u001b[0;34m)\u001b[0m\u001b[0;34m.\u001b[0m\u001b[0mastype\u001b[0m\u001b[0;34m(\u001b[0m\u001b[0mint\u001b[0m\u001b[0;34m)\u001b[0m \u001b[0;34m+\u001b[0m \u001b[0mp2\u001b[0m\u001b[0;34m*\u001b[0m\u001b[0mnp\u001b[0m\u001b[0;34m.\u001b[0m\u001b[0msin\u001b[0m\u001b[0;34m(\u001b[0m\u001b[0mp1\u001b[0m\u001b[0;34m*\u001b[0m\u001b[0myx\u001b[0m\u001b[0;34m)\u001b[0m\u001b[0;34m.\u001b[0m\u001b[0mastype\u001b[0m\u001b[0;34m(\u001b[0m\u001b[0mint\u001b[0m\u001b[0;34m)\u001b[0m\u001b[0;34m\u001b[0m\u001b[0m\n\u001b[0;32m----> 3\u001b[0;31m \u001b[0mp1\u001b[0m \u001b[0;34m=\u001b[0m \u001b[0mpopt\u001b[0m\u001b[0;34m[\u001b[0m\u001b[0;36m0\u001b[0m\u001b[0;34m]\u001b[0m\u001b[0;34m\u001b[0m\u001b[0m\n\u001b[0m\u001b[1;32m      4\u001b[0m \u001b[0mp2\u001b[0m \u001b[0;34m=\u001b[0m \u001b[0mpopt\u001b[0m\u001b[0;34m[\u001b[0m\u001b[0;36m1\u001b[0m\u001b[0;34m]\u001b[0m\u001b[0;34m\u001b[0m\u001b[0m\n\u001b[1;32m      5\u001b[0m \u001b[0mnbx\u001b[0m \u001b[0;34m=\u001b[0m \u001b[0mnp\u001b[0m\u001b[0;34m.\u001b[0m\u001b[0marray\u001b[0m\u001b[0;34m(\u001b[0m\u001b[0mbx\u001b[0m\u001b[0;34m)\u001b[0m\u001b[0;34m\u001b[0m\u001b[0m\n",
      "\u001b[0;31mNameError\u001b[0m: name 'popt' is not defined"
     ]
    }
   ],
   "source": [
    "def func(yx, p1, p2):\n",
    "  return p1*np.cos(p2*yx).astype(int) + p2*np.sin(p1*yx).astype(int)\n",
    "p1 = popt[0]\n",
    "p2 = popt[1]\n",
    "nbx = np.array(bx)\n",
    "ny = np.array(y)\n",
    "\n",
    "residuals = y - func(bx,p1,p2)\n",
    "fres = sum(residuals**2)"
   ]
  },
  {
   "cell_type": "code",
   "execution_count": 191,
   "metadata": {
    "collapsed": false
   },
   "outputs": [
    {
     "ename": "NameError",
     "evalue": "name 'bx' is not defined",
     "output_type": "error",
     "traceback": [
      "\u001b[0;31m---------------------------------------------------------------------------\u001b[0m",
      "\u001b[0;31mNameError\u001b[0m                                 Traceback (most recent call last)",
      "\u001b[0;32m<ipython-input-191-ce1b7c1ab879>\u001b[0m in \u001b[0;36m<module>\u001b[0;34m()\u001b[0m\n\u001b[0;32m----> 1\u001b[0;31m \u001b[0mbx\u001b[0m\u001b[0;34m\u001b[0m\u001b[0m\n\u001b[0m",
      "\u001b[0;31mNameError\u001b[0m: name 'bx' is not defined"
     ]
    }
   ],
   "source": [
    "bx"
   ]
  },
  {
   "cell_type": "code",
   "execution_count": 192,
   "metadata": {
    "collapsed": false
   },
   "outputs": [],
   "source": [
    "bx = []\n",
    "for p in X_pca:\n",
    "    bx.append(p[0])"
   ]
  },
  {
   "cell_type": "code",
   "execution_count": 193,
   "metadata": {
    "collapsed": false
   },
   "outputs": [
    {
     "ename": "AttributeError",
     "evalue": "'list' object has no attribute 'tolist'",
     "output_type": "error",
     "traceback": [
      "\u001b[0;31m---------------------------------------------------------------------------\u001b[0m",
      "\u001b[0;31mAttributeError\u001b[0m                            Traceback (most recent call last)",
      "\u001b[0;32m<ipython-input-193-3252a82d13b2>\u001b[0m in \u001b[0;36m<module>\u001b[0;34m()\u001b[0m\n\u001b[0;32m----> 1\u001b[0;31m \u001b[0my\u001b[0m \u001b[0;34m=\u001b[0m \u001b[0my\u001b[0m\u001b[0;34m.\u001b[0m\u001b[0mtolist\u001b[0m\u001b[0;34m(\u001b[0m\u001b[0;34m)\u001b[0m\u001b[0;34m\u001b[0m\u001b[0m\n\u001b[0m",
      "\u001b[0;31mAttributeError\u001b[0m: 'list' object has no attribute 'tolist'"
     ]
    }
   ],
   "source": [
    "y = y.tolist()"
   ]
  },
  {
   "cell_type": "code",
   "execution_count": 194,
   "metadata": {
    "collapsed": false
   },
   "outputs": [
    {
     "data": {
      "text/plain": [
       "[-8.3921189761466337,\n",
       " 15.196949541999485,\n",
       " 7.4942847674893525,\n",
       " -3.0424161088211488,\n",
       " -23.591090453293301]"
      ]
     },
     "execution_count": 194,
     "metadata": {},
     "output_type": "execute_result"
    }
   ],
   "source": [
    "\n",
    "\n",
    "bx[:5]"
   ]
  },
  {
   "cell_type": "code",
   "execution_count": 195,
   "metadata": {
    "collapsed": false
   },
   "outputs": [
    {
     "data": {
      "text/plain": [
       "[19, 20, 20.5, 21.5, 22, 23, 23, 25.5, 24]"
      ]
     },
     "execution_count": 195,
     "metadata": {},
     "output_type": "execute_result"
    }
   ],
   "source": [
    "y"
   ]
  },
  {
   "cell_type": "code",
   "execution_count": 196,
   "metadata": {
    "collapsed": false
   },
   "outputs": [
    {
     "ename": "AttributeError",
     "evalue": "'numpy.ndarray' object has no attribute 'head'",
     "output_type": "error",
     "traceback": [
      "\u001b[0;31m---------------------------------------------------------------------------\u001b[0m",
      "\u001b[0;31mAttributeError\u001b[0m                            Traceback (most recent call last)",
      "\u001b[0;32m<ipython-input-196-b6f746eac676>\u001b[0m in \u001b[0;36m<module>\u001b[0;34m()\u001b[0m\n\u001b[0;32m----> 1\u001b[0;31m \u001b[0mx\u001b[0m\u001b[0;34m.\u001b[0m\u001b[0mhead\u001b[0m\u001b[0;34m(\u001b[0m\u001b[0;34m)\u001b[0m\u001b[0;34m\u001b[0m\u001b[0m\n\u001b[0m",
      "\u001b[0;31mAttributeError\u001b[0m: 'numpy.ndarray' object has no attribute 'head'"
     ]
    }
   ],
   "source": [
    "x.head()"
   ]
  },
  {
   "cell_type": "code",
   "execution_count": null,
   "metadata": {
    "collapsed": true
   },
   "outputs": [],
   "source": []
  }
 ],
 "metadata": {
  "kernelspec": {
   "display_name": "Python 3",
   "language": "python",
   "name": "python3"
  },
  "language_info": {
   "codemirror_mode": {
    "name": "ipython",
    "version": 3
   },
   "file_extension": ".py",
   "mimetype": "text/x-python",
   "name": "python",
   "nbconvert_exporter": "python",
   "pygments_lexer": "ipython3",
   "version": "3.5.2"
  }
 },
 "nbformat": 4,
 "nbformat_minor": 1
}
