{
 "cells": [
  {
   "cell_type": "markdown",
   "metadata": {},
   "source": [
    "This notebook will grab historic climate data from the country's historic climate api found here:\n",
    "ftp://ftp.tor.ec.gc.ca/Pub/Get_More_Data_Plus_de_donnees/"
   ]
  },
  {
   "cell_type": "code",
   "execution_count": 49,
   "metadata": {
    "collapsed": false
   },
   "outputs": [
    {
     "data": {
      "text/plain": [
       "array([ ['\"BEAVER LAKE\"', '\"BRITISH COLUMBIA\"', '\"1010774\"', '\"18\"', '\"\"', '\"\"', '\"48.5\"', '\"-123.35\"', '\"483000000\"', '\"-1232100000\"', '\"61\"', '\"1894\"', '\"1952\"', '\"\"', '\"\"', '\"1894\"', '\"1952\"', '\"1894\"', '\"1952\"'],\n",
       "       ['\"BECHER BAY\"', '\"BRITISH COLUMBIA\"', '\"1010780\"', '\"19\"', '\"\"', '\"\"', '\"48.33\"', '\"-123.63\"', '\"482000000\"', '\"-1233800000\"', '\"12.2\"', '\"1956\"', '\"1966\"', '\"\"', '\"\"', '\"1956\"', '\"1966\"', '\"1956\"', '\"1966\"'],\n",
       "       ['\"BRENTWOOD BAY 2\"', '\"BRITISH COLUMBIA\"', '\"1010960\"', '\"20\"', '\"\"', '\"\"', '\"48.6\"', '\"-123.47\"', '\"483600000\"', '\"-1232800000\"', '\"38\"', '\"1987\"', '\"1997\"', '\"\"', '\"\"', '\"1987\"', '\"1997\"', '\"1987\"', '\"1997\"'],\n",
       "       ...,\n",
       "       ['\"REVELSTOKE A\"', '\"BRITISH COLUMBIA\"', '\"1176745\"', '\"49492\"', '\"71685\"', '\"YRV\"', '\"50.97\"', '\"-118.18\"', '\"505800000\"', '\"-1181100000\"', '\"444.7\"', '\"2011\"', '\"2016\"', '\"2011\"', '\"2016\"', '\"2011\"', '\"2016\"', '\"\"', '\"\"'],\n",
       "       ['\"REVELSTOKE A\"', '\"BRITISH COLUMBIA\"', '\"1176749\"', '\"1370\"', '\"\"', '\"ZRV\"', '\"50.96\"', '\"-118.18\"', '\"505740000\"', '\"-1181100000\"', '\"444.7\"', '\"1990\"', '\"2014\"', '\"1994\"', '\"2014\"', '\"1990\"', '\"2013\"', '\"1990\"', '\"2007\"'],\n",
       "       ['\"REVELSTOKE\"', '\"BRITISH COLUMBIA\"', '\"1176750\"', '\"1371\"', '\"\"', '\"\"', '\"51\"', '\"-118.2\"', '\"510000000\"', '\"-1181200000\"', '\"456.3\"', '\"1898\"', '\"1969\"', '\"1953\"', '\"19']], dtype=object)"
      ]
     },
     "execution_count": 49,
     "metadata": {},
     "output_type": "execute_result"
    }
   ],
   "source": [
    "import requests\n",
    "import numpy as np\n",
    "`\n",
    "stations = stations[4:]\n",
    "stations = np.array(stations)\n",
    "stations"
   ]
  },
  {
   "cell_type": "code",
   "execution_count": null,
   "metadata": {
    "collapsed": true
   },
   "outputs": [],
   "source": []
  }
 ],
 "metadata": {
  "anaconda-cloud": {},
  "kernelspec": {
   "display_name": "Python 3",
   "language": "python",
   "name": "python3"
  },
  "language_info": {
   "codemirror_mode": {
    "name": "ipython",
    "version": 3
   },
   "file_extension": ".py",
   "mimetype": "text/x-python",
   "name": "python",
   "nbconvert_exporter": "python",
   "pygments_lexer": "ipython3",
   "version": "3.5.2"
  }
 },
 "nbformat": 4,
 "nbformat_minor": 1
}
