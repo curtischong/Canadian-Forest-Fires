{
 "cells": [
  {
   "cell_type": "code",
   "execution_count": 6,
   "metadata": {
    "collapsed": false
   },
   "outputs": [],
   "source": [
    "import shapefile as shp\n",
    "import pandas as pd\n",
    "import math\n",
    "import numpy as np\n",
    "\n",
    "sf = shp.Reader(\"NFDB_point/NFDB_point_20160923\")\n",
    "shapes = sf.shapes()\n",
    "\n",
    "fireArr = []\n",
    "shapeRecs = sf.iterShapeRecords()\n",
    "for x in shapeRecs:\n",
    "    fireArr.append(x.record[0:])\n",
    "    #fireArr.append(x.record[0:1]+x.record[3:7]+x.record[12:13]+x.record[15:17])\n",
    "\n",
    "df = pd.DataFrame(fireArr, columns=['src_agency', 'fire_id', 'firename','latitude','longitude','year','month','day','rep_date','attk_date','out_date','decade','size_ha','cause','protzone','fire_type','more_info','cfs_ref_id','cfs_note','cfs_note2','acq_date','ag_srcfile'])\n",
    "\n",
    "#df[(df[\"fire_type\"] == \"Wildfire\") | (df[\"fire_type\"] == \"                \")]"
   ]
  },
  {
   "cell_type": "code",
   "execution_count": null,
   "metadata": {
    "collapsed": false
   },
   "outputs": [],
   "source": [
    "stationIds = np.load(\"wind_stations.npy\")"
   ]
  },
  {
   "cell_type": "code",
   "execution_count": null,
   "metadata": {
    "collapsed": false
   },
   "outputs": [],
   "source": [
    "from os import listdir\n",
    "from os.path import isfile, join\n",
    "mypath=\"climate/monthly_wind_speed\"\n",
    "onlyfiles = [f for f in listdir(mypath) if isfile(join(mypath, f))]\n",
    "onlyfiles[:5]"
   ]
  },
  {
   "cell_type": "code",
   "execution_count": null,
   "metadata": {
    "collapsed": false
   },
   "outputs": [],
   "source": [
    "onlyfiles[:5]"
   ]
  },
  {
   "cell_type": "code",
   "execution_count": null,
   "metadata": {
    "collapsed": false
   },
   "outputs": [],
   "source": [
    "windStations = pd.read_csv('climate/monthly_wind_speed/Wind_Stations.csv')\n",
    "windStations.head()"
   ]
  },
  {
   "cell_type": "code",
   "execution_count": null,
   "metadata": {
    "collapsed": false
   },
   "outputs": [],
   "source": [
    "stationIds = []\n",
    "amount = len(df)\n",
    "count = 0\n",
    "lastPerc = 0\n",
    "for row in df.iterrows():\n",
    "    lat = float(row[1][3])\n",
    "    lon = float(row[1][4])\n",
    "    minDist = 1000\n",
    "    stationId = \"\"\n",
    "    fireId = row[1][1]\n",
    "    \n",
    "    for station in windStations.iterrows():\n",
    "        slat = float(station[1][7])\n",
    "        slon = float(station[1][8])\n",
    "        dist = math.sqrt(((lat-slat)**2) + ((lon-slon)**2))\n",
    "        if dist < minDist:\n",
    "            minDist = dist\n",
    "            stationId = station[1][2]\n",
    "    count = count + 1\n",
    "    curPerc = int(float((count)/float(amount))*100)\n",
    "    if curPerc != lastPerc:\n",
    "        lastPerc = curPerc\n",
    "        print curPerc\n",
    "    stationIds.append([fireId, stationId])\n",
    "stationIds"
   ]
  },
  {
   "cell_type": "code",
   "execution_count": null,
   "metadata": {
    "collapsed": false
   },
   "outputs": [],
   "source": [
    "stationIds = np.array(stationIds)\n",
    "np.save(\"wind_speed_stations\",stationIds)"
   ]
  },
  {
   "cell_type": "code",
   "execution_count": null,
   "metadata": {
    "collapsed": false
   },
   "outputs": [],
   "source": [
    "stationsArr = []\n",
    "for x in onlyfiles:\n",
    "    theFile=open(\"climate/monthly_wind_speed/\"+x)\n",
    "    name = x[:-4]\n",
    "    name = name[2:]\n",
    "    rowsInFile = []\n",
    "    n = 4\n",
    "    for i in theFile:\n",
    "        if n == 0:\n",
    "            rowsInFile.append(i.split(\",\"))\n",
    "        else:\n",
    "            n-=1\n",
    "    stationsArr.append([name,rowsInFile])\n"
   ]
  },
  {
   "cell_type": "code",
   "execution_count": null,
   "metadata": {
    "collapsed": false
   },
   "outputs": [],
   "source": [
    "stationsArr[:2]"
   ]
  },
  {
   "cell_type": "code",
   "execution_count": null,
   "metadata": {
    "collapsed": false
   },
   "outputs": [],
   "source": [
    "for x in stationIds:\n",
    "    print x\n",
    "    break"
   ]
  },
  {
   "cell_type": "code",
   "execution_count": null,
   "metadata": {
    "collapsed": false
   },
   "outputs": [],
   "source": [
    "\"\"\"for fire in pdf.itertuples():\n",
    "    print fire[7]\n",
    "    break\"\"\""
   ]
  },
  {
   "cell_type": "code",
   "execution_count": null,
   "metadata": {
    "collapsed": false
   },
   "outputs": [],
   "source": [
    "df.head()"
   ]
  },
  {
   "cell_type": "code",
   "execution_count": null,
   "metadata": {
    "collapsed": false
   },
   "outputs": [],
   "source": [
    "len(df[df[\"year\"] == 2016])"
   ]
  },
  {
   "cell_type": "code",
   "execution_count": null,
   "metadata": {
    "collapsed": false
   },
   "outputs": [],
   "source": [
    "stationsArr[1]"
   ]
  },
  {
   "cell_type": "code",
   "execution_count": null,
   "metadata": {
    "collapsed": false
   },
   "outputs": [],
   "source": [
    "#stationsArr = np.asarray(stationsArr)\n",
    "pdf[\"temp\"]"
   ]
  },
  {
   "cell_type": "code",
   "execution_count": null,
   "metadata": {
    "collapsed": true
   },
   "outputs": [],
   "source": [
    "pdf = df"
   ]
  },
  {
   "cell_type": "code",
   "execution_count": null,
   "metadata": {
    "collapsed": false
   },
   "outputs": [],
   "source": [
    "stationIds = np.load(\"wind_speed_stations.npy\")\n",
    "stationIds = stationIds.astype('str')\n",
    "stationIds"
   ]
  },
  {
   "cell_type": "code",
   "execution_count": null,
   "metadata": {
    "collapsed": true
   },
   "outputs": [],
   "source": [
    "pdf = pdf[(pdf[\"cause\"] == \"U\")|(pdf[\"cause\"] == \"L\")]\n",
    "pdf = pdf[pdf[\"year\"] != 2016]"
   ]
  },
  {
   "cell_type": "code",
   "execution_count": null,
   "metadata": {
    "collapsed": false
   },
   "outputs": [],
   "source": [
    "len(pdf)"
   ]
  },
  {
   "cell_type": "code",
   "execution_count": null,
   "metadata": {
    "collapsed": false
   },
   "outputs": [],
   "source": [
    "count"
   ]
  },
  {
   "cell_type": "code",
   "execution_count": null,
   "metadata": {
    "collapsed": false
   },
   "outputs": [],
   "source": [
    "amount = len(pdf)\n",
    "print(amount)\n",
    "count = 0\n",
    "lastPerc = 0\n",
    "for fire in pdf.itertuples():\n",
    "    for x in stationIds:\n",
    "        if (str(x[0].strip()) == str(fire[2].strip())):\n",
    "            for a in stationsArr:\n",
    "                if str(a[0][1:].strip()) == str(x[1].strip()):\n",
    "                    for line in a[1]:\n",
    "                        if (str(line[0].strip()) == str(fire[6])):\n",
    "                            pdf.set_value(fire.Index,\"wind_speed\",line[(int(fire[7])*2)+1])\n",
    "                            count=count+1\n",
    "                            curPerc = int(float((count)/float(amount))*100)\n",
    "                            if curPerc != lastPerc:\n",
    "                                lastPerc = curPerc\n",
    "                                print (curPerc)\n",
    "                            break\n",
    "                    break\n",
    "            break\n",
    "pdf.to_pickle(\"monthly_wind_speed_df\")"
   ]
  },
  {
   "cell_type": "code",
   "execution_count": null,
   "metadata": {
    "collapsed": false
   },
   "outputs": [],
   "source": [
    "count"
   ]
  },
  {
   "cell_type": "code",
   "execution_count": null,
   "metadata": {
    "collapsed": true
   },
   "outputs": [],
   "source": [
    "#now we look into the files and retrieve the values for each month (again, this is repeated on multiple machines)\n",
    "pdf = df\n",
    "amount = len(df)\n",
    "count = 0\n",
    "lastPerc = 0\n",
    "for index, fire in pdf.iterrows():\n",
    "    for x in stationIds:\n",
    "        if (str(x[0]) == str(fire[1])):\n",
    "            theFile=open(\"climate/monthly_mean_temp/mm\"+str(x[1]) + \".txt\")\n",
    "            file=[]\n",
    "            for line in theFile:\n",
    "                file.append(line)\n",
    "            for x in file[4:]:\n",
    "                x = x.split(\",\")\n",
    "                if (str(x[0]).strip() == str(fire[5])):\n",
    "                    pdf.set_value(index,\"temp\",x[(int(fire[6])*2)+1])\n",
    "                    break\n",
    "            count=count+1\n",
    "            curPerc = int(float((count)/float(amount))*100)\n",
    "            if curPerc != lastPerc:\n",
    "                lastPerc = curPerc\n",
    "                print curPerc\n",
    "            break\n",
    "#we save the data for future use\n",
    "pdf.to_pickle(\"monthly_wind_speed_df\")"
   ]
  },
  {
   "cell_type": "code",
   "execution_count": 7,
   "metadata": {
    "collapsed": false
   },
   "outputs": [],
   "source": [
    "hi = np.load(\"monthly_precipitation_df\")"
   ]
  },
  {
   "cell_type": "code",
   "execution_count": 8,
   "metadata": {
    "collapsed": false
   },
   "outputs": [
    {
     "data": {
      "text/html": [
       "<div>\n",
       "<table border=\"1\" class=\"dataframe\">\n",
       "  <thead>\n",
       "    <tr style=\"text-align: right;\">\n",
       "      <th></th>\n",
       "      <th>src_agency</th>\n",
       "      <th>fire_id</th>\n",
       "      <th>firename</th>\n",
       "      <th>latitude</th>\n",
       "      <th>longitude</th>\n",
       "      <th>year</th>\n",
       "      <th>month</th>\n",
       "      <th>day</th>\n",
       "      <th>rep_date</th>\n",
       "      <th>attk_date</th>\n",
       "      <th>...</th>\n",
       "      <th>protzone</th>\n",
       "      <th>fire_type</th>\n",
       "      <th>more_info</th>\n",
       "      <th>cfs_ref_id</th>\n",
       "      <th>cfs_note</th>\n",
       "      <th>cfs_note2</th>\n",
       "      <th>acq_date</th>\n",
       "      <th>ag_srcfile</th>\n",
       "      <th>temp</th>\n",
       "      <th>precipitation</th>\n",
       "    </tr>\n",
       "  </thead>\n",
       "  <tbody>\n",
       "    <tr>\n",
       "      <th>14</th>\n",
       "      <td>AB</td>\n",
       "      <td>EWF008</td>\n",
       "      <td>...</td>\n",
       "      <td>53.531700</td>\n",
       "      <td>-116.807567</td>\n",
       "      <td>2015</td>\n",
       "      <td>4</td>\n",
       "      <td>17</td>\n",
       "      <td>[2015, 4, 17]</td>\n",
       "      <td></td>\n",
       "      <td>...</td>\n",
       "      <td></td>\n",
       "      <td>Wildfire</td>\n",
       "      <td>...</td>\n",
       "      <td>AB-2015-EWF008</td>\n",
       "      <td>...</td>\n",
       "      <td>...</td>\n",
       "      <td>[2016, 6, 14]</td>\n",
       "      <td>AB_firepoints2015</td>\n",
       "      <td>-9999.9</td>\n",
       "      <td>-9999.9</td>\n",
       "    </tr>\n",
       "    <tr>\n",
       "      <th>19</th>\n",
       "      <td>AB</td>\n",
       "      <td>EWF002</td>\n",
       "      <td>...</td>\n",
       "      <td>53.614980</td>\n",
       "      <td>-116.351960</td>\n",
       "      <td>2015</td>\n",
       "      <td>4</td>\n",
       "      <td>9</td>\n",
       "      <td>[2015, 4, 9]</td>\n",
       "      <td></td>\n",
       "      <td>...</td>\n",
       "      <td></td>\n",
       "      <td>Wildfire</td>\n",
       "      <td>...</td>\n",
       "      <td>AB-2015-EWF002</td>\n",
       "      <td>...</td>\n",
       "      <td>...</td>\n",
       "      <td>[2016, 6, 14]</td>\n",
       "      <td>AB_firepoints2015</td>\n",
       "      <td>46.6</td>\n",
       "      <td>-9999.9</td>\n",
       "    </tr>\n",
       "    <tr>\n",
       "      <th>64</th>\n",
       "      <td>AB</td>\n",
       "      <td>PWF035</td>\n",
       "      <td>...</td>\n",
       "      <td>56.417067</td>\n",
       "      <td>-116.647217</td>\n",
       "      <td>2015</td>\n",
       "      <td>5</td>\n",
       "      <td>15</td>\n",
       "      <td>[2015, 5, 15]</td>\n",
       "      <td></td>\n",
       "      <td>...</td>\n",
       "      <td></td>\n",
       "      <td>Wildfire</td>\n",
       "      <td>...</td>\n",
       "      <td>AB-2015-PWF035</td>\n",
       "      <td>...</td>\n",
       "      <td>...</td>\n",
       "      <td>[2016, 6, 14]</td>\n",
       "      <td>AB_firepoints2015</td>\n",
       "      <td>-9999.9</td>\n",
       "      <td>-9999.9</td>\n",
       "    </tr>\n",
       "    <tr>\n",
       "      <th>65</th>\n",
       "      <td>AB</td>\n",
       "      <td>PWF034</td>\n",
       "      <td>...</td>\n",
       "      <td>56.337167</td>\n",
       "      <td>-116.839333</td>\n",
       "      <td>2015</td>\n",
       "      <td>5</td>\n",
       "      <td>15</td>\n",
       "      <td>[2015, 5, 15]</td>\n",
       "      <td></td>\n",
       "      <td>...</td>\n",
       "      <td></td>\n",
       "      <td>Wildfire</td>\n",
       "      <td>...</td>\n",
       "      <td>AB-2015-PWF034</td>\n",
       "      <td>...</td>\n",
       "      <td>...</td>\n",
       "      <td>[2016, 6, 14]</td>\n",
       "      <td>AB_firepoints2015</td>\n",
       "      <td>-9999.9</td>\n",
       "      <td>-9999.9</td>\n",
       "    </tr>\n",
       "    <tr>\n",
       "      <th>72</th>\n",
       "      <td>AB</td>\n",
       "      <td>CWF010</td>\n",
       "      <td>...</td>\n",
       "      <td>51.044850</td>\n",
       "      <td>-115.179167</td>\n",
       "      <td>2015</td>\n",
       "      <td>5</td>\n",
       "      <td>3</td>\n",
       "      <td>[2015, 5, 3]</td>\n",
       "      <td></td>\n",
       "      <td>...</td>\n",
       "      <td></td>\n",
       "      <td>Wildfire</td>\n",
       "      <td>...</td>\n",
       "      <td>AB-2015-CWF010</td>\n",
       "      <td>...</td>\n",
       "      <td>...</td>\n",
       "      <td>[2016, 6, 14]</td>\n",
       "      <td>AB_firepoints2015</td>\n",
       "      <td>-9999.9</td>\n",
       "      <td>-9999.9</td>\n",
       "    </tr>\n",
       "  </tbody>\n",
       "</table>\n",
       "<p>5 rows × 24 columns</p>\n",
       "</div>"
      ],
      "text/plain": [
       "   src_agency fire_id                                           firename  \\\n",
       "14         AB  EWF008                                                ...   \n",
       "19         AB  EWF002                                                ...   \n",
       "64         AB  PWF035                                                ...   \n",
       "65         AB  PWF034                                                ...   \n",
       "72         AB  CWF010                                                ...   \n",
       "\n",
       "     latitude   longitude  year  month  day       rep_date attk_date  \\\n",
       "14  53.531700 -116.807567  2015      4   17  [2015, 4, 17]             \n",
       "19  53.614980 -116.351960  2015      4    9   [2015, 4, 9]             \n",
       "64  56.417067 -116.647217  2015      5   15  [2015, 5, 15]             \n",
       "65  56.337167 -116.839333  2015      5   15  [2015, 5, 15]             \n",
       "72  51.044850 -115.179167  2015      5    3   [2015, 5, 3]             \n",
       "\n",
       "        ...                        protzone fire_type  \\\n",
       "14      ...                                  Wildfire   \n",
       "19      ...                                  Wildfire   \n",
       "64      ...                                  Wildfire   \n",
       "65      ...                                  Wildfire   \n",
       "72      ...                                  Wildfire   \n",
       "\n",
       "                                            more_info      cfs_ref_id  \\\n",
       "14                                                ...  AB-2015-EWF008   \n",
       "19                                                ...  AB-2015-EWF002   \n",
       "64                                                ...  AB-2015-PWF035   \n",
       "65                                                ...  AB-2015-PWF034   \n",
       "72                                                ...  AB-2015-CWF010   \n",
       "\n",
       "                                             cfs_note  \\\n",
       "14                                                ...   \n",
       "19                                                ...   \n",
       "64                                                ...   \n",
       "65                                                ...   \n",
       "72                                                ...   \n",
       "\n",
       "                                            cfs_note2       acq_date  \\\n",
       "14                                                ...  [2016, 6, 14]   \n",
       "19                                                ...  [2016, 6, 14]   \n",
       "64                                                ...  [2016, 6, 14]   \n",
       "65                                                ...  [2016, 6, 14]   \n",
       "72                                                ...  [2016, 6, 14]   \n",
       "\n",
       "           ag_srcfile      temp precipitation  \n",
       "14  AB_firepoints2015   -9999.9       -9999.9  \n",
       "19  AB_firepoints2015      46.6       -9999.9  \n",
       "64  AB_firepoints2015   -9999.9       -9999.9  \n",
       "65  AB_firepoints2015   -9999.9       -9999.9  \n",
       "72  AB_firepoints2015   -9999.9       -9999.9  \n",
       "\n",
       "[5 rows x 24 columns]"
      ]
     },
     "execution_count": 8,
     "metadata": {},
     "output_type": "execute_result"
    }
   ],
   "source": [
    "hi.head()"
   ]
  },
  {
   "cell_type": "code",
   "execution_count": 9,
   "metadata": {
    "collapsed": false
   },
   "outputs": [],
   "source": [
    "hi = hi[(hi[\"cause\"] == \"U\") | (hi[\"cause\"] == \"L\")]"
   ]
  },
  {
   "cell_type": "code",
   "execution_count": 10,
   "metadata": {
    "collapsed": false
   },
   "outputs": [
    {
     "data": {
      "text/plain": [
       "183853"
      ]
     },
     "execution_count": 10,
     "metadata": {},
     "output_type": "execute_result"
    }
   ],
   "source": [
    "len(hi)"
   ]
  },
  {
   "cell_type": "code",
   "execution_count": 11,
   "metadata": {
    "collapsed": false
   },
   "outputs": [
    {
     "data": {
      "text/plain": [
       "array([' -9999.9', '    67.3', '    88.5', ..., '   432.6', '   398.2',\n",
       "       '   366.2'], dtype=object)"
      ]
     },
     "execution_count": 11,
     "metadata": {},
     "output_type": "execute_result"
    }
   ],
   "source": [
    "hi[\"precipitation\"].unique()"
   ]
  },
  {
   "cell_type": "code",
   "execution_count": 12,
   "metadata": {
    "collapsed": true
   },
   "outputs": [],
   "source": [
    "fires = hi[[\"fire_id\",\"latitude\",\"longitude\"]]"
   ]
  },
  {
   "cell_type": "code",
   "execution_count": 13,
   "metadata": {
    "collapsed": false
   },
   "outputs": [
    {
     "data": {
      "text/html": [
       "<div>\n",
       "<table border=\"1\" class=\"dataframe\">\n",
       "  <thead>\n",
       "    <tr style=\"text-align: right;\">\n",
       "      <th></th>\n",
       "      <th>fire_id</th>\n",
       "      <th>latitude</th>\n",
       "      <th>longitude</th>\n",
       "    </tr>\n",
       "  </thead>\n",
       "  <tbody>\n",
       "    <tr>\n",
       "      <th>14</th>\n",
       "      <td>EWF008</td>\n",
       "      <td>53.531700</td>\n",
       "      <td>-116.807567</td>\n",
       "    </tr>\n",
       "    <tr>\n",
       "      <th>19</th>\n",
       "      <td>EWF002</td>\n",
       "      <td>53.614980</td>\n",
       "      <td>-116.351960</td>\n",
       "    </tr>\n",
       "    <tr>\n",
       "      <th>64</th>\n",
       "      <td>PWF035</td>\n",
       "      <td>56.417067</td>\n",
       "      <td>-116.647217</td>\n",
       "    </tr>\n",
       "    <tr>\n",
       "      <th>65</th>\n",
       "      <td>PWF034</td>\n",
       "      <td>56.337167</td>\n",
       "      <td>-116.839333</td>\n",
       "    </tr>\n",
       "    <tr>\n",
       "      <th>72</th>\n",
       "      <td>CWF010</td>\n",
       "      <td>51.044850</td>\n",
       "      <td>-115.179167</td>\n",
       "    </tr>\n",
       "  </tbody>\n",
       "</table>\n",
       "</div>"
      ],
      "text/plain": [
       "   fire_id   latitude   longitude\n",
       "14  EWF008  53.531700 -116.807567\n",
       "19  EWF002  53.614980 -116.351960\n",
       "64  PWF035  56.417067 -116.647217\n",
       "65  PWF034  56.337167 -116.839333\n",
       "72  CWF010  51.044850 -115.179167"
      ]
     },
     "execution_count": 13,
     "metadata": {},
     "output_type": "execute_result"
    }
   ],
   "source": [
    "fires.head()"
   ]
  },
  {
   "cell_type": "code",
   "execution_count": 24,
   "metadata": {
    "collapsed": false
   },
   "outputs": [
    {
     "name": "stdout",
     "output_type": "stream",
     "text": [
      "1\n",
      "2\n",
      "3\n",
      "4\n",
      "5\n",
      "6\n",
      "7\n",
      "8\n",
      "9\n",
      "10\n",
      "11\n",
      "12\n",
      "13\n",
      "14\n",
      "15\n",
      "16\n",
      "17\n",
      "18\n",
      "19\n",
      "20\n",
      "21\n",
      "22\n",
      "23\n",
      "24\n",
      "25\n",
      "26\n",
      "27\n",
      "28\n",
      "29\n",
      "30\n",
      "31\n",
      "32\n",
      "33\n",
      "34\n",
      "35\n",
      "36\n",
      "37\n",
      "38\n",
      "39\n",
      "40\n",
      "41\n",
      "42\n",
      "43\n",
      "44\n",
      "45\n",
      "46\n",
      "47\n",
      "48\n",
      "49\n",
      "50\n",
      "51\n",
      "52\n",
      "53\n",
      "54\n",
      "55\n",
      "56\n",
      "57\n",
      "58\n",
      "59\n",
      "60\n",
      "61\n",
      "62\n",
      "63\n",
      "64\n",
      "65\n",
      "66\n",
      "67\n",
      "68\n",
      "69\n",
      "70\n",
      "71\n",
      "72\n",
      "73\n",
      "74\n",
      "75\n",
      "76\n",
      "77\n",
      "78\n",
      "79\n",
      "80\n",
      "81\n",
      "82\n",
      "83\n",
      "84\n",
      "85\n",
      "86\n",
      "87\n",
      "88\n",
      "89\n",
      "90\n",
      "91\n",
      "92\n",
      "93\n",
      "94\n",
      "95\n",
      "96\n",
      "97\n",
      "98\n",
      "99\n",
      "100\n"
     ]
    }
   ],
   "source": [
    "amount = len(fires)\n",
    "count = 0\n",
    "lastPerc = 0\n",
    "\n",
    "for index, currfire in fires.iterrows():\n",
    "    y = currfire[1]\n",
    "    x = currfire[2]\n",
    "    if ((y > 60.0) & (x <= -100.0)):\n",
    "        fires.set_value(index,\"forest_region\",16)\n",
    "        fires.set_value(index,\"burn_rate\",1)\n",
    "    elif (((x >= -70.0) & (y >= 52.0)) | (x >= -60.0)):\n",
    "        fires.set_value(index,\"forest_region\",11)\n",
    "        fires.set_value(index,\"burn_rate\",1)\n",
    "    elif ((x >= -80.0) & (x <= -71.0) & (y >= 47.0)) | ((x >= -71.0) & (y >= 48.0)):\n",
    "        fires.set_value(index,\"forest_region\",13)\n",
    "        fires.set_value(index,\"burn_rate\",1)\n",
    "    elif (x >= -69.0) & (y <= 47.0):\n",
    "        fires.set_value(index,\"forest_region\",10)\n",
    "        fires.set_value(index,\"burn_rate\",2)\n",
    "    elif y <= 43.0:\n",
    "        fires.set_value(index,\"forest_region\",15)\n",
    "        fires.set_value(index,\"burn_rate\",2)\n",
    "    elif (x >= -94.0) & (y >= 48.0):\n",
    "        fires.set_value(index,\"forest_region\",12)\n",
    "        fires.set_value(index,\"burn_rate\",1)\n",
    "    elif y <= 48.0:\n",
    "        fires.set_value(index,\"forest_region\",7)\n",
    "        fires.set_value(index,\"burn_rate\",2)\n",
    "    elif x >= -102.0:\n",
    "        fires.set_value(index,\"forest_region\",9)\n",
    "        fires.set_value(index,\"burn_rate\",1)\n",
    "    elif (x >= -114.0) & (x <= -104.0) & (y <= 51.0):\n",
    "        fires.set_value(index,\"forest_region\",8)\n",
    "        fires.set_value(index,\"burn_rate\",3)\n",
    "    elif x >= -110.0:\n",
    "        fires.set_value(index,\"forest_region\",14)\n",
    "        fires.set_value(index,\"burn_rate\",1)\n",
    "    elif (x >= -114.0) | ((x >= -120.0) & (y >= 53.0)):\n",
    "        fires.set_value(index,\"forest_region\",1)\n",
    "        fires.set_value(index,\"burn_rate\",1)\n",
    "    elif (x >= -120.0) & (y <= 51.0):\n",
    "        fires.set_value(index,\"forest_region\",3)\n",
    "        fires.set_value(index,\"burn_rate\",1)\n",
    "    elif ((x >= -124.0) & (y >= 56.0)) | (y >= 59.0):\n",
    "        fires.set_value(index,\"forest_region\",4)\n",
    "        fires.set_value(index,\"burn_rate\",1)\n",
    "    elif (x >= -120.0) | ((x >= -128.0) & (y >= 54.0)) | (y >= 56.0):\n",
    "        fires.set_value(index,\"forest_region\",2)\n",
    "        fires.set_value(index,\"burn_rate\",1)\n",
    "    elif (x <= -128.0) | ((x <= -125.0) & (y <= 52.0)) | ((x <= -122.0) & (y <= 50.0)):\n",
    "        fires.set_value(index,\"forest_region\",6)\n",
    "        fires.set_value(index,\"burn_rate\",1)\n",
    "    else:\n",
    "        fires.set_value(index,\"forest_region\",5)\n",
    "        fires.set_value(index,\"burn_rate\",1)\n",
    "    count=count+1\n",
    "    curPerc = int(float((count)/float(amount))*100)\n",
    "    if curPerc != lastPerc:\n",
    "        lastPerc = curPerc\n",
    "        print curPerc\n"
   ]
  },
  {
   "cell_type": "code",
   "execution_count": 27,
   "metadata": {
    "collapsed": false
   },
   "outputs": [],
   "source": [
    "fires.to_pickle(\"fire_regions_df\")"
   ]
  },
  {
   "cell_type": "code",
   "execution_count": 26,
   "metadata": {
    "collapsed": false
   },
   "outputs": [
    {
     "data": {
      "text/plain": [
       "array([  1.,   2.,   3.,   8.,   4.,  16.,   5.,  14.,   6.,   7.,   9.,\n",
       "        12.,  13.,  15.,  11.,  10.])"
      ]
     },
     "execution_count": 26,
     "metadata": {},
     "output_type": "execute_result"
    }
   ],
   "source": [
    "fires[\"forest_region\"].unique()"
   ]
  }
 ],
 "metadata": {
  "anaconda-cloud": {},
  "kernelspec": {
   "display_name": "Python 3",
   "language": "python",
   "name": "python3"
  },
  "language_info": {
   "codemirror_mode": {
    "name": "ipython",
    "version": 3
   },
   "file_extension": ".py",
   "mimetype": "text/x-python",
   "name": "python",
   "nbconvert_exporter": "python",
   "pygments_lexer": "ipython3",
   "version": "3.5.2"
  }
 },
 "nbformat": 4,
 "nbformat_minor": 1
}
