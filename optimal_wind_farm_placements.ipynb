{
 "cells": [
  {
   "cell_type": "code",
   "execution_count": null,
   "metadata": {
    "collapsed": true
   },
   "outputs": [],
   "source": [
    "import numpy as np\n",
    "%matplotlib inline\n",
    "import matplotlib.pyplot as plt\n",
    "import sklearn as sk\n",
    "import shapefile as shp\n",
    "import pandas as pd\n",
    "import math\n",
    "#from mpl_toolkits.basemap import Basemap"
   ]
  },
  {
   "cell_type": "code",
   "execution_count": 2,
   "metadata": {
    "collapsed": false
   },
   "outputs": [],
   "source": [
    "sf = shp.Reader(\"NFDB_point/NFDB_point_20160923\")\n",
    "shapes = sf.shapes()"
   ]
  },
  {
   "cell_type": "code",
   "execution_count": 3,
   "metadata": {
    "collapsed": true
   },
   "outputs": [],
   "source": [
    "records = sf.records()\n",
    "fireArr = []\n",
    "shapeRecs = sf.iterShapeRecords()\n",
    "for x in shapeRecs:\n",
    "    fireArr.append(x.record[0:])"
   ]
  },
  {
   "cell_type": "code",
   "execution_count": 4,
   "metadata": {
    "collapsed": true
   },
   "outputs": [],
   "source": [
    "df = pd.DataFrame(fireArr, columns=['src_agency', 'fire_id', 'firename','latitude','longitude','year','month','day','rep_date','attk_date','out_date','decade','size_ha','cause','protzone','fire_type','more_info','cfs_ref_id','cfs_note','cfs_note2','acq_date','ag_srcfile'])"
   ]
  },
  {
   "cell_type": "code",
   "execution_count": 5,
   "metadata": {
    "collapsed": true
   },
   "outputs": [],
   "source": [
    "df = df[(df[\"cause\"] == \"L\")]"
   ]
  },
  {
   "cell_type": "code",
   "execution_count": 2,
   "metadata": {
    "collapsed": false
   },
   "outputs": [
    {
     "ename": "NameError",
     "evalue": "name 'df' is not defined",
     "output_type": "error",
     "traceback": [
      "\u001b[0;31m---------------------------------------------------------------------------\u001b[0m",
      "\u001b[0;31mNameError\u001b[0m                                 Traceback (most recent call last)",
      "\u001b[0;32m<ipython-input-2-e132725a991a>\u001b[0m in \u001b[0;36m<module>\u001b[0;34m()\u001b[0m\n\u001b[1;32m      1\u001b[0m \u001b[0;31m#62.421221\u001b[0m\u001b[0;34m\u001b[0m\u001b[0;34m\u001b[0m\u001b[0m\n\u001b[1;32m      2\u001b[0m \u001b[0;31m#-119.981689\u001b[0m\u001b[0;34m\u001b[0m\u001b[0;34m\u001b[0m\u001b[0m\n\u001b[0;32m----> 3\u001b[0;31m \u001b[0malberta_area\u001b[0m \u001b[0;34m=\u001b[0m \u001b[0mdf\u001b[0m\u001b[0;34m[\u001b[0m\u001b[0;34m(\u001b[0m\u001b[0mdf\u001b[0m\u001b[0;34m[\u001b[0m\u001b[0;34m\"latitude\"\u001b[0m\u001b[0;34m]\u001b[0m \u001b[0;34m<\u001b[0m \u001b[0;36m55.454331\u001b[0m\u001b[0;34m)\u001b[0m \u001b[0;34m&\u001b[0m \u001b[0;34m(\u001b[0m\u001b[0mdf\u001b[0m\u001b[0;34m[\u001b[0m\u001b[0;34m\"longitude\"\u001b[0m\u001b[0;34m]\u001b[0m \u001b[0;34m>\u001b[0m \u001b[0;34m-\u001b[0m\u001b[0;36m79.881592\u001b[0m\u001b[0;34m)\u001b[0m \u001b[0;34m&\u001b[0m \u001b[0;34m(\u001b[0m\u001b[0mdf\u001b[0m\u001b[0;34m[\u001b[0m\u001b[0;34m\"latitude\"\u001b[0m\u001b[0;34m]\u001b[0m \u001b[0;34m>\u001b[0m \u001b[0;36m48.137225\u001b[0m\u001b[0;34m)\u001b[0m \u001b[0;34m&\u001b[0m \u001b[0;34m(\u001b[0m\u001b[0mdf\u001b[0m\u001b[0;34m[\u001b[0m\u001b[0;34m\"longitude\"\u001b[0m\u001b[0;34m]\u001b[0m \u001b[0;34m<\u001b[0m \u001b[0;34m-\u001b[0m\u001b[0;36m95.240479\u001b[0m\u001b[0;34m)\u001b[0m\u001b[0;34m]\u001b[0m\u001b[0;34m\u001b[0m\u001b[0m\n\u001b[0m",
      "\u001b[0;31mNameError\u001b[0m: name 'df' is not defined"
     ]
    }
   ],
   "source": [
    "#62.421221\n",
    "#-119.981689\n",
    "alberta_area = df[(df[\"latitude\"] < 62.421221) & (df[\"longitude\"] > -119.981689) & (df[\"latitude\"] > 59.142487) & (df[\"longitude\"] < -106.754150)]"
   ]
  },
  {
   "cell_type": "code",
   "execution_count": 7,
   "metadata": {
    "collapsed": false
   },
   "outputs": [
    {
     "data": {
      "image/png": "[encoded data removed]",
      "text/plain": [
       "<matplotlib.figure.Figure at 0x7f66d35cd2e8>"
      ]
     },
     "metadata": {},
     "output_type": "display_data"
    }
   ],
   "source": [
    "from sklearn.cluster import KMeans\n",
    "num_clusters = 200\n",
    "kmeans = KMeans(n_clusters=num_clusters)\n",
    "\n",
    "kcluster = kmeans.fit_predict(alberta_area[['longitude','latitude']])\n",
    "\n",
    "plt.figure()\n",
    "plt.hist(kcluster)\n",
    "plt.show()"
   ]
  },
  {
   "cell_type": "code",
   "execution_count": 8,
   "metadata": {
    "collapsed": true
   },
   "outputs": [],
   "source": [
    "allFiresX = alberta_area[\"latitude\"].as_matrix()\n",
    "allFiresY = alberta_area[\"longitude\"].as_matrix()"
   ]
  },
  {
   "cell_type": "code",
   "execution_count": null,
   "metadata": {
    "collapsed": true
   },
   "outputs": [],
   "source": [
    "new_array = []\n",
    "for i in range(allFiresY.size):\n",
    "    new_array.append([allFiresX[i], allFiresY[i]])\n",
    "new_array = np.array(new_array)"
   ]
  },
  {
   "cell_type": "code",
   "execution_count": null,
   "metadata": {
    "collapsed": false
   },
   "outputs": [],
   "source": [
    "#https://pythonprogramming.net/mean-shift-from-scratch-python-machine-learning-tutorial/\n",
    "from matplotlib import style\n",
    "style.use('ggplot')\n",
    "\n",
    "##plt.scatter(X[:,0], X[:,1], s=150)\n",
    "##plt.show()\n",
    "\n",
    "colors = 10*[\"g\",\"r\",\"c\",\"b\",\"k\"]\n",
    "\n",
    "class Mean_Shift:\n",
    "    def __init__(self, radius=4):\n",
    "        self.radius = radius\n",
    "\n",
    "    def fit(self, data):\n",
    "        centroids = {}\n",
    "\n",
    "        for i in range(len(data)):\n",
    "            centroids[i] = data[i]\n",
    "        \n",
    "        while True:\n",
    "            new_centroids = []\n",
    "            for i in centroids:\n",
    "                in_bandwidth = []\n",
    "                centroid = centroids[i]\n",
    "                for featureset in data:\n",
    "                    if np.linalg.norm(featureset-centroid) < self.radius:\n",
    "                        in_bandwidth.append(featureset)\n",
    "\n",
    "                new_centroid = np.average(in_bandwidth,axis=0)\n",
    "                new_centroids.append(tuple(new_centroid))\n",
    "\n",
    "            uniques = sorted(list(set(new_centroids)))\n",
    "\n",
    "            prev_centroids = list(dict(centroids))\n",
    "\n",
    "            centroids = {}\n",
    "            for i in range(len(uniques)):\n",
    "                centroids[i] = np.array(uniques[i])\n",
    "\n",
    "            optimized = True\n",
    "\n",
    "            for i in centroids:\n",
    "                if not np.array_equal(centroids[i], prev_centroids[i]):\n",
    "                    optimized = False\n",
    "                if not optimized:\n",
    "                    break\n",
    "                \n",
    "            if optimized:\n",
    "                break\n",
    "\n",
    "        self.centroids = centroids\n",
    "\n",
    "\n",
    "\n",
    "clf = Mean_Shift()\n",
    "clf.fit(new_array)\n",
    "\n",
    "centroids = clf.centroids\n",
    "\n",
    "plt.scatter(new_array[:,0], new_array[:,1], s=5)\n",
    "\n",
    "for c in centroids:\n",
    "    plt.scatter(centroids[c][0], centroids[c][1], color='k', marker='*', s=1)\n",
    "plt.show()"
   ]
  },
  {
   "cell_type": "code",
   "execution_count": 18,
   "metadata": {
    "collapsed": false
   },
   "outputs": [
    {
     "name": "stdout",
     "output_type": "stream",
     "text": [
      "60.1038253288 -116.259883494\n",
      "60.1039583592 -116.261509298\n",
      "60.1042382 -116.260668095\n",
      "60.1582357672 -114.92696854\n",
      "60.1583646405 -114.9244523\n",
      "60.1584865522 -114.925291686\n",
      "60.1587879065 -115.072395365\n",
      "60.1589006317 -114.921137623\n",
      "60.1589346757 -115.071555901\n",
      "60.1589766006 -114.917799935\n"
     ]
    }
   ],
   "source": [
    "for c in centroids:\n",
    "    print(centroids[c][0], centroids[c][1])"
   ]
  },
  {
   "cell_type": "code",
   "execution_count": null,
   "metadata": {
    "collapsed": false
   },
   "outputs": [],
   "source": [
    "# clustering.py contains classes and functions that cluster data points\n",
    "import sys, math, random\n",
    "# -- The Point class represents points in n-dimensional space\n",
    "class Point:\n",
    "    # Instance variables\n",
    "    # self.coords is a list of coordinates for this Point\n",
    "    # self.n is the number of dimensions this Point lives in (ie, its space)\n",
    "    # self.reference is an object bound to this Point\n",
    "    # Initialize new Points\n",
    "    def __init__(self, coords, reference=None):\n",
    "        self.coords = coords\n",
    "        self.n = len(coords)\n",
    "        self.reference = reference\n",
    "    # Return a string representation of this Point\n",
    "    def __repr__(self):\n",
    "        return str(self.coords)\n",
    "# -- The Cluster class represents clusters of points in n-dimensional space\n",
    "class Cluster:\n",
    "    # Instance variables\n",
    "    # self.points is a list of Points associated with this Cluster\n",
    "    # self.n is the number of dimensions this Cluster's Points live in\n",
    "    # self.centroid is the sample mean Point of this Cluster\n",
    "    # Initialize new Clusters\n",
    "    def __init__(self, points):\n",
    "        # We forbid empty Clusters (they don't make mathematical sense!)\n",
    "        if len(points) == 0: raise Exception(\"ILLEGAL: EMPTY CLUSTER\")\n",
    "        self.points = points\n",
    "        self.n = points[0].n\n",
    "        # We also forbid Clusters containing Points in different spaces\n",
    "        # Ie, no Clusters with 2D Points and 3D Points\n",
    "        for p in points:\n",
    "            if p.n != self.n: raise Exception(\"ILLEGAL: MULTISPACE CLUSTER\")\n",
    "        # Figure out what the centroid of this Cluster should be\n",
    "        self.centroid = self.calculateCentroid()\n",
    "    # Return a string representation of this Cluster\n",
    "    def __repr__(self):\n",
    "        return str(self.points)\n",
    "    # Update function for the K-means algorithm\n",
    "    # Assigns a new list of Points to this Cluster, returns centroid difference\n",
    "    def update(self, points):\n",
    "        old_centroid = self.centroid\n",
    "        self.points = points\n",
    "        self.centroid = self.calculateCentroid()\n",
    "        return getDistance(old_centroid, self.centroid)\n",
    "    # Calculates the centroid Point - the centroid is the sample mean Point\n",
    "    # (in plain English, the average of all the Points in the Cluster)\n",
    "    def calculateCentroid(self):\n",
    "        centroid_coords = []\n",
    "        # For each coordinate:\n",
    "        for i in range(self.n):\n",
    "            # Take the average across all Points\n",
    "            centroid_coords.append(0.0)\n",
    "            for p in self.points:\n",
    "                centroid_coords[i] = centroid_coords[i]+p.coords[i]\n",
    "            centroid_coords[i] = centroid_coords[i]/len(self.points)\n",
    "        # Return a Point object using the average coordinates\n",
    "        return Point(centroid_coords)\n",
    "    # Return the single-linkage distance between this and another Cluster\n",
    "    def getSingleDistance(self, cluster):\n",
    "        ret = getDistance(self.points[0], cluster.points[0])\n",
    "        for p in self.points:\n",
    "            for q in cluster.points:\n",
    "                distance = getDistance(p, q)\n",
    "                if distance < ret: ret = distance\n",
    "        return ret\n",
    "    # Return the complete-linkage distance between this and another Cluster\n",
    "    def getCompleteDistance(self, cluster):\n",
    "        ret = getDistance(self.points[0], cluster.points[0])\n",
    "        for p in self.points:\n",
    "            for q in cluster.points:\n",
    "                distance = getDistance(p, q)\n",
    "                if distance > ret: ret = distance\n",
    "        return ret\n",
    "    # Return the centroid-linkage distance between this and another Cluster\n",
    "    def getCentroidDistance(self, cluster):\n",
    "        return getDistance(self.centroid, cluster.centroid)\n",
    "    # Return the fusion of this and another Cluster\n",
    "    def fuse(self, cluster):\n",
    "        # Forbid fusion of Clusters in different spaces\n",
    "        if self.n != cluster.n: raise Exception(\"ILLEGAL FUSION\")\n",
    "        points = self.points\n",
    "        points.extend(cluster.points)\n",
    "        return Cluster(points)\n",
    "# -- Return Clusters of Points formed by K-means clustering\n",
    "def kmeans(points, k, cutoff):\n",
    "    # Randomly sample k Points from the points list, build Clusters around them\n",
    "    initial = random.sample(points, k)\n",
    "    clusters = []\n",
    "    for p in initial: clusters.append(Cluster([p]))\n",
    "    # Enter the program loop\n",
    "    while True:\n",
    "        # Make a list for each Cluster\n",
    "        lists = []\n",
    "        for c in clusters: lists.append([])\n",
    "        # For each Point:\n",
    "        for p in points:\n",
    "            # Figure out which Cluster's centroid is the nearest\n",
    "            smallest_distance = getDistance(p, clusters[0].centroid)\n",
    "            index = 0\n",
    "            for i in range(len(clusters[1:])):\n",
    "                distance = getDistance(p, clusters[i+1].centroid)\n",
    "                if distance < smallest_distance:\n",
    "                    smallest_distance = distance\n",
    "                    index = i+1\n",
    "            # Add this Point to that Cluster's corresponding list\n",
    "            lists[index].append(p)\n",
    "        # Update each Cluster with the corresponding list\n",
    "        # Record the biggest centroid shift for any Cluster\n",
    "        biggest_shift = 0.0\n",
    "        for i in range(len(clusters)):\n",
    "            shift = clusters[i].update(lists[i])\n",
    "            biggest_shift = max(biggest_shift, shift)\n",
    "        # If the biggest centroid shift is less than the cutoff, stop\n",
    "        if biggest_shift < cutoff: break\n",
    "    # Return the list of Clusters\n",
    "    return clusters\n",
    "# -- Return a distance matrix which captures distances between all Clusters\n",
    "def makeDistanceMatrix(clusters, linkage):\n",
    "    ret = dict()\n",
    "    for i in range(len(clusters)):\n",
    "        for j in range(len(clusters)):\n",
    "            if j == i: break\n",
    "            if linkage == 's':\n",
    "                ret[(i,j)] = clusters[i].getSingleDistance(clusters[j])\n",
    "            elif linkage == 'c':\n",
    "                ret[(i,j)] = clusters[i].getCompleteDistance(clusters[j])\n",
    "            elif linkage == 't':\n",
    "                ret[(i,j)] = clusters[i].getCentroidDistance(clusters[j])\n",
    "            else: raise Exception(\"INVALID LINKAGE\")\n",
    "    return ret\n",
    "# -- Return Clusters of Points formed by agglomerative clustering\n",
    "def agglo(points, linkage, cutoff):\n",
    "    # Currently, we only allow single, complete, or average linkage\n",
    "    if not linkage in [ 's', 'c', 't' ]: raise Exception(\"INVALID LINKAGE\")\n",
    "    # Create singleton Clusters, one for each Point\n",
    "    clusters = []\n",
    "    for p in points: clusters.append(Cluster([p]))\n",
    "    # Set the min_distance between Clusters to zero\n",
    "    min_distance = 0\n",
    "    # Loop until the break statement is made\n",
    "    while (True):\n",
    "        # Compute a distance matrix for all Clusters\n",
    "        distances = makeDistanceMatrix(clusters, linkage)\n",
    "        # Find the key for the Clusters which are closest together\n",
    "        min_key = list(distances.keys())[0]\n",
    "        min_distance = distances[min_key]\n",
    "        for key in distances.keys():\n",
    "            if distances[key] < min_distance:\n",
    "                min_key = key\n",
    "                min_distance = distances[key]\n",
    "        # If the min_distance is bigger than the cutoff, terminate the loop\n",
    "        # Otherwise, agglomerate the closest clusters\n",
    "        if min_distance > cutoff or len(clusters) == 1: break\n",
    "        else:\n",
    "            c1, c2 = clusters[min_key[0]], clusters[min_key[1]]\n",
    "            clusters.remove(c1)\n",
    "            clusters.remove(c2)\n",
    "            clusters.append(c1.fuse(c2))\n",
    "    # Return the list of Clusters\n",
    "    return clusters\n",
    "# -- Get the Euclidean distance between two Points\n",
    "def getDistance(a, b):\n",
    "    # Forbid measurements between Points in different spaces\n",
    "    if a.n != b.n: raise Exception(\"ILLEGAL: NON-COMPARABLE POINTS\")\n",
    "    # Euclidean distance between a and b is sqrt(sum((a[i]-b[i])^2) for all i)\n",
    "    ret = 0.0\n",
    "    for i in range(a.n):\n",
    "        ret = ret+pow((a.coords[i]-b.coords[i]), 2)\n",
    "    return math.sqrt(ret)\n",
    "# -- Create a random Point in n-dimensional space\n",
    "def makeRandomPoint(n, lower, upper):\n",
    "    coords = []\n",
    "    for i in range(n): coords.append(random.uniform(lower, upper))\n",
    "    return Point(coords)\n",
    "# -- Plot Clusters using Tkinter\n",
    "def plot(clusters):\n",
    "    root = Tk()\n",
    "    cp = ClusterPlot(root)\n",
    "    root.mainLoop()\n",
    "# -- Main function"
   ]
  },
  {
   "cell_type": "code",
   "execution_count": null,
   "metadata": {
    "collapsed": false,
    "scrolled": true
   },
   "outputs": [],
   "source": [
    "def main(args):\n",
    "    num_points, n, lower, upper = 10, 2, -200, 200\n",
    "    #k, kmeans_cutoff = 3, 0.5\n",
    "    linkage, agglo_cutoff = 's', 0.3\n",
    "    # Create num_points random Points in n-dimensional space, print them\n",
    "    #print(\"\\nPOINTS:\")\n",
    "    points = []\n",
    "    for i in range(allFiresX.size):\n",
    "        p = Point([allFiresX[i], allFiresY[i]])\n",
    "        points.append(p)\n",
    "    print (\"yep\")\n",
    "    # Cluster the points using the K-means algorithm, print the results\n",
    "    #clusters = kmeans(points, k, kmeans_cutoff)\n",
    "    #print(\"\\nK-MEANS\\nCLUSTERS:\")\n",
    "    #for c in clusters: print(\"C:\", c)\n",
    "    # Cluster the points using the agglomerative algorithm, print the results\n",
    "    clusters = agglo(points, linkage, agglo_cutoff)\n",
    "    print(\"\\nAGGLOMERATIVE\\nCLUSTERS:\")\n",
    "    for c in clusters: print(\"C:\", c)\n",
    "# -- The following code executes upon command-line invocation\n",
    "if __name__ == \"__main__\": main(sys.argv)"
   ]
  },
  {
   "cell_type": "code",
   "execution_count": null,
   "metadata": {
    "collapsed": false
   },
   "outputs": [],
   "source": [
    "allFiresX"
   ]
  },
  {
   "cell_type": "code",
   "execution_count": null,
   "metadata": {
    "collapsed": true
   },
   "outputs": [],
   "source": []
  }
 ],
 "metadata": {
  "kernelspec": {
   "display_name": "Python 3",
   "language": "python",
   "name": "python3"
  },
  "language_info": {
   "codemirror_mode": {
    "name": "ipython",
    "version": 3
   },
   "file_extension": ".py",
   "mimetype": "text/x-python",
   "name": "python",
   "nbconvert_exporter": "python",
   "pygments_lexer": "ipython3",
   "version": "3.5.2"
  }
 },
 "nbformat": 4,
 "nbformat_minor": 1
}
